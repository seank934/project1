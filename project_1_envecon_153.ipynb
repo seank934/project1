{
  "cells": [
    {
      "cell_type": "markdown",
      "metadata": {
        "id": "view-in-github",
        "colab_type": "text"
      },
      "source": [
        "<a href=\"https://colab.research.google.com/github/seank934/project1/blob/main/project_1_envecon_153.ipynb\" target=\"_parent\"><img src=\"https://colab.research.google.com/assets/colab-badge.svg\" alt=\"Open In Colab\"/></a>"
      ]
    },
    {
      "cell_type": "markdown",
      "metadata": {
        "id": "r6Fm3tFUQQW5"
      },
      "source": [
        "# Project 1 "
      ]
    },
    {
      "cell_type": "code",
      "execution_count": null,
      "metadata": {
        "colab": {
          "base_uri": "https://localhost:8080/"
        },
        "id": "VZ8s37LMUXpf",
        "outputId": "b61aa2d6-1044-4c62-a353-1f71e67fa30a"
      },
      "outputs": [
        {
          "output_type": "stream",
          "name": "stdout",
          "text": [
            "Requirement already satisfied: wbdata in /usr/local/lib/python3.7/dist-packages (0.3.0)\n",
            "Requirement already satisfied: appdirs<2.0,>=1.4 in /usr/local/lib/python3.7/dist-packages (from wbdata) (1.4.4)\n",
            "Requirement already satisfied: tabulate>=0.8.5 in /usr/local/lib/python3.7/dist-packages (from wbdata) (0.8.9)\n",
            "Requirement already satisfied: requests>=2.0 in /usr/local/lib/python3.7/dist-packages (from wbdata) (2.23.0)\n",
            "Requirement already satisfied: decorator>=4.0 in /usr/local/lib/python3.7/dist-packages (from wbdata) (4.4.2)\n",
            "Requirement already satisfied: certifi>=2017.4.17 in /usr/local/lib/python3.7/dist-packages (from requests>=2.0->wbdata) (2021.10.8)\n",
            "Requirement already satisfied: urllib3!=1.25.0,!=1.25.1,<1.26,>=1.21.1 in /usr/local/lib/python3.7/dist-packages (from requests>=2.0->wbdata) (1.24.3)\n",
            "Requirement already satisfied: idna<3,>=2.5 in /usr/local/lib/python3.7/dist-packages (from requests>=2.0->wbdata) (2.10)\n",
            "Requirement already satisfied: chardet<4,>=3.0.2 in /usr/local/lib/python3.7/dist-packages (from requests>=2.0->wbdata) (3.0.4)\n",
            "Requirement already satisfied: ipywidgets in /usr/local/lib/python3.7/dist-packages (7.6.5)\n",
            "Requirement already satisfied: widgetsnbextension~=3.5.0 in /usr/local/lib/python3.7/dist-packages (from ipywidgets) (3.5.2)\n",
            "Requirement already satisfied: jupyterlab-widgets>=1.0.0 in /usr/local/lib/python3.7/dist-packages (from ipywidgets) (1.0.2)\n",
            "Requirement already satisfied: ipykernel>=4.5.1 in /usr/local/lib/python3.7/dist-packages (from ipywidgets) (4.10.1)\n",
            "Requirement already satisfied: nbformat>=4.2.0 in /usr/local/lib/python3.7/dist-packages (from ipywidgets) (5.1.3)\n",
            "Requirement already satisfied: traitlets>=4.3.1 in /usr/local/lib/python3.7/dist-packages (from ipywidgets) (5.1.1)\n",
            "Requirement already satisfied: ipython-genutils~=0.2.0 in /usr/local/lib/python3.7/dist-packages (from ipywidgets) (0.2.0)\n",
            "Requirement already satisfied: ipython>=4.0.0 in /usr/local/lib/python3.7/dist-packages (from ipywidgets) (5.5.0)\n",
            "Requirement already satisfied: jupyter-client in /usr/local/lib/python3.7/dist-packages (from ipykernel>=4.5.1->ipywidgets) (5.3.5)\n",
            "Requirement already satisfied: tornado>=4.0 in /usr/local/lib/python3.7/dist-packages (from ipykernel>=4.5.1->ipywidgets) (5.1.1)\n",
            "Requirement already satisfied: setuptools>=18.5 in /usr/local/lib/python3.7/dist-packages (from ipython>=4.0.0->ipywidgets) (57.4.0)\n",
            "Requirement already satisfied: pickleshare in /usr/local/lib/python3.7/dist-packages (from ipython>=4.0.0->ipywidgets) (0.7.5)\n",
            "Requirement already satisfied: prompt-toolkit<2.0.0,>=1.0.4 in /usr/local/lib/python3.7/dist-packages (from ipython>=4.0.0->ipywidgets) (1.0.18)\n",
            "Requirement already satisfied: pygments in /usr/local/lib/python3.7/dist-packages (from ipython>=4.0.0->ipywidgets) (2.6.1)\n",
            "Requirement already satisfied: decorator in /usr/local/lib/python3.7/dist-packages (from ipython>=4.0.0->ipywidgets) (4.4.2)\n",
            "Requirement already satisfied: simplegeneric>0.8 in /usr/local/lib/python3.7/dist-packages (from ipython>=4.0.0->ipywidgets) (0.8.1)\n",
            "Requirement already satisfied: pexpect in /usr/local/lib/python3.7/dist-packages (from ipython>=4.0.0->ipywidgets) (4.8.0)\n",
            "Requirement already satisfied: jupyter-core in /usr/local/lib/python3.7/dist-packages (from nbformat>=4.2.0->ipywidgets) (4.9.1)\n",
            "Requirement already satisfied: jsonschema!=2.5.0,>=2.4 in /usr/local/lib/python3.7/dist-packages (from nbformat>=4.2.0->ipywidgets) (4.3.3)\n",
            "Requirement already satisfied: importlib-resources>=1.4.0 in /usr/local/lib/python3.7/dist-packages (from jsonschema!=2.5.0,>=2.4->nbformat>=4.2.0->ipywidgets) (5.4.0)\n",
            "Requirement already satisfied: pyrsistent!=0.17.0,!=0.17.1,!=0.17.2,>=0.14.0 in /usr/local/lib/python3.7/dist-packages (from jsonschema!=2.5.0,>=2.4->nbformat>=4.2.0->ipywidgets) (0.18.1)\n",
            "Requirement already satisfied: importlib-metadata in /usr/local/lib/python3.7/dist-packages (from jsonschema!=2.5.0,>=2.4->nbformat>=4.2.0->ipywidgets) (4.10.1)\n",
            "Requirement already satisfied: attrs>=17.4.0 in /usr/local/lib/python3.7/dist-packages (from jsonschema!=2.5.0,>=2.4->nbformat>=4.2.0->ipywidgets) (21.4.0)\n",
            "Requirement already satisfied: typing-extensions in /usr/local/lib/python3.7/dist-packages (from jsonschema!=2.5.0,>=2.4->nbformat>=4.2.0->ipywidgets) (3.10.0.2)\n",
            "Requirement already satisfied: zipp>=3.1.0 in /usr/local/lib/python3.7/dist-packages (from importlib-resources>=1.4.0->jsonschema!=2.5.0,>=2.4->nbformat>=4.2.0->ipywidgets) (3.7.0)\n",
            "Requirement already satisfied: wcwidth in /usr/local/lib/python3.7/dist-packages (from prompt-toolkit<2.0.0,>=1.0.4->ipython>=4.0.0->ipywidgets) (0.2.5)\n",
            "Requirement already satisfied: six>=1.9.0 in /usr/local/lib/python3.7/dist-packages (from prompt-toolkit<2.0.0,>=1.0.4->ipython>=4.0.0->ipywidgets) (1.15.0)\n",
            "Requirement already satisfied: notebook>=4.4.1 in /usr/local/lib/python3.7/dist-packages (from widgetsnbextension~=3.5.0->ipywidgets) (5.3.1)\n",
            "Requirement already satisfied: Send2Trash in /usr/local/lib/python3.7/dist-packages (from notebook>=4.4.1->widgetsnbextension~=3.5.0->ipywidgets) (1.8.0)\n",
            "Requirement already satisfied: nbconvert in /usr/local/lib/python3.7/dist-packages (from notebook>=4.4.1->widgetsnbextension~=3.5.0->ipywidgets) (5.6.1)\n",
            "Requirement already satisfied: terminado>=0.8.1 in /usr/local/lib/python3.7/dist-packages (from notebook>=4.4.1->widgetsnbextension~=3.5.0->ipywidgets) (0.13.1)\n",
            "Requirement already satisfied: jinja2 in /usr/local/lib/python3.7/dist-packages (from notebook>=4.4.1->widgetsnbextension~=3.5.0->ipywidgets) (2.11.3)\n",
            "Requirement already satisfied: pyzmq>=13 in /usr/local/lib/python3.7/dist-packages (from jupyter-client->ipykernel>=4.5.1->ipywidgets) (22.3.0)\n",
            "Requirement already satisfied: python-dateutil>=2.1 in /usr/local/lib/python3.7/dist-packages (from jupyter-client->ipykernel>=4.5.1->ipywidgets) (2.8.2)\n",
            "Requirement already satisfied: ptyprocess in /usr/local/lib/python3.7/dist-packages (from terminado>=0.8.1->notebook>=4.4.1->widgetsnbextension~=3.5.0->ipywidgets) (0.7.0)\n",
            "Requirement already satisfied: MarkupSafe>=0.23 in /usr/local/lib/python3.7/dist-packages (from jinja2->notebook>=4.4.1->widgetsnbextension~=3.5.0->ipywidgets) (2.0.1)\n",
            "Requirement already satisfied: defusedxml in /usr/local/lib/python3.7/dist-packages (from nbconvert->notebook>=4.4.1->widgetsnbextension~=3.5.0->ipywidgets) (0.7.1)\n",
            "Requirement already satisfied: bleach in /usr/local/lib/python3.7/dist-packages (from nbconvert->notebook>=4.4.1->widgetsnbextension~=3.5.0->ipywidgets) (4.1.0)\n",
            "Requirement already satisfied: pandocfilters>=1.4.1 in /usr/local/lib/python3.7/dist-packages (from nbconvert->notebook>=4.4.1->widgetsnbextension~=3.5.0->ipywidgets) (1.5.0)\n",
            "Requirement already satisfied: testpath in /usr/local/lib/python3.7/dist-packages (from nbconvert->notebook>=4.4.1->widgetsnbextension~=3.5.0->ipywidgets) (0.5.0)\n",
            "Requirement already satisfied: entrypoints>=0.2.2 in /usr/local/lib/python3.7/dist-packages (from nbconvert->notebook>=4.4.1->widgetsnbextension~=3.5.0->ipywidgets) (0.4)\n",
            "Requirement already satisfied: mistune<2,>=0.8.1 in /usr/local/lib/python3.7/dist-packages (from nbconvert->notebook>=4.4.1->widgetsnbextension~=3.5.0->ipywidgets) (0.8.4)\n",
            "Requirement already satisfied: packaging in /usr/local/lib/python3.7/dist-packages (from bleach->nbconvert->notebook>=4.4.1->widgetsnbextension~=3.5.0->ipywidgets) (21.3)\n",
            "Requirement already satisfied: webencodings in /usr/local/lib/python3.7/dist-packages (from bleach->nbconvert->notebook>=4.4.1->widgetsnbextension~=3.5.0->ipywidgets) (0.5.1)\n",
            "Requirement already satisfied: pyparsing!=3.0.5,>=2.0.2 in /usr/local/lib/python3.7/dist-packages (from packaging->bleach->nbconvert->notebook>=4.4.1->widgetsnbextension~=3.5.0->ipywidgets) (3.0.7)\n",
            "Enabling notebook extension jupyter-js-widgets/extension...\n",
            "      - Validating: \u001b[32mOK\u001b[0m\n",
            "Requirement already satisfied: geopandas in /usr/local/lib/python3.7/dist-packages (0.10.2)\n",
            "Requirement already satisfied: pyproj>=2.2.0 in /usr/local/lib/python3.7/dist-packages (from geopandas) (3.2.1)\n",
            "Requirement already satisfied: pandas>=0.25.0 in /usr/local/lib/python3.7/dist-packages (from geopandas) (1.3.5)\n",
            "Requirement already satisfied: shapely>=1.6 in /usr/local/lib/python3.7/dist-packages (from geopandas) (1.8.0)\n",
            "Requirement already satisfied: fiona>=1.8 in /usr/local/lib/python3.7/dist-packages (from geopandas) (1.8.21)\n",
            "Requirement already satisfied: setuptools in /usr/local/lib/python3.7/dist-packages (from fiona>=1.8->geopandas) (57.4.0)\n",
            "Requirement already satisfied: six>=1.7 in /usr/local/lib/python3.7/dist-packages (from fiona>=1.8->geopandas) (1.15.0)\n",
            "Requirement already satisfied: munch in /usr/local/lib/python3.7/dist-packages (from fiona>=1.8->geopandas) (2.5.0)\n",
            "Requirement already satisfied: click>=4.0 in /usr/local/lib/python3.7/dist-packages (from fiona>=1.8->geopandas) (7.1.2)\n",
            "Requirement already satisfied: certifi in /usr/local/lib/python3.7/dist-packages (from fiona>=1.8->geopandas) (2021.10.8)\n",
            "Requirement already satisfied: cligj>=0.5 in /usr/local/lib/python3.7/dist-packages (from fiona>=1.8->geopandas) (0.7.2)\n",
            "Requirement already satisfied: click-plugins>=1.0 in /usr/local/lib/python3.7/dist-packages (from fiona>=1.8->geopandas) (1.1.1)\n",
            "Requirement already satisfied: attrs>=17 in /usr/local/lib/python3.7/dist-packages (from fiona>=1.8->geopandas) (21.4.0)\n",
            "Requirement already satisfied: pytz>=2017.3 in /usr/local/lib/python3.7/dist-packages (from pandas>=0.25.0->geopandas) (2018.9)\n",
            "Requirement already satisfied: python-dateutil>=2.7.3 in /usr/local/lib/python3.7/dist-packages (from pandas>=0.25.0->geopandas) (2.8.2)\n",
            "Requirement already satisfied: numpy>=1.17.3 in /usr/local/lib/python3.7/dist-packages (from pandas>=0.25.0->geopandas) (1.19.5)\n"
          ]
        }
      ],
      "source": [
        "!pip install wbdata\n",
        "import wbdata\n",
        "import pandas as pd\n",
        "import plotly.offline as py\n",
        "import plotly.graph_objs as go\n",
        "import numpy as np\n",
        "!pip install ipywidgets\n",
        "!jupyter nbextension enable --py widgetsnbextension\n",
        "from ipywidgets import interact, interactive, fixed, interact_manual\n",
        "import ipywidgets as widgets\n",
        "import cufflinks as cf\n",
        "import seaborn as sns\n",
        "import matplotlib.pyplot as plt\n",
        "!pip install geopandas\n",
        "import geopandas"
      ]
    },
    {
      "cell_type": "code",
      "execution_count": null,
      "metadata": {
        "id": "COKd0_JZYKLQ"
      },
      "outputs": [],
      "source": [
        "SOURCE = 40\n",
        "indicators = wbdata.get_indicator(source = SOURCE)\n",
        "#indicators"
      ]
    },
    {
      "cell_type": "code",
      "execution_count": null,
      "metadata": {
        "colab": {
          "base_uri": "https://localhost:8080/",
          "height": 455
        },
        "id": "nb0Y2drOjEjp",
        "outputId": "e58e8f0b-d815-49a3-fa8f-caf29555dbe3"
      },
      "outputs": [
        {
          "output_type": "execute_result",
          "data": {
            "text/html": [
              "\n",
              "  <div id=\"df-cc2186d3-d21e-4a84-b358-ba5f835073ec\">\n",
              "    <div class=\"colab-df-container\">\n",
              "      <div>\n",
              "<style scoped>\n",
              "    .dataframe tbody tr th:only-of-type {\n",
              "        vertical-align: middle;\n",
              "    }\n",
              "\n",
              "    .dataframe tbody tr th {\n",
              "        vertical-align: top;\n",
              "    }\n",
              "\n",
              "    .dataframe thead th {\n",
              "        text-align: right;\n",
              "    }\n",
              "</style>\n",
              "<table border=\"1\" class=\"dataframe\">\n",
              "  <thead>\n",
              "    <tr style=\"text-align: right;\">\n",
              "      <th></th>\n",
              "      <th>Russia Population</th>\n",
              "      <th>hello</th>\n",
              "    </tr>\n",
              "    <tr>\n",
              "      <th>date</th>\n",
              "      <th></th>\n",
              "      <th></th>\n",
              "    </tr>\n",
              "  </thead>\n",
              "  <tbody>\n",
              "    <tr>\n",
              "      <th>2021</th>\n",
              "      <td>NaN</td>\n",
              "      <td>NaN</td>\n",
              "    </tr>\n",
              "    <tr>\n",
              "      <th>2020</th>\n",
              "      <td>4602435.0</td>\n",
              "      <td>682333.0</td>\n",
              "    </tr>\n",
              "    <tr>\n",
              "      <th>2019</th>\n",
              "      <td>4727216.0</td>\n",
              "      <td>734315.0</td>\n",
              "    </tr>\n",
              "    <tr>\n",
              "      <th>2018</th>\n",
              "      <td>4778335.0</td>\n",
              "      <td>785540.0</td>\n",
              "    </tr>\n",
              "    <tr>\n",
              "      <th>2017</th>\n",
              "      <td>4777615.0</td>\n",
              "      <td>835162.0</td>\n",
              "    </tr>\n",
              "    <tr>\n",
              "      <th>...</th>\n",
              "      <td>...</td>\n",
              "      <td>...</td>\n",
              "    </tr>\n",
              "    <tr>\n",
              "      <th>1964</th>\n",
              "      <td>2005496.0</td>\n",
              "      <td>849046.0</td>\n",
              "    </tr>\n",
              "    <tr>\n",
              "      <th>1963</th>\n",
              "      <td>1902053.0</td>\n",
              "      <td>1034048.0</td>\n",
              "    </tr>\n",
              "    <tr>\n",
              "      <th>1962</th>\n",
              "      <td>1801633.0</td>\n",
              "      <td>1240861.0</td>\n",
              "    </tr>\n",
              "    <tr>\n",
              "      <th>1961</th>\n",
              "      <td>1708910.0</td>\n",
              "      <td>1361328.0</td>\n",
              "    </tr>\n",
              "    <tr>\n",
              "      <th>1960</th>\n",
              "      <td>1627317.0</td>\n",
              "      <td>1332976.0</td>\n",
              "    </tr>\n",
              "  </tbody>\n",
              "</table>\n",
              "<p>62 rows × 2 columns</p>\n",
              "</div>\n",
              "      <button class=\"colab-df-convert\" onclick=\"convertToInteractive('df-cc2186d3-d21e-4a84-b358-ba5f835073ec')\"\n",
              "              title=\"Convert this dataframe to an interactive table.\"\n",
              "              style=\"display:none;\">\n",
              "        \n",
              "  <svg xmlns=\"http://www.w3.org/2000/svg\" height=\"24px\"viewBox=\"0 0 24 24\"\n",
              "       width=\"24px\">\n",
              "    <path d=\"M0 0h24v24H0V0z\" fill=\"none\"/>\n",
              "    <path d=\"M18.56 5.44l.94 2.06.94-2.06 2.06-.94-2.06-.94-.94-2.06-.94 2.06-2.06.94zm-11 1L8.5 8.5l.94-2.06 2.06-.94-2.06-.94L8.5 2.5l-.94 2.06-2.06.94zm10 10l.94 2.06.94-2.06 2.06-.94-2.06-.94-.94-2.06-.94 2.06-2.06.94z\"/><path d=\"M17.41 7.96l-1.37-1.37c-.4-.4-.92-.59-1.43-.59-.52 0-1.04.2-1.43.59L10.3 9.45l-7.72 7.72c-.78.78-.78 2.05 0 2.83L4 21.41c.39.39.9.59 1.41.59.51 0 1.02-.2 1.41-.59l7.78-7.78 2.81-2.81c.8-.78.8-2.07 0-2.86zM5.41 20L4 18.59l7.72-7.72 1.47 1.35L5.41 20z\"/>\n",
              "  </svg>\n",
              "      </button>\n",
              "      \n",
              "  <style>\n",
              "    .colab-df-container {\n",
              "      display:flex;\n",
              "      flex-wrap:wrap;\n",
              "      gap: 12px;\n",
              "    }\n",
              "\n",
              "    .colab-df-convert {\n",
              "      background-color: #E8F0FE;\n",
              "      border: none;\n",
              "      border-radius: 50%;\n",
              "      cursor: pointer;\n",
              "      display: none;\n",
              "      fill: #1967D2;\n",
              "      height: 32px;\n",
              "      padding: 0 0 0 0;\n",
              "      width: 32px;\n",
              "    }\n",
              "\n",
              "    .colab-df-convert:hover {\n",
              "      background-color: #E2EBFA;\n",
              "      box-shadow: 0px 1px 2px rgba(60, 64, 67, 0.3), 0px 1px 3px 1px rgba(60, 64, 67, 0.15);\n",
              "      fill: #174EA6;\n",
              "    }\n",
              "\n",
              "    [theme=dark] .colab-df-convert {\n",
              "      background-color: #3B4455;\n",
              "      fill: #D2E3FC;\n",
              "    }\n",
              "\n",
              "    [theme=dark] .colab-df-convert:hover {\n",
              "      background-color: #434B5C;\n",
              "      box-shadow: 0px 1px 3px 1px rgba(0, 0, 0, 0.15);\n",
              "      filter: drop-shadow(0px 1px 2px rgba(0, 0, 0, 0.3));\n",
              "      fill: #FFFFFF;\n",
              "    }\n",
              "  </style>\n",
              "\n",
              "      <script>\n",
              "        const buttonEl =\n",
              "          document.querySelector('#df-cc2186d3-d21e-4a84-b358-ba5f835073ec button.colab-df-convert');\n",
              "        buttonEl.style.display =\n",
              "          google.colab.kernel.accessAllowed ? 'block' : 'none';\n",
              "\n",
              "        async function convertToInteractive(key) {\n",
              "          const element = document.querySelector('#df-cc2186d3-d21e-4a84-b358-ba5f835073ec');\n",
              "          const dataTable =\n",
              "            await google.colab.kernel.invokeFunction('convertToInteractive',\n",
              "                                                     [key], {});\n",
              "          if (!dataTable) return;\n",
              "\n",
              "          const docLinkHtml = 'Like what you see? Visit the ' +\n",
              "            '<a target=\"_blank\" href=https://colab.research.google.com/notebooks/data_table.ipynb>data table notebook</a>'\n",
              "            + ' to learn more about interactive tables.';\n",
              "          element.innerHTML = '';\n",
              "          dataTable['output_type'] = 'display_data';\n",
              "          await google.colab.output.renderOutput(dataTable, element);\n",
              "          const docLink = document.createElement('div');\n",
              "          docLink.innerHTML = docLinkHtml;\n",
              "          element.appendChild(docLink);\n",
              "        }\n",
              "      </script>\n",
              "    </div>\n",
              "  </div>\n",
              "  "
            ],
            "text/plain": [
              "      Russia Population      hello\n",
              "date                              \n",
              "2021                NaN        NaN\n",
              "2020          4602435.0   682333.0\n",
              "2019          4727216.0   734315.0\n",
              "2018          4778335.0   785540.0\n",
              "2017          4777615.0   835162.0\n",
              "...                 ...        ...\n",
              "1964          2005496.0   849046.0\n",
              "1963          1902053.0  1034048.0\n",
              "1962          1801633.0  1240861.0\n",
              "1961          1708910.0  1361328.0\n",
              "1960          1627317.0  1332976.0\n",
              "\n",
              "[62 rows x 2 columns]"
            ]
          },
          "metadata": {},
          "execution_count": 147
        }
      ],
      "source": [
        "wbdata.get_dataframe({\"SP.POP.5559.MA\":\"Russia Population\", \"SP.POP.AG23.MA.IN\": \"hello\"}, country=\"RUS\")"
      ]
    },
    {
      "cell_type": "markdown",
      "metadata": {
        "id": "Ko3iCDaUQ5WZ"
      },
      "source": [
        "## [#A] Population Statistics"
      ]
    },
    {
      "cell_type": "code",
      "execution_count": null,
      "metadata": {
        "id": "HWaiFpm6W9X3"
      },
      "outputs": [],
      "source": [
        "def round_first(age):\n",
        "  k = age - age % 5\n",
        "  return np.max([0, k])\n",
        "\n",
        "def round_last(age):\n",
        "  return age - age % 5 + 4\n",
        "\n",
        "\n",
        "def population(year, sex, age_range, place):\n",
        "  # find population dataframe for age range (currently assuming age_range values are multiple of 5; add interpolation in the future)\n",
        "  variable_labels = []\n",
        "  \n",
        "  sex_postfix = \"MA\"\n",
        "  if sex == \"Female\":\n",
        "    sex_postfix = \"FE\"\n",
        "  first = round_first(age_range[0])\n",
        "  last = np.min([80, round_last(age_range[1])])\n",
        "  for i in range(first, last, 5):\n",
        "    variable_labels.append(\"SP.POP.\" + f\"{i:02d}\" + f\"{i+4:02d}\" + \".\" + sex_postfix)\n",
        "  \n",
        "  # manually add 80UP \n",
        "  if age_range[1] >= 80:\n",
        "    variable_labels.append(\"SP.POP.80UP.\" + sex_postfix)\n",
        "    \n",
        "  empty_dict = {}\n",
        "  for i in variable_labels:\n",
        "      empty_dict[i] = i\n",
        "  pop = wbdata.get_dataframe(empty_dict, country=place)\n",
        "  pop = pop.transpose()\n",
        "  pop = pop[str(year)].sum()\n",
        "  return pop"
      ]
    },
    {
      "cell_type": "code",
      "execution_count": null,
      "metadata": {
        "colab": {
          "base_uri": "https://localhost:8080/"
        },
        "id": "GSsf2WlMY7p4",
        "outputId": "f23fb88a-4b16-45d4-dee0-8e312535e7e8"
      },
      "outputs": [
        {
          "output_type": "execute_result",
          "data": {
            "text/plain": [
              "14827326.0"
            ]
          },
          "metadata": {},
          "execution_count": 149
        }
      ],
      "source": [
        "population(year=1966,sex='Male',age_range=(18,26),place='RUS')"
      ]
    },
    {
      "cell_type": "code",
      "execution_count": null,
      "metadata": {
        "id": "j5AauKvKbucn"
      },
      "outputs": [],
      "source": [
        "# assert population(year=2000,sex='Male',age_range=(0,100),place='WLD') > 7e9\n",
        "# This should be false because the male population should never be exceeding 7 billion in the year 2000 as that is the entire world population."
      ]
    },
    {
      "cell_type": "markdown",
      "metadata": {
        "id": "EF6FK1EmRDHC"
      },
      "source": [
        "## [#A] Population DataFrames\n",
        "\n"
      ]
    },
    {
      "cell_type": "code",
      "execution_count": null,
      "metadata": {
        "id": "3me5q-7_hS7c"
      },
      "outputs": [],
      "source": [
        "def new_pop(place):\n",
        "  # find population dataframe for age range (currently assuming age_range values are multiple of 5; add interpolation in the future)\n",
        "  variable_labels_male = {}\n",
        "  variable_labels_female = {}\n",
        "  \n",
        "  for i in range(0, 80, 5):\n",
        "    variable_labels_male[\"SP.POP.\" + f\"{i:02d}\" + f\"{i+4:02d}\" + \".\" + 'MA'] = (i, i+4)\n",
        "    variable_labels_female[\"SP.POP.\" + f\"{i:02d}\" + f\"{i+4:02d}\" + \".\" + 'FE'] = (i, i+4)\n",
        "  \n",
        "  # manually add 80UP \n",
        "  variable_labels_male[\"SP.POP.80UP.\" + 'MA'] = ('80 and up')\n",
        "  variable_labels_female[\"SP.POP.80UP.\" + 'FE'] = ('80 and up')\n",
        "\n",
        "  pop_m = wbdata.get_dataframe(variable_labels_male, country=place)\n",
        "  pop_m = pop_m.transpose()\n",
        "  pop_m = pop_m.stack().reset_index(-1).iloc[:, ::-1]\n",
        "  pop_m = pop_m.reset_index()\n",
        "  pop_m = pop_m.rename(columns={0: 'male', \"index\": \"age group\"})\n",
        "\n",
        "  pop_f = wbdata.get_dataframe(variable_labels_female, country=place)\n",
        "  pop_f = pop_f.transpose()\n",
        "  pop_f = pop_f.stack().reset_index(-1).iloc[:, ::-1]\n",
        "  pop_f = pop_f.reset_index()\n",
        "  pop_f = pop_f.rename(columns={0: 'female', \"index\": \"age group\"})\n",
        "\n",
        "  pop =  pd.merge(pop_m, pop_f,  how='left', left_on=['age group','date'], right_on = ['age group','date'])\n",
        "\n",
        "  return pop"
      ]
    },
    {
      "cell_type": "code",
      "execution_count": null,
      "metadata": {
        "colab": {
          "base_uri": "https://localhost:8080/",
          "height": 495
        },
        "id": "_BZkv0lUUzmr",
        "outputId": "c40fe79d-b35f-49cd-b584-e3a5b94950e9"
      },
      "outputs": [
        {
          "output_type": "stream",
          "name": "stderr",
          "text": [
            "/usr/local/lib/python3.7/dist-packages/pandas/core/frame.py:9138: FutureWarning:\n",
            "\n",
            "merging between different levels is deprecated and will be removed in a future version. (2 levels on the left,1 on the right)\n",
            "\n"
          ]
        },
        {
          "output_type": "execute_result",
          "data": {
            "text/html": [
              "\n",
              "  <div id=\"df-381fcd52-e89d-45a5-ab82-a769ec07f2db\">\n",
              "    <div class=\"colab-df-container\">\n",
              "      <div>\n",
              "<style scoped>\n",
              "    .dataframe tbody tr th:only-of-type {\n",
              "        vertical-align: middle;\n",
              "    }\n",
              "\n",
              "    .dataframe tbody tr th {\n",
              "        vertical-align: top;\n",
              "    }\n",
              "\n",
              "    .dataframe thead th {\n",
              "        text-align: right;\n",
              "    }\n",
              "</style>\n",
              "<table border=\"1\" class=\"dataframe\">\n",
              "  <thead>\n",
              "    <tr style=\"text-align: right;\">\n",
              "      <th></th>\n",
              "      <th>age group</th>\n",
              "      <th>male</th>\n",
              "      <th>date</th>\n",
              "      <th>female</th>\n",
              "    </tr>\n",
              "  </thead>\n",
              "  <tbody>\n",
              "    <tr>\n",
              "      <th>0</th>\n",
              "      <td>(0, 4)</td>\n",
              "      <td>4703088.0</td>\n",
              "      <td>2020</td>\n",
              "      <td>4452313.0</td>\n",
              "    </tr>\n",
              "    <tr>\n",
              "      <th>1</th>\n",
              "      <td>(0, 4)</td>\n",
              "      <td>4781058.0</td>\n",
              "      <td>2019</td>\n",
              "      <td>4524512.0</td>\n",
              "    </tr>\n",
              "    <tr>\n",
              "      <th>2</th>\n",
              "      <td>(0, 4)</td>\n",
              "      <td>4838806.0</td>\n",
              "      <td>2018</td>\n",
              "      <td>4576591.0</td>\n",
              "    </tr>\n",
              "    <tr>\n",
              "      <th>3</th>\n",
              "      <td>(0, 4)</td>\n",
              "      <td>4868384.0</td>\n",
              "      <td>2017</td>\n",
              "      <td>4602696.0</td>\n",
              "    </tr>\n",
              "    <tr>\n",
              "      <th>4</th>\n",
              "      <td>(0, 4)</td>\n",
              "      <td>4843381.0</td>\n",
              "      <td>2016</td>\n",
              "      <td>4579788.0</td>\n",
              "    </tr>\n",
              "    <tr>\n",
              "      <th>...</th>\n",
              "      <td>...</td>\n",
              "      <td>...</td>\n",
              "      <td>...</td>\n",
              "      <td>...</td>\n",
              "    </tr>\n",
              "    <tr>\n",
              "      <th>1032</th>\n",
              "      <td>80 and up</td>\n",
              "      <td>318272.0</td>\n",
              "      <td>1964</td>\n",
              "      <td>923010.0</td>\n",
              "    </tr>\n",
              "    <tr>\n",
              "      <th>1033</th>\n",
              "      <td>80 and up</td>\n",
              "      <td>310111.0</td>\n",
              "      <td>1963</td>\n",
              "      <td>884717.0</td>\n",
              "    </tr>\n",
              "    <tr>\n",
              "      <th>1034</th>\n",
              "      <td>80 and up</td>\n",
              "      <td>297620.0</td>\n",
              "      <td>1962</td>\n",
              "      <td>841338.0</td>\n",
              "    </tr>\n",
              "    <tr>\n",
              "      <th>1035</th>\n",
              "      <td>80 and up</td>\n",
              "      <td>282229.0</td>\n",
              "      <td>1961</td>\n",
              "      <td>793681.0</td>\n",
              "    </tr>\n",
              "    <tr>\n",
              "      <th>1036</th>\n",
              "      <td>80 and up</td>\n",
              "      <td>264235.0</td>\n",
              "      <td>1960</td>\n",
              "      <td>741733.0</td>\n",
              "    </tr>\n",
              "  </tbody>\n",
              "</table>\n",
              "<p>1037 rows × 4 columns</p>\n",
              "</div>\n",
              "      <button class=\"colab-df-convert\" onclick=\"convertToInteractive('df-381fcd52-e89d-45a5-ab82-a769ec07f2db')\"\n",
              "              title=\"Convert this dataframe to an interactive table.\"\n",
              "              style=\"display:none;\">\n",
              "        \n",
              "  <svg xmlns=\"http://www.w3.org/2000/svg\" height=\"24px\"viewBox=\"0 0 24 24\"\n",
              "       width=\"24px\">\n",
              "    <path d=\"M0 0h24v24H0V0z\" fill=\"none\"/>\n",
              "    <path d=\"M18.56 5.44l.94 2.06.94-2.06 2.06-.94-2.06-.94-.94-2.06-.94 2.06-2.06.94zm-11 1L8.5 8.5l.94-2.06 2.06-.94-2.06-.94L8.5 2.5l-.94 2.06-2.06.94zm10 10l.94 2.06.94-2.06 2.06-.94-2.06-.94-.94-2.06-.94 2.06-2.06.94z\"/><path d=\"M17.41 7.96l-1.37-1.37c-.4-.4-.92-.59-1.43-.59-.52 0-1.04.2-1.43.59L10.3 9.45l-7.72 7.72c-.78.78-.78 2.05 0 2.83L4 21.41c.39.39.9.59 1.41.59.51 0 1.02-.2 1.41-.59l7.78-7.78 2.81-2.81c.8-.78.8-2.07 0-2.86zM5.41 20L4 18.59l7.72-7.72 1.47 1.35L5.41 20z\"/>\n",
              "  </svg>\n",
              "      </button>\n",
              "      \n",
              "  <style>\n",
              "    .colab-df-container {\n",
              "      display:flex;\n",
              "      flex-wrap:wrap;\n",
              "      gap: 12px;\n",
              "    }\n",
              "\n",
              "    .colab-df-convert {\n",
              "      background-color: #E8F0FE;\n",
              "      border: none;\n",
              "      border-radius: 50%;\n",
              "      cursor: pointer;\n",
              "      display: none;\n",
              "      fill: #1967D2;\n",
              "      height: 32px;\n",
              "      padding: 0 0 0 0;\n",
              "      width: 32px;\n",
              "    }\n",
              "\n",
              "    .colab-df-convert:hover {\n",
              "      background-color: #E2EBFA;\n",
              "      box-shadow: 0px 1px 2px rgba(60, 64, 67, 0.3), 0px 1px 3px 1px rgba(60, 64, 67, 0.15);\n",
              "      fill: #174EA6;\n",
              "    }\n",
              "\n",
              "    [theme=dark] .colab-df-convert {\n",
              "      background-color: #3B4455;\n",
              "      fill: #D2E3FC;\n",
              "    }\n",
              "\n",
              "    [theme=dark] .colab-df-convert:hover {\n",
              "      background-color: #434B5C;\n",
              "      box-shadow: 0px 1px 3px 1px rgba(0, 0, 0, 0.15);\n",
              "      filter: drop-shadow(0px 1px 2px rgba(0, 0, 0, 0.3));\n",
              "      fill: #FFFFFF;\n",
              "    }\n",
              "  </style>\n",
              "\n",
              "      <script>\n",
              "        const buttonEl =\n",
              "          document.querySelector('#df-381fcd52-e89d-45a5-ab82-a769ec07f2db button.colab-df-convert');\n",
              "        buttonEl.style.display =\n",
              "          google.colab.kernel.accessAllowed ? 'block' : 'none';\n",
              "\n",
              "        async function convertToInteractive(key) {\n",
              "          const element = document.querySelector('#df-381fcd52-e89d-45a5-ab82-a769ec07f2db');\n",
              "          const dataTable =\n",
              "            await google.colab.kernel.invokeFunction('convertToInteractive',\n",
              "                                                     [key], {});\n",
              "          if (!dataTable) return;\n",
              "\n",
              "          const docLinkHtml = 'Like what you see? Visit the ' +\n",
              "            '<a target=\"_blank\" href=https://colab.research.google.com/notebooks/data_table.ipynb>data table notebook</a>'\n",
              "            + ' to learn more about interactive tables.';\n",
              "          element.innerHTML = '';\n",
              "          dataTable['output_type'] = 'display_data';\n",
              "          await google.colab.output.renderOutput(dataTable, element);\n",
              "          const docLink = document.createElement('div');\n",
              "          docLink.innerHTML = docLinkHtml;\n",
              "          element.appendChild(docLink);\n",
              "        }\n",
              "      </script>\n",
              "    </div>\n",
              "  </div>\n",
              "  "
            ],
            "text/plain": [
              "      age group       male  date     female\n",
              "0        (0, 4)  4703088.0  2020  4452313.0\n",
              "1        (0, 4)  4781058.0  2019  4524512.0\n",
              "2        (0, 4)  4838806.0  2018  4576591.0\n",
              "3        (0, 4)  4868384.0  2017  4602696.0\n",
              "4        (0, 4)  4843381.0  2016  4579788.0\n",
              "...         ...        ...   ...        ...\n",
              "1032  80 and up   318272.0  1964   923010.0\n",
              "1033  80 and up   310111.0  1963   884717.0\n",
              "1034  80 and up   297620.0  1962   841338.0\n",
              "1035  80 and up   282229.0  1961   793681.0\n",
              "1036  80 and up   264235.0  1960   741733.0\n",
              "\n",
              "[1037 rows x 4 columns]"
            ]
          },
          "metadata": {},
          "execution_count": 152
        }
      ],
      "source": [
        "new_pop(place='RUS')"
      ]
    },
    {
      "cell_type": "markdown",
      "metadata": {
        "id": "EGXa9A1CRJO-"
      },
      "source": [
        "## [#B] Population Pyramids"
      ]
    },
    {
      "cell_type": "code",
      "execution_count": null,
      "metadata": {
        "id": "2AkHrqUkkyod"
      },
      "outputs": [],
      "source": [
        "def pop_pyramid(df):\n",
        "  age_ranges = []\n",
        "  # creating population pyramid in increments of 5 years\n",
        "  for i in range(0,100,5):\n",
        "    age_ranges.append(f\"{i:02d}\"+f\"{i+4:02d}\")\n",
        "\n",
        "  age_ranges.append(\"80UP\")\n",
        "\n",
        "  layout = go.Layout(barmode='overlay',\n",
        "                   yaxis=go.layout.YAxis(range=[0, 100], title='Age'),\n",
        "                   xaxis=go.layout.XAxis(title='Population'))\n",
        "\n",
        "  # distinguishing between male and female (two sides of the pyramid)\n",
        "  bins = [go.Bar(x = df['male'],\n",
        "               y = [int(s[:2])+1 for s in age_ranges],\n",
        "               orientation='h',\n",
        "               name='Men',\n",
        "               marker=dict(color='purple'),\n",
        "               hoverinfo='skip'\n",
        "               ),\n",
        "\n",
        "        go.Bar(x = -df['female'],\n",
        "               y=[int(s[:2])+1 for s in age_ranges],\n",
        "               orientation='h',\n",
        "               name='Women',\n",
        "               marker=dict(color='pink'),\n",
        "               hoverinfo='skip',\n",
        "               )\n",
        "        ]\n",
        "  py.iplot(dict(data=bins, layout=layout))"
      ]
    },
    {
      "cell_type": "code",
      "execution_count": null,
      "metadata": {
        "colab": {
          "base_uri": "https://localhost:8080/",
          "height": 613
        },
        "id": "kgdGAy73hnVg",
        "outputId": "1d75f1c4-1506-4a42-ef9e-b6244f8e263b"
      },
      "outputs": [
        {
          "output_type": "stream",
          "name": "stderr",
          "text": [
            "/usr/local/lib/python3.7/dist-packages/pandas/core/frame.py:9138: FutureWarning:\n",
            "\n",
            "merging between different levels is deprecated and will be removed in a future version. (2 levels on the left,1 on the right)\n",
            "\n"
          ]
        },
        {
          "output_type": "display_data",
          "data": {
            "text/html": [
              "<div>                            <div id=\"20f143fc-6859-4b48-9fcc-68f2d15643fa\" class=\"plotly-graph-div\" style=\"height:525px; width:100%;\"></div>            <script type=\"text/javascript\">                require([\"plotly\"], function(Plotly) {                    window.PLOTLYENV=window.PLOTLYENV || {};                                    if (document.getElementById(\"20f143fc-6859-4b48-9fcc-68f2d15643fa\")) {                    Plotly.newPlot(                        \"20f143fc-6859-4b48-9fcc-68f2d15643fa\",                        [{\"hoverinfo\":\"skip\",\"marker\":{\"color\":\"purple\"},\"name\":\"Men\",\"orientation\":\"h\",\"x\":[4703088.0,4781058.0,4838806.0,4868384.0,4843381.0,4756210.0,4656531.0,4512297.0,4351077.0,4209878.0,4111213.0,3985658.0,3877242.0,3779060.0,3679365.0,3555876.0,3493199.0,3482034.0,3480011.0,3427458.0,3302032.0,3327543.0,3328090.0,3384533.0,3627479.0,4134177.0,4492681.0,4929281.0,5379069.0,5727580.0,5899998.0,6077810.0,6148522.0,6138792.0,6061914.0,5933581.0,5808269.0,5637783.0,5478465.0,5388292.0,5395778.0,5366127.0,5412634.0,5453610.0,5377264.0,5120259.0,4999831.0,4834328.0,4683653.0,4639203.0,4760525.0,4886102.0,5080598.0,5332340.0,5624681.0,5946323.0,6180596.0,6416153.0,6623082.0,6745471.0,6771976.0,4742004.0,4655200.0,4536063.0,4404890.0,4269302.0,4136860.0,4014832.0,3903042.0,3787113.0,3660614.0,3529199.0,3411786.0,3310913.0,3257764.0,3269196.0,3341125.0,3395165.0,3463224.0,3604846.0,3850851.0,4194135.0,4644347.0,5144220.0,5580094.0,5883893.0,6038008.0,6115302.0,6119632.0,6078004.0,6005401.0,5914871.0,5837381.0,5715223.0,5594999.0,5492794.0,5411472.0,5358779.0,5333743.0,5300799.0,5222015.0,5096838.0,4941909.0,4757421.0,4628642.0,4610739.0,4711070.0,4895746.0,5144065.0,5417159.0,5681628.0,5918917.0,6157085.0,6383754.0,6566145.0,6686030.0,6743529.0,6725649.0,6662930.0,6578333.0,6490003.0,6398293.0,4133599.0,4013572.0,3900203.0,3793654.0,3684456.0,3574747.0,3460614.0,3347631.0,3262061.0,3235024.0,3283167.0,3413992.0,3581217.0,3771422.0,3992684.0,4264854.0,4630206.0,5069591.0,5520195.0,5906422.0,6187095.0,6324857.0,6335742.0,6266607.0,6163450.0,6033203.0,5915858.0,5784694.0,5651331.0,5525618.0,5420418.0,5365065.0,5317834.0,5275793.0,5214240.0,5126761.0,5014155.0,4873241.0,4753009.0,4692392.0,4712311.0,4849703.0,5070947.0,5330315.0,5590218.0,5838426.0,6071819.0,6288531.0,6480328.0,6625256.0,6701965.0,6713996.0,6658575.0,6563457.0,6455179.0,6340952.0,6203946.0,6078907.0,5926363.0,5695614.0,5367625.0,3575534.0,3479190.0,3379535.0,3302981.0,3280245.0,3333692.0,3450269.0,3633405.0,3878651.0,4177137.0,4518970.0,4850111.0,5225050.0,5611514.0,5950153.0,6204689.0,6370669.0,6415897.0,6365280.0,6268491.0,6162712.0,6034530.0,5894572.0,5751826.0,5618722.0,5494284.0,5408139.0,5351933.0,5313452.0,5262567.0,5186224.0,5093691.0,4952723.0,4818545.0,4750252.0,4785129.0,4902678.0,5111872.0,5384856.0,5655420.0,5887677.0,6117639.0,6306184.0,6442924.0,6530102.0,6576769.0,6601954.0,6570472.0,6490935.0,6380937.0,6253334.0,6136009.0,6032755.0,5906504.0,5696325.0,5374697.0,4925858.0,4350019.0,3783720.0,3438728.0,3436919.0,3331616.0,3461880.0,3653214.0,3904907.0,4205709.0,4547898.0,4923267.0,5344380.0,5764059.0,6111256.0,6342315.0,6435280.0,6428649.0,6359748.0,6280294.0,6217713.0,6081824.0,5924135.0,5767168.0,5631348.0,5525851.0,5441027.0,5392208.0,5358297.0,5309944.0,5223741.0,5125582.0,4995799.0,4871009.0,4804306.0,4832694.0,4959648.0,5166413.0,5439179.0,5724474.0,5984775.0,6185656.0,6369804.0,6537524.0,6657680.0,6712778.0,6683848.0,6579180.0,6428113.0,6274185.0,6141615.0,6019964.0,5924429.0,5817747.0,5629910.0,5322305.0,4900926.0,4342528.0,3782163.0,3429533.0,3407673.0,3688721.0,4325267.0,5135537.0,5824796.0,6207866.0,4518449.0,4902783.0,5325380.0,5745753.0,6091140.0,6321801.0,6430868.0,6419735.0,6319875.0,6185968.0,6055839.0,5942169.0,5819526.0,5693077.0,5576686.0,5485419.0,5387005.0,5328250.0,5294654.0,5259197.0,5207088.0,5123819.0,5013151.0,4902634.0,4844076.0,4863128.0,4973258.0,5168856.0,5423985.0,5686581.0,5925167.0,6159599.0,6348908.0,6501592.0,6607827.0,6663198.0,6646675.0,6572484.0,6458106.0,6310735.0,6146793.0,5982638.0,5837068.0,5681349.0,5467763.0,5172354.0,4774872.0,4252599.0,3723745.0,3383701.0,3351937.0,3626676.0,4247192.0,5036836.0,5701468.0,6056064.0,6106207.0,5830337.0,5376528.0,5004916.0,4872927.0,6221684.0,6344272.0,6339646.0,6247400.0,6119418.0,5996835.0,5856945.0,5712697.0,5573199.0,5446757.0,5339645.0,5264712.0,5219252.0,5188403.0,5149053.0,5096777.0,5010063.0,4901123.0,4805012.0,4773407.0,4835132.0,4952081.0,5153297.0,5406375.0,5661376.0,5876026.0,6076504.0,6250789.0,6394324.0,6495736.0,6551559.0,6560478.0,6483993.0,6358454.0,6208889.0,6053116.0,5885187.0,5740036.0,5595062.0,5380581.0,5065316.0,4664010.0,4139892.0,3614325.0,3284308.0,3268247.0,3535859.0,4141035.0,4912258.0,5555944.0,5883134.0,5941177.0,5675895.0,5231786.0,4861472.0,4720723.0,4760420.0,5017706.0,5366665.0,5596182.0,5574669.0,5836934.0,5718854.0,5589463.0,5464745.0,5350074.0,5254708.0,5168792.0,5120101.0,5087595.0,5034565.0,4941747.0,4826552.0,4686442.0,4575962.0,4557418.0,4651143.0,4776404.0,4984517.0,5245617.0,5511523.0,5751778.0,5947493.0,6120212.0,6259100.0,6356497.0,6396562.0,6389379.0,6321446.0,6208133.0,6069309.0,5924392.0,5774555.0,5617202.0,5447406.0,5218853.0,4909268.0,4516239.0,4017809.0,3525402.0,3209167.0,3181111.0,3439768.0,4017665.0,4749936.0,5367509.0,5704672.0,5748963.0,5488920.0,5058882.0,4695983.0,4547425.0,4594601.0,4853477.0,5203190.0,5432562.0,5409295.0,5139559.0,4635211.0,3996782.0,3395782.0,2941257.0,5063627.0,5001998.0,4969524.0,4952263.0,4912001.0,4832196.0,4699610.0,4521268.0,4343904.0,4244157.0,4270827.0,4451437.0,4722945.0,5022174.0,5282717.0,5486816.0,5667941.0,5821137.0,5948199.0,6050324.0,6125265.0,6130088.0,6083604.0,5989417.0,5864871.0,5715171.0,5557357.0,5407778.0,5249454.0,5038258.0,4753383.0,4379571.0,3889416.0,3404001.0,3094285.0,3065632.0,3302782.0,3855422.0,4574636.0,5182257.0,5499246.0,5544180.0,5278708.0,4841894.0,4480931.0,4349481.0,4389238.0,4643981.0,4991815.0,5218760.0,5189594.0,4950287.0,4477083.0,3865853.0,3281797.0,2834104.0,2494143.0,2276511.0,2169209.0,2140216.0,2165565.0,4616171.0,4510231.0,4352184.0,4191434.0,4098340.0,4121671.0,4242323.0,4487765.0,4807836.0,5114430.0,5349337.0,5475458.0,5541510.0,5583894.0,5628693.0,5672360.0,5669125.0,5624159.0,5551149.0,5467300.0,5378893.0,5240348.0,5106751.0,4957265.0,4755758.0,4475585.0,4126097.0,3681497.0,3237500.0,2951613.0,2928355.0,3152845.0,3664844.0,4327495.0,4889900.0,5190952.0,5236702.0,4999874.0,4606301.0,4266962.0,4126538.0,4159420.0,4392234.0,4715551.0,4940226.0,4947687.0,4718366.0,4272422.0,3694888.0,3137602.0,2704352.0,2383684.0,2176683.0,2074086.0,2044726.0,2065807.0,2137836.0,2280144.0,2456236.0,2612945.0,2714889.0,3879708.0,4000269.0,4230502.0,4528363.0,4808678.0,5019367.0,5154141.0,5218689.0,5229110.0,5220341.0,5216018.0,5196904.0,5149749.0,5060033.0,4935891.0,4805862.0,4704193.0,4606556.0,4492231.0,4328462.0,4101561.0,3793472.0,3400422.0,2999951.0,2734368.0,2696413.0,2895869.0,3373584.0,4002484.0,4548813.0,4857821.0,4909634.0,4675596.0,4286417.0,3953127.0,3813914.0,3835128.0,4055239.0,4379304.0,4610074.0,4620356.0,4418574.0,4001529.0,3456288.0,2937651.0,2546837.0,2238682.0,2043289.0,1948635.0,1921320.0,1937490.0,2008779.0,2148361.0,2322055.0,2476421.0,2575543.0,2598359.0,2555992.0,2466905.0,2366629.0,2276757.0,4602435.0,4727216.0,4778335.0,4777615.0,4756010.0,4737999.0,4702317.0,4663405.0,4614561.0,4540027.0,4428879.0,4248833.0,4072126.0,3919003.0,3776374.0,3611221.0,3340255.0,2991905.0,2643863.0,2422397.0,2409696.0,2576305.0,2995168.0,3556055.0,4051523.0,4329055.0,4393599.0,4210651.0,3878588.0,3585615.0,3463761.0,3473032.0,3652355.0,3926014.0,4127688.0,4145191.0,3975106.0,3616140.0,3141196.0,2675236.0,2312758.0,2034788.0,1856841.0,1769427.0,1745585.0,1768140.0,1830484.0,1961749.0,2128249.0,2275587.0,2366299.0,2396047.0,2362504.0,2283289.0,2191629.0,2108600.0,2005496.0,1902053.0,1801633.0,1708910.0,1627317.0,4172286.0,4136730.0,4091319.0,4036102.0,3956860.0,3847271.0,3702272.0,3530424.0,3336397.0,3128568.0,2915319.0,2726397.0,2488419.0,2223449.0,2017316.0,1955009.0,2099280.0,2464446.0,2958072.0,3403931.0,3675851.0,3749658.0,3610505.0,3331251.0,3074169.0,2951179.0,2952332.0,3112233.0,3364189.0,3563362.0,3606968.0,3470527.0,3152513.0,2725607.0,2309886.0,1990915.0,1749420.0,1602155.0,1539007.0,1525338.0,1541300.0,1596069.0,1709865.0,1856895.0,1994247.0,2090867.0,2114505.0,2083353.0,2012526.0,1930860.0,1856216.0,1771974.0,1687394.0,1604702.0,1525513.0,1451739.0,1369632.0,1300626.0,1245827.0,1205156.0,1176907.0,3215056.0,3093602.0,2944904.0,2776872.0,2596161.0,2412354.0,2222976.0,2020434.0,1830995.0,1706158.0,1687621.0,1762518.0,1997118.0,2344423.0,2676602.0,2887500.0,2969786.0,2870236.0,2649316.0,2440151.0,2340085.0,2334275.0,2460560.0,2666849.0,2836697.0,2876176.0,2791573.0,2561138.0,2229883.0,1895768.0,1634636.0,1430850.0,1304842.0,1250979.0,1239103.0,1250012.0,1292845.0,1387851.0,1517083.0,1638724.0,1720718.0,1750244.0,1724720.0,1658058.0,1582581.0,1520198.0,1451033.0,1387358.0,1326901.0,1266162.0,1204435.0,1139651.0,1083349.0,1036479.0,999041.0,970796.0,943566.0,928287.0,920710.0,915508.0,908906.0,1898425.0,1750014.0,1591287.0,1441910.0,1336272.0,1305423.0,1365765.0,1546513.0,1806419.0,2048894.0,2194330.0,2236559.0,2144120.0,1955615.0,1771101.0,1667654.0,1655667.0,1742551.0,1896002.0,2031400.0,2079007.0,2042407.0,1891670.0,1652650.0,1401139.0,1197574.0,1050377.0,965429.0,934709.0,930569.0,935508.0,967189.0,1034258.0,1126278.0,1215300.0,1277022.0,1308159.0,1297409.0,1254202.0,1198287.0,1146085.0,1093200.0,1041985.0,993005.0,945737.0,899922.0,853272.0,813300.0,780005.0,751745.0,726480.0,707063.0,697586.0,695740.0,696096.0,693428.0,680428.0,663859.0,645621.0,629332.0,616246.0,925447.0,954403.0,1067610.0,1241358.0,1408721.0,1511630.0,1555238.0,1494438.0,1351569.0,1198665.0,1097113.0,1073059.0,1119026.0,1211184.0,1290021.0,1308795.0,1306742.0,1222157.0,1069959.0,901772.0,763048.0,669728.0,620789.0,610338.0,615505.0,619369.0,642981.0,688866.0,750273.0,809645.0,850963.0,881716.0,874940.0,837878.0,788662.0,742153.0,712262.0,683900.0,656643.0,625784.0,589474.0,560255.0,532964.0,507924.0,486205.0,468866.0,461944.0,460878.0,461537.0,458965.0,451058.0,452093.0,448548.0,439601.0,427601.0,415762.0,408800.0,402977.0,396325.0,387550.0,376737.0,1355858.0,1392267.0,1360519.0,1271627.0,1157573.0,1049196.0,1028146.0,1021798.0,1025156.0,1014102.0,967870.0,948127.0,881523.0,779362.0,667236.0,567113.0,548755.0,543978.0,552611.0,560138.0,553911.0,607679.0,648312.0,675026.0,686693.0,679617.0,709046.0,706462.0,676343.0,630379.0,579229.0,565395.0,543516.0,516917.0,484246.0,445131.0,445719.0,439559.0,427777.0,409032.0,383814.0,396478.0,402377.0,401540.0,393406.0,377539.0,386944.0,386687.0,378775.0,365098.0,346353.0,353431.0,353510.0,348002.0,337153.0,320481.0,318272.0,310111.0,297620.0,282229.0,264235.0],\"y\":[1,6,11,16,21,26,31,36,41,46,51,56,61,66,71,76,81,86,91,96,81],\"type\":\"bar\"},{\"hoverinfo\":\"skip\",\"marker\":{\"color\":\"pink\"},\"name\":\"Women\",\"orientation\":\"h\",\"x\":[-4452313.0,-4524512.0,-4576591.0,-4602696.0,-4579788.0,-4501710.0,-4412738.0,-4282560.0,-4135936.0,-4006125.0,-3913679.0,-3796591.0,-3693324.0,-3598438.0,-3502038.0,-3383535.0,-3323969.0,-3313005.0,-3310617.0,-3260307.0,-3141399.0,-3161561.0,-3158193.0,-3209308.0,-3439714.0,-3923314.0,-4266771.0,-4687702.0,-5124766.0,-5470357.0,-5654773.0,-5834222.0,-5912979.0,-5915436.0,-5852265.0,-5736949.0,-5622724.0,-5461068.0,-5307219.0,-5217043.0,-5217929.0,-5186848.0,-5228646.0,-5267017.0,-5197264.0,-4961241.0,-4852755.0,-4698272.0,-4556863.0,-4518459.0,-4645129.0,-4747611.0,-4907343.0,-5124036.0,-5390133.0,-5697632.0,-5918995.0,-6148890.0,-6355054.0,-6479788.0,-6510927.0,-4491628.0,-4414588.0,-4308059.0,-4189556.0,-4064819.0,-3940439.0,-3826777.0,-3720948.0,-3609908.0,-3488244.0,-3361793.0,-3250340.0,-3154616.0,-3103111.0,-3111181.0,-3175222.0,-3226334.0,-3291478.0,-3428256.0,-3666155.0,-3997642.0,-4423956.0,-4898919.0,-5316160.0,-5613029.0,-5773527.0,-5858308.0,-5877242.0,-5853945.0,-5800673.0,-5729182.0,-5658074.0,-5544463.0,-5430669.0,-5329989.0,-5244864.0,-5188615.0,-5157518.0,-5121808.0,-5049191.0,-4940889.0,-4802462.0,-4639992.0,-4530296.0,-4521366.0,-4616975.0,-4792452.0,-5027519.0,-5283660.0,-5529802.0,-5749665.0,-5950799.0,-6152277.0,-6321530.0,-6438906.0,-6501491.0,-6480691.0,-6420318.0,-6341233.0,-6258952.0,-6173862.0,-3938138.0,-3827651.0,-3721686.0,-3620766.0,-3515925.0,-3409000.0,-3300594.0,-3193003.0,-3110775.0,-3082775.0,-3124489.0,-3245595.0,-3400942.0,-3580328.0,-3793033.0,-4056699.0,-4414287.0,-4842272.0,-5278862.0,-5651722.0,-5923803.0,-6062121.0,-6081998.0,-6026112.0,-5936920.0,-5820302.0,-5712374.0,-5591742.0,-5470616.0,-5357434.0,-5262056.0,-5199011.0,-5144122.0,-5095775.0,-5030749.0,-4942873.0,-4841977.0,-4717089.0,-4615551.0,-4574481.0,-4611571.0,-4746868.0,-4960356.0,-5205235.0,-5442323.0,-5660220.0,-5873474.0,-6064572.0,-6228835.0,-6350415.0,-6411435.0,-6420473.0,-6372809.0,-6288822.0,-6189012.0,-6079521.0,-5946279.0,-5828302.0,-5690170.0,-5483792.0,-5189253.0,-3417418.0,-3326746.0,-3232589.0,-3159388.0,-3135076.0,-3180320.0,-3288780.0,-3457629.0,-3685048.0,-3966560.0,-4294849.0,-4625416.0,-5001397.0,-5387054.0,-5720665.0,-5965776.0,-6130781.0,-6179879.0,-6140001.0,-6058464.0,-5967402.0,-5846059.0,-5708720.0,-5564561.0,-5427955.0,-5299865.0,-5217278.0,-5162539.0,-5122588.0,-5068124.0,-4987399.0,-4893687.0,-4758804.0,-4636067.0,-4581377.0,-4627856.0,-4763731.0,-4984040.0,-5256261.0,-5511755.0,-5714798.0,-5908396.0,-6062787.0,-6175990.0,-6253366.0,-6299298.0,-6321216.0,-6287195.0,-6203792.0,-6086441.0,-5947457.0,-5832099.0,-5728986.0,-5605813.0,-5409083.0,-5115085.0,-4716160.0,-4201583.0,-3696557.0,-3397892.0,-3419328.0,-3200116.0,-3321640.0,-3498623.0,-3733171.0,-4018322.0,-4348353.0,-4721761.0,-5143731.0,-5565111.0,-5912592.0,-6141801.0,-6238911.0,-6234362.0,-6167797.0,-6092218.0,-6033619.0,-5920242.0,-5782722.0,-5638318.0,-5504946.0,-5393979.0,-5303050.0,-5244430.0,-5197888.0,-5136516.0,-5039761.0,-4939556.0,-4807854.0,-4682531.0,-4617417.0,-4648967.0,-4793046.0,-5019594.0,-5307354.0,-5595004.0,-5841261.0,-6019682.0,-6160426.0,-6271107.0,-6337020.0,-6354310.0,-6343234.0,-6274103.0,-6162801.0,-6036989.0,-5913064.0,-5784134.0,-5669315.0,-5538379.0,-5334471.0,-5029008.0,-4649369.0,-4148942.0,-3653526.0,-3358570.0,-3377487.0,-3683032.0,-4324591.0,-5123482.0,-5791787.0,-6152270.0,-4361845.0,-4746219.0,-5173840.0,-5601725.0,-5953178.0,-6185857.0,-6301823.0,-6293723.0,-6195805.0,-6067471.0,-5949250.0,-5857972.0,-5759966.0,-5653826.0,-5546405.0,-5451002.0,-5352291.0,-5285109.0,-5240148.0,-5193507.0,-5129969.0,-5033001.0,-4907792.0,-4784787.0,-4719334.0,-4738670.0,-4856244.0,-5062714.0,-5328225.0,-5593747.0,-5822730.0,-6043512.0,-6207653.0,-6328299.0,-6403500.0,-6434349.0,-6399516.0,-6317864.0,-6208081.0,-6073898.0,-5925843.0,-5787205.0,-5656902.0,-5506864.0,-5292653.0,-4995140.0,-4608052.0,-4107691.0,-3613221.0,-3313347.0,-3317586.0,-3627793.0,-4270616.0,-5067563.0,-5727391.0,-6072467.0,-6108526.0,-5822090.0,-5370213.0,-5018440.0,-4924650.0,-6164816.0,-6298230.0,-6301359.0,-6215611.0,-6096053.0,-5985665.0,-5870824.0,-5757115.0,-5648397.0,-5544744.0,-5447786.0,-5367315.0,-5305759.0,-5255349.0,-5199932.0,-5136909.0,-5046911.0,-4932309.0,-4827014.0,-4783839.0,-4834688.0,-4953457.0,-5160807.0,-5420629.0,-5677881.0,-5886802.0,-6071213.0,-6217627.0,-6324948.0,-6388866.0,-6412003.0,-6407998.0,-6330569.0,-6213934.0,-6077411.0,-5933532.0,-5778974.0,-5644468.0,-5505716.0,-5296370.0,-4990231.0,-4599754.0,-4091040.0,-3588342.0,-3286384.0,-3297244.0,-3597188.0,-4228659.0,-5011433.0,-5647819.0,-5952861.0,-5990534.0,-5703970.0,-5251656.0,-4899494.0,-4807165.0,-4904333.0,-5232071.0,-5668815.0,-6014782.0,-6146300.0,-5938224.0,-5845644.0,-5747218.0,-5653742.0,-5561196.0,-5473199.0,-5389803.0,-5330148.0,-5278864.0,-5208994.0,-5108067.0,-4991594.0,-4855711.0,-4751755.0,-4738586.0,-4834883.0,-4959850.0,-5168200.0,-5431127.0,-5697498.0,-5931990.0,-6118461.0,-6270163.0,-6377105.0,-6437521.0,-6442026.0,-6405081.0,-6313189.0,-6184059.0,-6036233.0,-5885722.0,-5750309.0,-5612895.0,-5462766.0,-5248322.0,-4946809.0,-4558937.0,-4062361.0,-3577973.0,-3283294.0,-3288142.0,-3583295.0,-4202920.0,-4968820.0,-5595991.0,-5912545.0,-5927613.0,-5618188.0,-5137343.0,-4746829.0,-4607672.0,-4722577.0,-5072391.0,-5536582.0,-5908421.0,-6055724.0,-5978417.0,-5712396.0,-5320021.0,-4911359.0,-4558749.0,-5408000.0,-5347888.0,-5303572.0,-5266289.0,-5205611.0,-5110944.0,-4979215.0,-4808725.0,-4646559.0,-4566917.0,-4614649.0,-4808814.0,-5092254.0,-5402334.0,-5671832.0,-5880110.0,-6064088.0,-6211275.0,-6321574.0,-6395879.0,-6432976.0,-6403936.0,-6320700.0,-6191378.0,-6038132.0,-5867726.0,-5704404.0,-5556706.0,-5400205.0,-5182602.0,-4881939.0,-4508396.0,-4013154.0,-3528540.0,-3237907.0,-3248809.0,-3539032.0,-4155111.0,-4928473.0,-5560100.0,-5867038.0,-5883203.0,-5567160.0,-5076289.0,-4680780.0,-4545885.0,-4622725.0,-4938323.0,-5376741.0,-5733127.0,-5874331.0,-5853911.0,-5637529.0,-5274449.0,-4865886.0,-4490642.0,-4150789.0,-3835075.0,-3583583.0,-3447446.0,-3450586.0,-5031962.0,-4922605.0,-4766388.0,-4615104.0,-4538724.0,-4583972.0,-4740417.0,-5020738.0,-5371616.0,-5704428.0,-5962244.0,-6111402.0,-6194250.0,-6244228.0,-6285305.0,-6313467.0,-6288981.0,-6210150.0,-6092024.0,-5956502.0,-5817305.0,-5659781.0,-5516242.0,-5357300.0,-5136740.0,-4824907.0,-4440169.0,-3949414.0,-3466932.0,-3170772.0,-3170746.0,-3464718.0,-4070408.0,-4826842.0,-5450066.0,-5763161.0,-5780880.0,-5479350.0,-5013844.0,-4630349.0,-4489711.0,-4559378.0,-4855636.0,-5267554.0,-5608322.0,-5762956.0,-5741772.0,-5550753.0,-5230536.0,-4862335.0,-4507145.0,-4156468.0,-3811300.0,-3528620.0,-3371182.0,-3364692.0,-3490551.0,-3768059.0,-4116423.0,-4413070.0,-4582359.0,-4493587.0,-4657715.0,-4936069.0,-5282926.0,-5608374.0,-5858851.0,-6037259.0,-6138779.0,-6179296.0,-6192860.0,-6201647.0,-6182057.0,-6123808.0,-6009190.0,-5846063.0,-5669914.0,-5516862.0,-5373722.0,-5220791.0,-5017280.0,-4742464.0,-4375796.0,-3905948.0,-3435051.0,-3136969.0,-3114853.0,-3375389.0,-3949489.0,-4678279.0,-5287577.0,-5606181.0,-5648327.0,-5357561.0,-4895341.0,-4513348.0,-4372303.0,-4438571.0,-4734713.0,-5157358.0,-5503372.0,-5648659.0,-5624072.0,-5431605.0,-5120697.0,-4780999.0,-4471520.0,-4135721.0,-3794208.0,-3496195.0,-3309455.0,-3273711.0,-3400128.0,-3690252.0,-4056051.0,-4364331.0,-4535132.0,-4565804.0,-4463565.0,-4276644.0,-4090411.0,-3957462.0,-5684912.0,-5869069.0,-5971683.0,-6015527.0,-6030190.0,-6040218.0,-6027303.0,-6001817.0,-5949945.0,-5846876.0,-5679589.0,-5425949.0,-5174712.0,-4959814.0,-4769751.0,-4560958.0,-4209643.0,-3763881.0,-3326752.0,-3060994.0,-3064562.0,-3300742.0,-3838511.0,-4525508.0,-5102290.0,-5393974.0,-5426178.0,-5157684.0,-4725567.0,-4367651.0,-4240794.0,-4302590.0,-4573378.0,-4965383.0,-5294596.0,-5442881.0,-5418426.0,-5236054.0,-4947161.0,-4622136.0,-4316669.0,-4009548.0,-3692558.0,-3410521.0,-3232125.0,-3200989.0,-3297382.0,-3567942.0,-3935133.0,-4263349.0,-4459753.0,-4503963.0,-4409884.0,-4224484.0,-4031268.0,-3884733.0,-3755927.0,-3665198.0,-3599774.0,-3532419.0,-3443993.0,-5774988.0,-5773028.0,-5753234.0,-5710432.0,-5618067.0,-5466367.0,-5240970.0,-4963497.0,-4651671.0,-4331559.0,-4024769.0,-3781132.0,-3479107.0,-3148871.0,-2907751.0,-2868909.0,-3100338.0,-3614796.0,-4269641.0,-4822675.0,-5119706.0,-5151954.0,-4903100.0,-4492595.0,-4148167.0,-4013901.0,-4056814.0,-4310059.0,-4682321.0,-4999057.0,-5149842.0,-5132678.0,-4949068.0,-4660375.0,-4348094.0,-4067897.0,-3777471.0,-3487723.0,-3238703.0,-3078929.0,-3046559.0,-3135686.0,-3379894.0,-3710531.0,-4011386.0,-4206218.0,-4272204.0,-4216323.0,-4070949.0,-3905440.0,-3768638.0,-3630129.0,-3525109.0,-3445816.0,-3367799.0,-3273180.0,-3135163.0,-2980993.0,-2821204.0,-2676348.0,-2559856.0,-5106985.0,-4909032.0,-4656536.0,-4373589.0,-4083658.0,-3809045.0,-3517014.0,-3222005.0,-2969787.0,-2837606.0,-2878660.0,-3041131.0,-3429870.0,-3961511.0,-4440286.0,-4716802.0,-4739523.0,-4496538.0,-4107452.0,-3785418.0,-3670249.0,-3697582.0,-3926421.0,-4269602.0,-4565846.0,-4700583.0,-4669903.0,-4496677.0,-4228836.0,-3945160.0,-3698886.0,-3439776.0,-3176860.0,-2950952.0,-2808072.0,-2782264.0,-2855557.0,-3078713.0,-3394652.0,-3684732.0,-3870203.0,-3928264.0,-3871340.0,-3734271.0,-3588395.0,-3481394.0,-3359093.0,-3262121.0,-3182446.0,-3097668.0,-2993133.0,-2859576.0,-2716599.0,-2570574.0,-2436302.0,-2326183.0,-2207809.0,-2114278.0,-2044068.0,-1992086.0,-1952679.0,-3424348.0,-3176126.0,-2926546.0,-2712636.0,-2594095.0,-2620121.0,-2775646.0,-3125209.0,-3580059.0,-3972000.0,-4181446.0,-4175179.0,-3946719.0,-3583054.0,-3265762.0,-3124939.0,-3122336.0,-3308542.0,-3613170.0,-3892222.0,-4042774.0,-4020226.0,-3867474.0,-3623421.0,-3368787.0,-3152136.0,-2927989.0,-2715967.0,-2533688.0,-2412174.0,-2382361.0,-2444468.0,-2633689.0,-2907101.0,-3166087.0,-3338358.0,-3392857.0,-3351806.0,-3246511.0,-3127443.0,-3033794.0,-2922254.0,-2830749.0,-2754259.0,-2677758.0,-2589900.0,-2456782.0,-2319160.0,-2185312.0,-2064696.0,-1959600.0,-1850685.0,-1764280.0,-1703327.0,-1664191.0,-1637989.0,-1590001.0,-1554421.0,-1526877.0,-1502688.0,-1478074.0,-2194264.0,-2303248.0,-2574599.0,-2947851.0,-3284052.0,-3475738.0,-3469287.0,-3269707.0,-2946119.0,-2648783.0,-2489613.0,-2449755.0,-2570171.0,-2795095.0,-3004067.0,-3109031.0,-3106710.0,-2989140.0,-2789391.0,-2578642.0,-2405059.0,-2235551.0,-2090303.0,-1972748.0,-1897994.0,-1882756.0,-1915625.0,-2057417.0,-2274296.0,-2488483.0,-2641301.0,-2705387.0,-2675785.0,-2578886.0,-2462752.0,-2364331.0,-2273155.0,-2203215.0,-2152240.0,-2098384.0,-2025814.0,-1915819.0,-1795274.0,-1672216.0,-1562034.0,-1473704.0,-1392372.0,-1327956.0,-1272349.0,-1221812.0,-1179984.0,-1169917.0,-1172379.0,-1172979.0,-1160606.0,-1134795.0,-1102023.0,-1066364.0,-1028448.0,-991087.0,-955828.0,-4228615.0,-4218783.0,-4080772.0,-3845473.0,-3580929.0,-3347211.0,-3284547.0,-3279638.0,-3307249.0,-3305833.0,-3225727.0,-3186645.0,-3060572.0,-2867271.0,-2653961.0,-2457114.0,-2437888.0,-2429704.0,-2427173.0,-2415858.0,-2387763.0,-2527884.0,-2671789.0,-2802940.0,-2890175.0,-2901416.0,-2948681.0,-2914689.0,-2813668.0,-2676771.0,-2528576.0,-2435817.0,-2332921.0,-2227934.0,-2113017.0,-1981279.0,-1919132.0,-1842161.0,-1750967.0,-1644527.0,-1528950.0,-1491865.0,-1456821.0,-1418501.0,-1370208.0,-1308760.0,-1303587.0,-1293407.0,-1277775.0,-1250875.0,-1205076.0,-1178382.0,-1133541.0,-1077943.0,-1018197.0,-955568.0,-923010.0,-884717.0,-841338.0,-793681.0,-741733.0],\"y\":[1,6,11,16,21,26,31,36,41,46,51,56,61,66,71,76,81,86,91,96,81],\"type\":\"bar\"}],                        {\"barmode\":\"overlay\",\"template\":{\"data\":{\"barpolar\":[{\"marker\":{\"line\":{\"color\":\"#E5ECF6\",\"width\":0.5},\"pattern\":{\"fillmode\":\"overlay\",\"size\":10,\"solidity\":0.2}},\"type\":\"barpolar\"}],\"bar\":[{\"error_x\":{\"color\":\"#2a3f5f\"},\"error_y\":{\"color\":\"#2a3f5f\"},\"marker\":{\"line\":{\"color\":\"#E5ECF6\",\"width\":0.5},\"pattern\":{\"fillmode\":\"overlay\",\"size\":10,\"solidity\":0.2}},\"type\":\"bar\"}],\"carpet\":[{\"aaxis\":{\"endlinecolor\":\"#2a3f5f\",\"gridcolor\":\"white\",\"linecolor\":\"white\",\"minorgridcolor\":\"white\",\"startlinecolor\":\"#2a3f5f\"},\"baxis\":{\"endlinecolor\":\"#2a3f5f\",\"gridcolor\":\"white\",\"linecolor\":\"white\",\"minorgridcolor\":\"white\",\"startlinecolor\":\"#2a3f5f\"},\"type\":\"carpet\"}],\"choropleth\":[{\"colorbar\":{\"outlinewidth\":0,\"ticks\":\"\"},\"type\":\"choropleth\"}],\"contourcarpet\":[{\"colorbar\":{\"outlinewidth\":0,\"ticks\":\"\"},\"type\":\"contourcarpet\"}],\"contour\":[{\"colorbar\":{\"outlinewidth\":0,\"ticks\":\"\"},\"colorscale\":[[0.0,\"#0d0887\"],[0.1111111111111111,\"#46039f\"],[0.2222222222222222,\"#7201a8\"],[0.3333333333333333,\"#9c179e\"],[0.4444444444444444,\"#bd3786\"],[0.5555555555555556,\"#d8576b\"],[0.6666666666666666,\"#ed7953\"],[0.7777777777777778,\"#fb9f3a\"],[0.8888888888888888,\"#fdca26\"],[1.0,\"#f0f921\"]],\"type\":\"contour\"}],\"heatmapgl\":[{\"colorbar\":{\"outlinewidth\":0,\"ticks\":\"\"},\"colorscale\":[[0.0,\"#0d0887\"],[0.1111111111111111,\"#46039f\"],[0.2222222222222222,\"#7201a8\"],[0.3333333333333333,\"#9c179e\"],[0.4444444444444444,\"#bd3786\"],[0.5555555555555556,\"#d8576b\"],[0.6666666666666666,\"#ed7953\"],[0.7777777777777778,\"#fb9f3a\"],[0.8888888888888888,\"#fdca26\"],[1.0,\"#f0f921\"]],\"type\":\"heatmapgl\"}],\"heatmap\":[{\"colorbar\":{\"outlinewidth\":0,\"ticks\":\"\"},\"colorscale\":[[0.0,\"#0d0887\"],[0.1111111111111111,\"#46039f\"],[0.2222222222222222,\"#7201a8\"],[0.3333333333333333,\"#9c179e\"],[0.4444444444444444,\"#bd3786\"],[0.5555555555555556,\"#d8576b\"],[0.6666666666666666,\"#ed7953\"],[0.7777777777777778,\"#fb9f3a\"],[0.8888888888888888,\"#fdca26\"],[1.0,\"#f0f921\"]],\"type\":\"heatmap\"}],\"histogram2dcontour\":[{\"colorbar\":{\"outlinewidth\":0,\"ticks\":\"\"},\"colorscale\":[[0.0,\"#0d0887\"],[0.1111111111111111,\"#46039f\"],[0.2222222222222222,\"#7201a8\"],[0.3333333333333333,\"#9c179e\"],[0.4444444444444444,\"#bd3786\"],[0.5555555555555556,\"#d8576b\"],[0.6666666666666666,\"#ed7953\"],[0.7777777777777778,\"#fb9f3a\"],[0.8888888888888888,\"#fdca26\"],[1.0,\"#f0f921\"]],\"type\":\"histogram2dcontour\"}],\"histogram2d\":[{\"colorbar\":{\"outlinewidth\":0,\"ticks\":\"\"},\"colorscale\":[[0.0,\"#0d0887\"],[0.1111111111111111,\"#46039f\"],[0.2222222222222222,\"#7201a8\"],[0.3333333333333333,\"#9c179e\"],[0.4444444444444444,\"#bd3786\"],[0.5555555555555556,\"#d8576b\"],[0.6666666666666666,\"#ed7953\"],[0.7777777777777778,\"#fb9f3a\"],[0.8888888888888888,\"#fdca26\"],[1.0,\"#f0f921\"]],\"type\":\"histogram2d\"}],\"histogram\":[{\"marker\":{\"pattern\":{\"fillmode\":\"overlay\",\"size\":10,\"solidity\":0.2}},\"type\":\"histogram\"}],\"mesh3d\":[{\"colorbar\":{\"outlinewidth\":0,\"ticks\":\"\"},\"type\":\"mesh3d\"}],\"parcoords\":[{\"line\":{\"colorbar\":{\"outlinewidth\":0,\"ticks\":\"\"}},\"type\":\"parcoords\"}],\"pie\":[{\"automargin\":true,\"type\":\"pie\"}],\"scatter3d\":[{\"line\":{\"colorbar\":{\"outlinewidth\":0,\"ticks\":\"\"}},\"marker\":{\"colorbar\":{\"outlinewidth\":0,\"ticks\":\"\"}},\"type\":\"scatter3d\"}],\"scattercarpet\":[{\"marker\":{\"colorbar\":{\"outlinewidth\":0,\"ticks\":\"\"}},\"type\":\"scattercarpet\"}],\"scattergeo\":[{\"marker\":{\"colorbar\":{\"outlinewidth\":0,\"ticks\":\"\"}},\"type\":\"scattergeo\"}],\"scattergl\":[{\"marker\":{\"colorbar\":{\"outlinewidth\":0,\"ticks\":\"\"}},\"type\":\"scattergl\"}],\"scattermapbox\":[{\"marker\":{\"colorbar\":{\"outlinewidth\":0,\"ticks\":\"\"}},\"type\":\"scattermapbox\"}],\"scatterpolargl\":[{\"marker\":{\"colorbar\":{\"outlinewidth\":0,\"ticks\":\"\"}},\"type\":\"scatterpolargl\"}],\"scatterpolar\":[{\"marker\":{\"colorbar\":{\"outlinewidth\":0,\"ticks\":\"\"}},\"type\":\"scatterpolar\"}],\"scatter\":[{\"marker\":{\"colorbar\":{\"outlinewidth\":0,\"ticks\":\"\"}},\"type\":\"scatter\"}],\"scatterternary\":[{\"marker\":{\"colorbar\":{\"outlinewidth\":0,\"ticks\":\"\"}},\"type\":\"scatterternary\"}],\"surface\":[{\"colorbar\":{\"outlinewidth\":0,\"ticks\":\"\"},\"colorscale\":[[0.0,\"#0d0887\"],[0.1111111111111111,\"#46039f\"],[0.2222222222222222,\"#7201a8\"],[0.3333333333333333,\"#9c179e\"],[0.4444444444444444,\"#bd3786\"],[0.5555555555555556,\"#d8576b\"],[0.6666666666666666,\"#ed7953\"],[0.7777777777777778,\"#fb9f3a\"],[0.8888888888888888,\"#fdca26\"],[1.0,\"#f0f921\"]],\"type\":\"surface\"}],\"table\":[{\"cells\":{\"fill\":{\"color\":\"#EBF0F8\"},\"line\":{\"color\":\"white\"}},\"header\":{\"fill\":{\"color\":\"#C8D4E3\"},\"line\":{\"color\":\"white\"}},\"type\":\"table\"}]},\"layout\":{\"annotationdefaults\":{\"arrowcolor\":\"#2a3f5f\",\"arrowhead\":0,\"arrowwidth\":1},\"autotypenumbers\":\"strict\",\"coloraxis\":{\"colorbar\":{\"outlinewidth\":0,\"ticks\":\"\"}},\"colorscale\":{\"diverging\":[[0,\"#8e0152\"],[0.1,\"#c51b7d\"],[0.2,\"#de77ae\"],[0.3,\"#f1b6da\"],[0.4,\"#fde0ef\"],[0.5,\"#f7f7f7\"],[0.6,\"#e6f5d0\"],[0.7,\"#b8e186\"],[0.8,\"#7fbc41\"],[0.9,\"#4d9221\"],[1,\"#276419\"]],\"sequential\":[[0.0,\"#0d0887\"],[0.1111111111111111,\"#46039f\"],[0.2222222222222222,\"#7201a8\"],[0.3333333333333333,\"#9c179e\"],[0.4444444444444444,\"#bd3786\"],[0.5555555555555556,\"#d8576b\"],[0.6666666666666666,\"#ed7953\"],[0.7777777777777778,\"#fb9f3a\"],[0.8888888888888888,\"#fdca26\"],[1.0,\"#f0f921\"]],\"sequentialminus\":[[0.0,\"#0d0887\"],[0.1111111111111111,\"#46039f\"],[0.2222222222222222,\"#7201a8\"],[0.3333333333333333,\"#9c179e\"],[0.4444444444444444,\"#bd3786\"],[0.5555555555555556,\"#d8576b\"],[0.6666666666666666,\"#ed7953\"],[0.7777777777777778,\"#fb9f3a\"],[0.8888888888888888,\"#fdca26\"],[1.0,\"#f0f921\"]]},\"colorway\":[\"#636efa\",\"#EF553B\",\"#00cc96\",\"#ab63fa\",\"#FFA15A\",\"#19d3f3\",\"#FF6692\",\"#B6E880\",\"#FF97FF\",\"#FECB52\"],\"font\":{\"color\":\"#2a3f5f\"},\"geo\":{\"bgcolor\":\"white\",\"lakecolor\":\"white\",\"landcolor\":\"#E5ECF6\",\"showlakes\":true,\"showland\":true,\"subunitcolor\":\"white\"},\"hoverlabel\":{\"align\":\"left\"},\"hovermode\":\"closest\",\"mapbox\":{\"style\":\"light\"},\"paper_bgcolor\":\"white\",\"plot_bgcolor\":\"#E5ECF6\",\"polar\":{\"angularaxis\":{\"gridcolor\":\"white\",\"linecolor\":\"white\",\"ticks\":\"\"},\"bgcolor\":\"#E5ECF6\",\"radialaxis\":{\"gridcolor\":\"white\",\"linecolor\":\"white\",\"ticks\":\"\"}},\"scene\":{\"xaxis\":{\"backgroundcolor\":\"#E5ECF6\",\"gridcolor\":\"white\",\"gridwidth\":2,\"linecolor\":\"white\",\"showbackground\":true,\"ticks\":\"\",\"zerolinecolor\":\"white\"},\"yaxis\":{\"backgroundcolor\":\"#E5ECF6\",\"gridcolor\":\"white\",\"gridwidth\":2,\"linecolor\":\"white\",\"showbackground\":true,\"ticks\":\"\",\"zerolinecolor\":\"white\"},\"zaxis\":{\"backgroundcolor\":\"#E5ECF6\",\"gridcolor\":\"white\",\"gridwidth\":2,\"linecolor\":\"white\",\"showbackground\":true,\"ticks\":\"\",\"zerolinecolor\":\"white\"}},\"shapedefaults\":{\"line\":{\"color\":\"#2a3f5f\"}},\"ternary\":{\"aaxis\":{\"gridcolor\":\"white\",\"linecolor\":\"white\",\"ticks\":\"\"},\"baxis\":{\"gridcolor\":\"white\",\"linecolor\":\"white\",\"ticks\":\"\"},\"bgcolor\":\"#E5ECF6\",\"caxis\":{\"gridcolor\":\"white\",\"linecolor\":\"white\",\"ticks\":\"\"}},\"title\":{\"x\":0.05},\"xaxis\":{\"automargin\":true,\"gridcolor\":\"white\",\"linecolor\":\"white\",\"ticks\":\"\",\"title\":{\"standoff\":15},\"zerolinecolor\":\"white\",\"zerolinewidth\":2},\"yaxis\":{\"automargin\":true,\"gridcolor\":\"white\",\"linecolor\":\"white\",\"ticks\":\"\",\"title\":{\"standoff\":15},\"zerolinecolor\":\"white\",\"zerolinewidth\":2}}},\"xaxis\":{\"title\":{\"text\":\"Number\"}},\"yaxis\":{\"range\":[0,100],\"title\":{\"text\":\"Age\"}}},                        {\"responsive\": true}                    ).then(function(){\n",
              "                            \n",
              "var gd = document.getElementById('20f143fc-6859-4b48-9fcc-68f2d15643fa');\n",
              "var x = new MutationObserver(function (mutations, observer) {{\n",
              "        var display = window.getComputedStyle(gd).display;\n",
              "        if (!display || display === 'none') {{\n",
              "            console.log([gd, 'removed!']);\n",
              "            Plotly.purge(gd);\n",
              "            observer.disconnect();\n",
              "        }}\n",
              "}});\n",
              "\n",
              "// Listen for the removal of the full notebook cells\n",
              "var notebookContainer = gd.closest('#notebook-container');\n",
              "if (notebookContainer) {{\n",
              "    x.observe(notebookContainer, {childList: true});\n",
              "}}\n",
              "\n",
              "// Listen for the clearing of the current output cell\n",
              "var outputEl = gd.closest('.output');\n",
              "if (outputEl) {{\n",
              "    x.observe(outputEl, {childList: true});\n",
              "}}\n",
              "\n",
              "                        })                };                });            </script>        </div>"
            ],
            "application/vnd.plotly.v1+json": {
              "layout": {
                "barmode": "overlay",
                "xaxis": {
                  "title": {
                    "text": "Number"
                  }
                },
                "template": {
                  "layout": {
                    "shapedefaults": {
                      "line": {
                        "color": "#2a3f5f"
                      }
                    },
                    "polar": {
                      "radialaxis": {
                        "ticks": "",
                        "gridcolor": "white",
                        "linecolor": "white"
                      },
                      "bgcolor": "#E5ECF6",
                      "angularaxis": {
                        "ticks": "",
                        "gridcolor": "white",
                        "linecolor": "white"
                      }
                    },
                    "colorway": [
                      "#636efa",
                      "#EF553B",
                      "#00cc96",
                      "#ab63fa",
                      "#FFA15A",
                      "#19d3f3",
                      "#FF6692",
                      "#B6E880",
                      "#FF97FF",
                      "#FECB52"
                    ],
                    "xaxis": {
                      "automargin": true,
                      "title": {
                        "standoff": 15
                      },
                      "zerolinewidth": 2,
                      "ticks": "",
                      "zerolinecolor": "white",
                      "gridcolor": "white",
                      "linecolor": "white"
                    },
                    "colorscale": {
                      "diverging": [
                        [
                          0,
                          "#8e0152"
                        ],
                        [
                          0.1,
                          "#c51b7d"
                        ],
                        [
                          0.2,
                          "#de77ae"
                        ],
                        [
                          0.3,
                          "#f1b6da"
                        ],
                        [
                          0.4,
                          "#fde0ef"
                        ],
                        [
                          0.5,
                          "#f7f7f7"
                        ],
                        [
                          0.6,
                          "#e6f5d0"
                        ],
                        [
                          0.7,
                          "#b8e186"
                        ],
                        [
                          0.8,
                          "#7fbc41"
                        ],
                        [
                          0.9,
                          "#4d9221"
                        ],
                        [
                          1,
                          "#276419"
                        ]
                      ],
                      "sequential": [
                        [
                          0,
                          "#0d0887"
                        ],
                        [
                          0.1111111111111111,
                          "#46039f"
                        ],
                        [
                          0.2222222222222222,
                          "#7201a8"
                        ],
                        [
                          0.3333333333333333,
                          "#9c179e"
                        ],
                        [
                          0.4444444444444444,
                          "#bd3786"
                        ],
                        [
                          0.5555555555555556,
                          "#d8576b"
                        ],
                        [
                          0.6666666666666666,
                          "#ed7953"
                        ],
                        [
                          0.7777777777777778,
                          "#fb9f3a"
                        ],
                        [
                          0.8888888888888888,
                          "#fdca26"
                        ],
                        [
                          1,
                          "#f0f921"
                        ]
                      ],
                      "sequentialminus": [
                        [
                          0,
                          "#0d0887"
                        ],
                        [
                          0.1111111111111111,
                          "#46039f"
                        ],
                        [
                          0.2222222222222222,
                          "#7201a8"
                        ],
                        [
                          0.3333333333333333,
                          "#9c179e"
                        ],
                        [
                          0.4444444444444444,
                          "#bd3786"
                        ],
                        [
                          0.5555555555555556,
                          "#d8576b"
                        ],
                        [
                          0.6666666666666666,
                          "#ed7953"
                        ],
                        [
                          0.7777777777777778,
                          "#fb9f3a"
                        ],
                        [
                          0.8888888888888888,
                          "#fdca26"
                        ],
                        [
                          1,
                          "#f0f921"
                        ]
                      ]
                    },
                    "paper_bgcolor": "white",
                    "plot_bgcolor": "#E5ECF6",
                    "title": {
                      "x": 0.05
                    },
                    "yaxis": {
                      "automargin": true,
                      "title": {
                        "standoff": 15
                      },
                      "zerolinewidth": 2,
                      "ticks": "",
                      "zerolinecolor": "white",
                      "gridcolor": "white",
                      "linecolor": "white"
                    },
                    "hoverlabel": {
                      "align": "left"
                    },
                    "scene": {
                      "zaxis": {
                        "backgroundcolor": "#E5ECF6",
                        "ticks": "",
                        "gridwidth": 2,
                        "showbackground": true,
                        "zerolinecolor": "white",
                        "gridcolor": "white",
                        "linecolor": "white"
                      },
                      "xaxis": {
                        "backgroundcolor": "#E5ECF6",
                        "ticks": "",
                        "gridwidth": 2,
                        "showbackground": true,
                        "zerolinecolor": "white",
                        "gridcolor": "white",
                        "linecolor": "white"
                      },
                      "yaxis": {
                        "backgroundcolor": "#E5ECF6",
                        "ticks": "",
                        "gridwidth": 2,
                        "showbackground": true,
                        "zerolinecolor": "white",
                        "gridcolor": "white",
                        "linecolor": "white"
                      }
                    },
                    "annotationdefaults": {
                      "arrowwidth": 1,
                      "arrowhead": 0,
                      "arrowcolor": "#2a3f5f"
                    },
                    "autotypenumbers": "strict",
                    "ternary": {
                      "bgcolor": "#E5ECF6",
                      "baxis": {
                        "ticks": "",
                        "gridcolor": "white",
                        "linecolor": "white"
                      },
                      "caxis": {
                        "ticks": "",
                        "gridcolor": "white",
                        "linecolor": "white"
                      },
                      "aaxis": {
                        "ticks": "",
                        "gridcolor": "white",
                        "linecolor": "white"
                      }
                    },
                    "mapbox": {
                      "style": "light"
                    },
                    "hovermode": "closest",
                    "font": {
                      "color": "#2a3f5f"
                    },
                    "geo": {
                      "showland": true,
                      "landcolor": "#E5ECF6",
                      "showlakes": true,
                      "bgcolor": "white",
                      "subunitcolor": "white",
                      "lakecolor": "white"
                    },
                    "coloraxis": {
                      "colorbar": {
                        "outlinewidth": 0,
                        "ticks": ""
                      }
                    }
                  },
                  "data": {
                    "mesh3d": [
                      {
                        "colorbar": {
                          "outlinewidth": 0,
                          "ticks": ""
                        },
                        "type": "mesh3d"
                      }
                    ],
                    "scattercarpet": [
                      {
                        "marker": {
                          "colorbar": {
                            "outlinewidth": 0,
                            "ticks": ""
                          }
                        },
                        "type": "scattercarpet"
                      }
                    ],
                    "pie": [
                      {
                        "automargin": true,
                        "type": "pie"
                      }
                    ],
                    "surface": [
                      {
                        "colorbar": {
                          "outlinewidth": 0,
                          "ticks": ""
                        },
                        "type": "surface",
                        "colorscale": [
                          [
                            0,
                            "#0d0887"
                          ],
                          [
                            0.1111111111111111,
                            "#46039f"
                          ],
                          [
                            0.2222222222222222,
                            "#7201a8"
                          ],
                          [
                            0.3333333333333333,
                            "#9c179e"
                          ],
                          [
                            0.4444444444444444,
                            "#bd3786"
                          ],
                          [
                            0.5555555555555556,
                            "#d8576b"
                          ],
                          [
                            0.6666666666666666,
                            "#ed7953"
                          ],
                          [
                            0.7777777777777778,
                            "#fb9f3a"
                          ],
                          [
                            0.8888888888888888,
                            "#fdca26"
                          ],
                          [
                            1,
                            "#f0f921"
                          ]
                        ]
                      }
                    ],
                    "table": [
                      {
                        "header": {
                          "line": {
                            "color": "white"
                          },
                          "fill": {
                            "color": "#C8D4E3"
                          }
                        },
                        "cells": {
                          "line": {
                            "color": "white"
                          },
                          "fill": {
                            "color": "#EBF0F8"
                          }
                        },
                        "type": "table"
                      }
                    ],
                    "scatterpolargl": [
                      {
                        "marker": {
                          "colorbar": {
                            "outlinewidth": 0,
                            "ticks": ""
                          }
                        },
                        "type": "scatterpolargl"
                      }
                    ],
                    "contour": [
                      {
                        "colorbar": {
                          "outlinewidth": 0,
                          "ticks": ""
                        },
                        "type": "contour",
                        "colorscale": [
                          [
                            0,
                            "#0d0887"
                          ],
                          [
                            0.1111111111111111,
                            "#46039f"
                          ],
                          [
                            0.2222222222222222,
                            "#7201a8"
                          ],
                          [
                            0.3333333333333333,
                            "#9c179e"
                          ],
                          [
                            0.4444444444444444,
                            "#bd3786"
                          ],
                          [
                            0.5555555555555556,
                            "#d8576b"
                          ],
                          [
                            0.6666666666666666,
                            "#ed7953"
                          ],
                          [
                            0.7777777777777778,
                            "#fb9f3a"
                          ],
                          [
                            0.8888888888888888,
                            "#fdca26"
                          ],
                          [
                            1,
                            "#f0f921"
                          ]
                        ]
                      }
                    ],
                    "carpet": [
                      {
                        "type": "carpet",
                        "baxis": {
                          "minorgridcolor": "white",
                          "gridcolor": "white",
                          "linecolor": "white",
                          "endlinecolor": "#2a3f5f",
                          "startlinecolor": "#2a3f5f"
                        },
                        "aaxis": {
                          "minorgridcolor": "white",
                          "gridcolor": "white",
                          "linecolor": "white",
                          "endlinecolor": "#2a3f5f",
                          "startlinecolor": "#2a3f5f"
                        }
                      }
                    ],
                    "contourcarpet": [
                      {
                        "colorbar": {
                          "outlinewidth": 0,
                          "ticks": ""
                        },
                        "type": "contourcarpet"
                      }
                    ],
                    "heatmap": [
                      {
                        "colorbar": {
                          "outlinewidth": 0,
                          "ticks": ""
                        },
                        "type": "heatmap",
                        "colorscale": [
                          [
                            0,
                            "#0d0887"
                          ],
                          [
                            0.1111111111111111,
                            "#46039f"
                          ],
                          [
                            0.2222222222222222,
                            "#7201a8"
                          ],
                          [
                            0.3333333333333333,
                            "#9c179e"
                          ],
                          [
                            0.4444444444444444,
                            "#bd3786"
                          ],
                          [
                            0.5555555555555556,
                            "#d8576b"
                          ],
                          [
                            0.6666666666666666,
                            "#ed7953"
                          ],
                          [
                            0.7777777777777778,
                            "#fb9f3a"
                          ],
                          [
                            0.8888888888888888,
                            "#fdca26"
                          ],
                          [
                            1,
                            "#f0f921"
                          ]
                        ]
                      }
                    ],
                    "scattermapbox": [
                      {
                        "marker": {
                          "colorbar": {
                            "outlinewidth": 0,
                            "ticks": ""
                          }
                        },
                        "type": "scattermapbox"
                      }
                    ],
                    "scatter3d": [
                      {
                        "marker": {
                          "colorbar": {
                            "outlinewidth": 0,
                            "ticks": ""
                          }
                        },
                        "line": {
                          "colorbar": {
                            "outlinewidth": 0,
                            "ticks": ""
                          }
                        },
                        "type": "scatter3d"
                      }
                    ],
                    "scattergl": [
                      {
                        "marker": {
                          "colorbar": {
                            "outlinewidth": 0,
                            "ticks": ""
                          }
                        },
                        "type": "scattergl"
                      }
                    ],
                    "scatterternary": [
                      {
                        "marker": {
                          "colorbar": {
                            "outlinewidth": 0,
                            "ticks": ""
                          }
                        },
                        "type": "scatterternary"
                      }
                    ],
                    "histogram2d": [
                      {
                        "colorbar": {
                          "outlinewidth": 0,
                          "ticks": ""
                        },
                        "type": "histogram2d",
                        "colorscale": [
                          [
                            0,
                            "#0d0887"
                          ],
                          [
                            0.1111111111111111,
                            "#46039f"
                          ],
                          [
                            0.2222222222222222,
                            "#7201a8"
                          ],
                          [
                            0.3333333333333333,
                            "#9c179e"
                          ],
                          [
                            0.4444444444444444,
                            "#bd3786"
                          ],
                          [
                            0.5555555555555556,
                            "#d8576b"
                          ],
                          [
                            0.6666666666666666,
                            "#ed7953"
                          ],
                          [
                            0.7777777777777778,
                            "#fb9f3a"
                          ],
                          [
                            0.8888888888888888,
                            "#fdca26"
                          ],
                          [
                            1,
                            "#f0f921"
                          ]
                        ]
                      }
                    ],
                    "heatmapgl": [
                      {
                        "colorbar": {
                          "outlinewidth": 0,
                          "ticks": ""
                        },
                        "type": "heatmapgl",
                        "colorscale": [
                          [
                            0,
                            "#0d0887"
                          ],
                          [
                            0.1111111111111111,
                            "#46039f"
                          ],
                          [
                            0.2222222222222222,
                            "#7201a8"
                          ],
                          [
                            0.3333333333333333,
                            "#9c179e"
                          ],
                          [
                            0.4444444444444444,
                            "#bd3786"
                          ],
                          [
                            0.5555555555555556,
                            "#d8576b"
                          ],
                          [
                            0.6666666666666666,
                            "#ed7953"
                          ],
                          [
                            0.7777777777777778,
                            "#fb9f3a"
                          ],
                          [
                            0.8888888888888888,
                            "#fdca26"
                          ],
                          [
                            1,
                            "#f0f921"
                          ]
                        ]
                      }
                    ],
                    "scatterpolar": [
                      {
                        "marker": {
                          "colorbar": {
                            "outlinewidth": 0,
                            "ticks": ""
                          }
                        },
                        "type": "scatterpolar"
                      }
                    ],
                    "histogram": [
                      {
                        "marker": {
                          "pattern": {
                            "fillmode": "overlay",
                            "solidity": 0.2,
                            "size": 10
                          }
                        },
                        "type": "histogram"
                      }
                    ],
                    "scattergeo": [
                      {
                        "marker": {
                          "colorbar": {
                            "outlinewidth": 0,
                            "ticks": ""
                          }
                        },
                        "type": "scattergeo"
                      }
                    ],
                    "bar": [
                      {
                        "marker": {
                          "pattern": {
                            "fillmode": "overlay",
                            "solidity": 0.2,
                            "size": 10
                          },
                          "line": {
                            "color": "#E5ECF6",
                            "width": 0.5
                          }
                        },
                        "type": "bar",
                        "error_x": {
                          "color": "#2a3f5f"
                        },
                        "error_y": {
                          "color": "#2a3f5f"
                        }
                      }
                    ],
                    "choropleth": [
                      {
                        "colorbar": {
                          "outlinewidth": 0,
                          "ticks": ""
                        },
                        "type": "choropleth"
                      }
                    ],
                    "parcoords": [
                      {
                        "line": {
                          "colorbar": {
                            "outlinewidth": 0,
                            "ticks": ""
                          }
                        },
                        "type": "parcoords"
                      }
                    ],
                    "barpolar": [
                      {
                        "marker": {
                          "pattern": {
                            "fillmode": "overlay",
                            "solidity": 0.2,
                            "size": 10
                          },
                          "line": {
                            "color": "#E5ECF6",
                            "width": 0.5
                          }
                        },
                        "type": "barpolar"
                      }
                    ],
                    "histogram2dcontour": [
                      {
                        "colorbar": {
                          "outlinewidth": 0,
                          "ticks": ""
                        },
                        "type": "histogram2dcontour",
                        "colorscale": [
                          [
                            0,
                            "#0d0887"
                          ],
                          [
                            0.1111111111111111,
                            "#46039f"
                          ],
                          [
                            0.2222222222222222,
                            "#7201a8"
                          ],
                          [
                            0.3333333333333333,
                            "#9c179e"
                          ],
                          [
                            0.4444444444444444,
                            "#bd3786"
                          ],
                          [
                            0.5555555555555556,
                            "#d8576b"
                          ],
                          [
                            0.6666666666666666,
                            "#ed7953"
                          ],
                          [
                            0.7777777777777778,
                            "#fb9f3a"
                          ],
                          [
                            0.8888888888888888,
                            "#fdca26"
                          ],
                          [
                            1,
                            "#f0f921"
                          ]
                        ]
                      }
                    ],
                    "scatter": [
                      {
                        "marker": {
                          "colorbar": {
                            "outlinewidth": 0,
                            "ticks": ""
                          }
                        },
                        "type": "scatter"
                      }
                    ]
                  }
                },
                "yaxis": {
                  "range": [
                    0,
                    100
                  ],
                  "title": {
                    "text": "Age"
                  }
                }
              },
              "config": {
                "plotlyServerURL": "https://plot.ly",
                "linkText": "Export to plot.ly",
                "showLink": false
              },
              "data": [
                {
                  "orientation": "h",
                  "y": [
                    1,
                    6,
                    11,
                    16,
                    21,
                    26,
                    31,
                    36,
                    41,
                    46,
                    51,
                    56,
                    61,
                    66,
                    71,
                    76,
                    81,
                    86,
                    91,
                    96,
                    81
                  ],
                  "hoverinfo": "skip",
                  "marker": {
                    "color": "purple"
                  },
                  "x": [
                    4703088,
                    4781058,
                    4838806,
                    4868384,
                    4843381,
                    4756210,
                    4656531,
                    4512297,
                    4351077,
                    4209878,
                    4111213,
                    3985658,
                    3877242,
                    3779060,
                    3679365,
                    3555876,
                    3493199,
                    3482034,
                    3480011,
                    3427458,
                    3302032,
                    3327543,
                    3328090,
                    3384533,
                    3627479,
                    4134177,
                    4492681,
                    4929281,
                    5379069,
                    5727580,
                    5899998,
                    6077810,
                    6148522,
                    6138792,
                    6061914,
                    5933581,
                    5808269,
                    5637783,
                    5478465,
                    5388292,
                    5395778,
                    5366127,
                    5412634,
                    5453610,
                    5377264,
                    5120259,
                    4999831,
                    4834328,
                    4683653,
                    4639203,
                    4760525,
                    4886102,
                    5080598,
                    5332340,
                    5624681,
                    5946323,
                    6180596,
                    6416153,
                    6623082,
                    6745471,
                    6771976,
                    4742004,
                    4655200,
                    4536063,
                    4404890,
                    4269302,
                    4136860,
                    4014832,
                    3903042,
                    3787113,
                    3660614,
                    3529199,
                    3411786,
                    3310913,
                    3257764,
                    3269196,
                    3341125,
                    3395165,
                    3463224,
                    3604846,
                    3850851,
                    4194135,
                    4644347,
                    5144220,
                    5580094,
                    5883893,
                    6038008,
                    6115302,
                    6119632,
                    6078004,
                    6005401,
                    5914871,
                    5837381,
                    5715223,
                    5594999,
                    5492794,
                    5411472,
                    5358779,
                    5333743,
                    5300799,
                    5222015,
                    5096838,
                    4941909,
                    4757421,
                    4628642,
                    4610739,
                    4711070,
                    4895746,
                    5144065,
                    5417159,
                    5681628,
                    5918917,
                    6157085,
                    6383754,
                    6566145,
                    6686030,
                    6743529,
                    6725649,
                    6662930,
                    6578333,
                    6490003,
                    6398293,
                    4133599,
                    4013572,
                    3900203,
                    3793654,
                    3684456,
                    3574747,
                    3460614,
                    3347631,
                    3262061,
                    3235024,
                    3283167,
                    3413992,
                    3581217,
                    3771422,
                    3992684,
                    4264854,
                    4630206,
                    5069591,
                    5520195,
                    5906422,
                    6187095,
                    6324857,
                    6335742,
                    6266607,
                    6163450,
                    6033203,
                    5915858,
                    5784694,
                    5651331,
                    5525618,
                    5420418,
                    5365065,
                    5317834,
                    5275793,
                    5214240,
                    5126761,
                    5014155,
                    4873241,
                    4753009,
                    4692392,
                    4712311,
                    4849703,
                    5070947,
                    5330315,
                    5590218,
                    5838426,
                    6071819,
                    6288531,
                    6480328,
                    6625256,
                    6701965,
                    6713996,
                    6658575,
                    6563457,
                    6455179,
                    6340952,
                    6203946,
                    6078907,
                    5926363,
                    5695614,
                    5367625,
                    3575534,
                    3479190,
                    3379535,
                    3302981,
                    3280245,
                    3333692,
                    3450269,
                    3633405,
                    3878651,
                    4177137,
                    4518970,
                    4850111,
                    5225050,
                    5611514,
                    5950153,
                    6204689,
                    6370669,
                    6415897,
                    6365280,
                    6268491,
                    6162712,
                    6034530,
                    5894572,
                    5751826,
                    5618722,
                    5494284,
                    5408139,
                    5351933,
                    5313452,
                    5262567,
                    5186224,
                    5093691,
                    4952723,
                    4818545,
                    4750252,
                    4785129,
                    4902678,
                    5111872,
                    5384856,
                    5655420,
                    5887677,
                    6117639,
                    6306184,
                    6442924,
                    6530102,
                    6576769,
                    6601954,
                    6570472,
                    6490935,
                    6380937,
                    6253334,
                    6136009,
                    6032755,
                    5906504,
                    5696325,
                    5374697,
                    4925858,
                    4350019,
                    3783720,
                    3438728,
                    3436919,
                    3331616,
                    3461880,
                    3653214,
                    3904907,
                    4205709,
                    4547898,
                    4923267,
                    5344380,
                    5764059,
                    6111256,
                    6342315,
                    6435280,
                    6428649,
                    6359748,
                    6280294,
                    6217713,
                    6081824,
                    5924135,
                    5767168,
                    5631348,
                    5525851,
                    5441027,
                    5392208,
                    5358297,
                    5309944,
                    5223741,
                    5125582,
                    4995799,
                    4871009,
                    4804306,
                    4832694,
                    4959648,
                    5166413,
                    5439179,
                    5724474,
                    5984775,
                    6185656,
                    6369804,
                    6537524,
                    6657680,
                    6712778,
                    6683848,
                    6579180,
                    6428113,
                    6274185,
                    6141615,
                    6019964,
                    5924429,
                    5817747,
                    5629910,
                    5322305,
                    4900926,
                    4342528,
                    3782163,
                    3429533,
                    3407673,
                    3688721,
                    4325267,
                    5135537,
                    5824796,
                    6207866,
                    4518449,
                    4902783,
                    5325380,
                    5745753,
                    6091140,
                    6321801,
                    6430868,
                    6419735,
                    6319875,
                    6185968,
                    6055839,
                    5942169,
                    5819526,
                    5693077,
                    5576686,
                    5485419,
                    5387005,
                    5328250,
                    5294654,
                    5259197,
                    5207088,
                    5123819,
                    5013151,
                    4902634,
                    4844076,
                    4863128,
                    4973258,
                    5168856,
                    5423985,
                    5686581,
                    5925167,
                    6159599,
                    6348908,
                    6501592,
                    6607827,
                    6663198,
                    6646675,
                    6572484,
                    6458106,
                    6310735,
                    6146793,
                    5982638,
                    5837068,
                    5681349,
                    5467763,
                    5172354,
                    4774872,
                    4252599,
                    3723745,
                    3383701,
                    3351937,
                    3626676,
                    4247192,
                    5036836,
                    5701468,
                    6056064,
                    6106207,
                    5830337,
                    5376528,
                    5004916,
                    4872927,
                    6221684,
                    6344272,
                    6339646,
                    6247400,
                    6119418,
                    5996835,
                    5856945,
                    5712697,
                    5573199,
                    5446757,
                    5339645,
                    5264712,
                    5219252,
                    5188403,
                    5149053,
                    5096777,
                    5010063,
                    4901123,
                    4805012,
                    4773407,
                    4835132,
                    4952081,
                    5153297,
                    5406375,
                    5661376,
                    5876026,
                    6076504,
                    6250789,
                    6394324,
                    6495736,
                    6551559,
                    6560478,
                    6483993,
                    6358454,
                    6208889,
                    6053116,
                    5885187,
                    5740036,
                    5595062,
                    5380581,
                    5065316,
                    4664010,
                    4139892,
                    3614325,
                    3284308,
                    3268247,
                    3535859,
                    4141035,
                    4912258,
                    5555944,
                    5883134,
                    5941177,
                    5675895,
                    5231786,
                    4861472,
                    4720723,
                    4760420,
                    5017706,
                    5366665,
                    5596182,
                    5574669,
                    5836934,
                    5718854,
                    5589463,
                    5464745,
                    5350074,
                    5254708,
                    5168792,
                    5120101,
                    5087595,
                    5034565,
                    4941747,
                    4826552,
                    4686442,
                    4575962,
                    4557418,
                    4651143,
                    4776404,
                    4984517,
                    5245617,
                    5511523,
                    5751778,
                    5947493,
                    6120212,
                    6259100,
                    6356497,
                    6396562,
                    6389379,
                    6321446,
                    6208133,
                    6069309,
                    5924392,
                    5774555,
                    5617202,
                    5447406,
                    5218853,
                    4909268,
                    4516239,
                    4017809,
                    3525402,
                    3209167,
                    3181111,
                    3439768,
                    4017665,
                    4749936,
                    5367509,
                    5704672,
                    5748963,
                    5488920,
                    5058882,
                    4695983,
                    4547425,
                    4594601,
                    4853477,
                    5203190,
                    5432562,
                    5409295,
                    5139559,
                    4635211,
                    3996782,
                    3395782,
                    2941257,
                    5063627,
                    5001998,
                    4969524,
                    4952263,
                    4912001,
                    4832196,
                    4699610,
                    4521268,
                    4343904,
                    4244157,
                    4270827,
                    4451437,
                    4722945,
                    5022174,
                    5282717,
                    5486816,
                    5667941,
                    5821137,
                    5948199,
                    6050324,
                    6125265,
                    6130088,
                    6083604,
                    5989417,
                    5864871,
                    5715171,
                    5557357,
                    5407778,
                    5249454,
                    5038258,
                    4753383,
                    4379571,
                    3889416,
                    3404001,
                    3094285,
                    3065632,
                    3302782,
                    3855422,
                    4574636,
                    5182257,
                    5499246,
                    5544180,
                    5278708,
                    4841894,
                    4480931,
                    4349481,
                    4389238,
                    4643981,
                    4991815,
                    5218760,
                    5189594,
                    4950287,
                    4477083,
                    3865853,
                    3281797,
                    2834104,
                    2494143,
                    2276511,
                    2169209,
                    2140216,
                    2165565,
                    4616171,
                    4510231,
                    4352184,
                    4191434,
                    4098340,
                    4121671,
                    4242323,
                    4487765,
                    4807836,
                    5114430,
                    5349337,
                    5475458,
                    5541510,
                    5583894,
                    5628693,
                    5672360,
                    5669125,
                    5624159,
                    5551149,
                    5467300,
                    5378893,
                    5240348,
                    5106751,
                    4957265,
                    4755758,
                    4475585,
                    4126097,
                    3681497,
                    3237500,
                    2951613,
                    2928355,
                    3152845,
                    3664844,
                    4327495,
                    4889900,
                    5190952,
                    5236702,
                    4999874,
                    4606301,
                    4266962,
                    4126538,
                    4159420,
                    4392234,
                    4715551,
                    4940226,
                    4947687,
                    4718366,
                    4272422,
                    3694888,
                    3137602,
                    2704352,
                    2383684,
                    2176683,
                    2074086,
                    2044726,
                    2065807,
                    2137836,
                    2280144,
                    2456236,
                    2612945,
                    2714889,
                    3879708,
                    4000269,
                    4230502,
                    4528363,
                    4808678,
                    5019367,
                    5154141,
                    5218689,
                    5229110,
                    5220341,
                    5216018,
                    5196904,
                    5149749,
                    5060033,
                    4935891,
                    4805862,
                    4704193,
                    4606556,
                    4492231,
                    4328462,
                    4101561,
                    3793472,
                    3400422,
                    2999951,
                    2734368,
                    2696413,
                    2895869,
                    3373584,
                    4002484,
                    4548813,
                    4857821,
                    4909634,
                    4675596,
                    4286417,
                    3953127,
                    3813914,
                    3835128,
                    4055239,
                    4379304,
                    4610074,
                    4620356,
                    4418574,
                    4001529,
                    3456288,
                    2937651,
                    2546837,
                    2238682,
                    2043289,
                    1948635,
                    1921320,
                    1937490,
                    2008779,
                    2148361,
                    2322055,
                    2476421,
                    2575543,
                    2598359,
                    2555992,
                    2466905,
                    2366629,
                    2276757,
                    4602435,
                    4727216,
                    4778335,
                    4777615,
                    4756010,
                    4737999,
                    4702317,
                    4663405,
                    4614561,
                    4540027,
                    4428879,
                    4248833,
                    4072126,
                    3919003,
                    3776374,
                    3611221,
                    3340255,
                    2991905,
                    2643863,
                    2422397,
                    2409696,
                    2576305,
                    2995168,
                    3556055,
                    4051523,
                    4329055,
                    4393599,
                    4210651,
                    3878588,
                    3585615,
                    3463761,
                    3473032,
                    3652355,
                    3926014,
                    4127688,
                    4145191,
                    3975106,
                    3616140,
                    3141196,
                    2675236,
                    2312758,
                    2034788,
                    1856841,
                    1769427,
                    1745585,
                    1768140,
                    1830484,
                    1961749,
                    2128249,
                    2275587,
                    2366299,
                    2396047,
                    2362504,
                    2283289,
                    2191629,
                    2108600,
                    2005496,
                    1902053,
                    1801633,
                    1708910,
                    1627317,
                    4172286,
                    4136730,
                    4091319,
                    4036102,
                    3956860,
                    3847271,
                    3702272,
                    3530424,
                    3336397,
                    3128568,
                    2915319,
                    2726397,
                    2488419,
                    2223449,
                    2017316,
                    1955009,
                    2099280,
                    2464446,
                    2958072,
                    3403931,
                    3675851,
                    3749658,
                    3610505,
                    3331251,
                    3074169,
                    2951179,
                    2952332,
                    3112233,
                    3364189,
                    3563362,
                    3606968,
                    3470527,
                    3152513,
                    2725607,
                    2309886,
                    1990915,
                    1749420,
                    1602155,
                    1539007,
                    1525338,
                    1541300,
                    1596069,
                    1709865,
                    1856895,
                    1994247,
                    2090867,
                    2114505,
                    2083353,
                    2012526,
                    1930860,
                    1856216,
                    1771974,
                    1687394,
                    1604702,
                    1525513,
                    1451739,
                    1369632,
                    1300626,
                    1245827,
                    1205156,
                    1176907,
                    3215056,
                    3093602,
                    2944904,
                    2776872,
                    2596161,
                    2412354,
                    2222976,
                    2020434,
                    1830995,
                    1706158,
                    1687621,
                    1762518,
                    1997118,
                    2344423,
                    2676602,
                    2887500,
                    2969786,
                    2870236,
                    2649316,
                    2440151,
                    2340085,
                    2334275,
                    2460560,
                    2666849,
                    2836697,
                    2876176,
                    2791573,
                    2561138,
                    2229883,
                    1895768,
                    1634636,
                    1430850,
                    1304842,
                    1250979,
                    1239103,
                    1250012,
                    1292845,
                    1387851,
                    1517083,
                    1638724,
                    1720718,
                    1750244,
                    1724720,
                    1658058,
                    1582581,
                    1520198,
                    1451033,
                    1387358,
                    1326901,
                    1266162,
                    1204435,
                    1139651,
                    1083349,
                    1036479,
                    999041,
                    970796,
                    943566,
                    928287,
                    920710,
                    915508,
                    908906,
                    1898425,
                    1750014,
                    1591287,
                    1441910,
                    1336272,
                    1305423,
                    1365765,
                    1546513,
                    1806419,
                    2048894,
                    2194330,
                    2236559,
                    2144120,
                    1955615,
                    1771101,
                    1667654,
                    1655667,
                    1742551,
                    1896002,
                    2031400,
                    2079007,
                    2042407,
                    1891670,
                    1652650,
                    1401139,
                    1197574,
                    1050377,
                    965429,
                    934709,
                    930569,
                    935508,
                    967189,
                    1034258,
                    1126278,
                    1215300,
                    1277022,
                    1308159,
                    1297409,
                    1254202,
                    1198287,
                    1146085,
                    1093200,
                    1041985,
                    993005,
                    945737,
                    899922,
                    853272,
                    813300,
                    780005,
                    751745,
                    726480,
                    707063,
                    697586,
                    695740,
                    696096,
                    693428,
                    680428,
                    663859,
                    645621,
                    629332,
                    616246,
                    925447,
                    954403,
                    1067610,
                    1241358,
                    1408721,
                    1511630,
                    1555238,
                    1494438,
                    1351569,
                    1198665,
                    1097113,
                    1073059,
                    1119026,
                    1211184,
                    1290021,
                    1308795,
                    1306742,
                    1222157,
                    1069959,
                    901772,
                    763048,
                    669728,
                    620789,
                    610338,
                    615505,
                    619369,
                    642981,
                    688866,
                    750273,
                    809645,
                    850963,
                    881716,
                    874940,
                    837878,
                    788662,
                    742153,
                    712262,
                    683900,
                    656643,
                    625784,
                    589474,
                    560255,
                    532964,
                    507924,
                    486205,
                    468866,
                    461944,
                    460878,
                    461537,
                    458965,
                    451058,
                    452093,
                    448548,
                    439601,
                    427601,
                    415762,
                    408800,
                    402977,
                    396325,
                    387550,
                    376737,
                    1355858,
                    1392267,
                    1360519,
                    1271627,
                    1157573,
                    1049196,
                    1028146,
                    1021798,
                    1025156,
                    1014102,
                    967870,
                    948127,
                    881523,
                    779362,
                    667236,
                    567113,
                    548755,
                    543978,
                    552611,
                    560138,
                    553911,
                    607679,
                    648312,
                    675026,
                    686693,
                    679617,
                    709046,
                    706462,
                    676343,
                    630379,
                    579229,
                    565395,
                    543516,
                    516917,
                    484246,
                    445131,
                    445719,
                    439559,
                    427777,
                    409032,
                    383814,
                    396478,
                    402377,
                    401540,
                    393406,
                    377539,
                    386944,
                    386687,
                    378775,
                    365098,
                    346353,
                    353431,
                    353510,
                    348002,
                    337153,
                    320481,
                    318272,
                    310111,
                    297620,
                    282229,
                    264235
                  ],
                  "type": "bar",
                  "name": "Men"
                },
                {
                  "orientation": "h",
                  "y": [
                    1,
                    6,
                    11,
                    16,
                    21,
                    26,
                    31,
                    36,
                    41,
                    46,
                    51,
                    56,
                    61,
                    66,
                    71,
                    76,
                    81,
                    86,
                    91,
                    96,
                    81
                  ],
                  "hoverinfo": "skip",
                  "marker": {
                    "color": "pink"
                  },
                  "x": [
                    -4452313,
                    -4524512,
                    -4576591,
                    -4602696,
                    -4579788,
                    -4501710,
                    -4412738,
                    -4282560,
                    -4135936,
                    -4006125,
                    -3913679,
                    -3796591,
                    -3693324,
                    -3598438,
                    -3502038,
                    -3383535,
                    -3323969,
                    -3313005,
                    -3310617,
                    -3260307,
                    -3141399,
                    -3161561,
                    -3158193,
                    -3209308,
                    -3439714,
                    -3923314,
                    -4266771,
                    -4687702,
                    -5124766,
                    -5470357,
                    -5654773,
                    -5834222,
                    -5912979,
                    -5915436,
                    -5852265,
                    -5736949,
                    -5622724,
                    -5461068,
                    -5307219,
                    -5217043,
                    -5217929,
                    -5186848,
                    -5228646,
                    -5267017,
                    -5197264,
                    -4961241,
                    -4852755,
                    -4698272,
                    -4556863,
                    -4518459,
                    -4645129,
                    -4747611,
                    -4907343,
                    -5124036,
                    -5390133,
                    -5697632,
                    -5918995,
                    -6148890,
                    -6355054,
                    -6479788,
                    -6510927,
                    -4491628,
                    -4414588,
                    -4308059,
                    -4189556,
                    -4064819,
                    -3940439,
                    -3826777,
                    -3720948,
                    -3609908,
                    -3488244,
                    -3361793,
                    -3250340,
                    -3154616,
                    -3103111,
                    -3111181,
                    -3175222,
                    -3226334,
                    -3291478,
                    -3428256,
                    -3666155,
                    -3997642,
                    -4423956,
                    -4898919,
                    -5316160,
                    -5613029,
                    -5773527,
                    -5858308,
                    -5877242,
                    -5853945,
                    -5800673,
                    -5729182,
                    -5658074,
                    -5544463,
                    -5430669,
                    -5329989,
                    -5244864,
                    -5188615,
                    -5157518,
                    -5121808,
                    -5049191,
                    -4940889,
                    -4802462,
                    -4639992,
                    -4530296,
                    -4521366,
                    -4616975,
                    -4792452,
                    -5027519,
                    -5283660,
                    -5529802,
                    -5749665,
                    -5950799,
                    -6152277,
                    -6321530,
                    -6438906,
                    -6501491,
                    -6480691,
                    -6420318,
                    -6341233,
                    -6258952,
                    -6173862,
                    -3938138,
                    -3827651,
                    -3721686,
                    -3620766,
                    -3515925,
                    -3409000,
                    -3300594,
                    -3193003,
                    -3110775,
                    -3082775,
                    -3124489,
                    -3245595,
                    -3400942,
                    -3580328,
                    -3793033,
                    -4056699,
                    -4414287,
                    -4842272,
                    -5278862,
                    -5651722,
                    -5923803,
                    -6062121,
                    -6081998,
                    -6026112,
                    -5936920,
                    -5820302,
                    -5712374,
                    -5591742,
                    -5470616,
                    -5357434,
                    -5262056,
                    -5199011,
                    -5144122,
                    -5095775,
                    -5030749,
                    -4942873,
                    -4841977,
                    -4717089,
                    -4615551,
                    -4574481,
                    -4611571,
                    -4746868,
                    -4960356,
                    -5205235,
                    -5442323,
                    -5660220,
                    -5873474,
                    -6064572,
                    -6228835,
                    -6350415,
                    -6411435,
                    -6420473,
                    -6372809,
                    -6288822,
                    -6189012,
                    -6079521,
                    -5946279,
                    -5828302,
                    -5690170,
                    -5483792,
                    -5189253,
                    -3417418,
                    -3326746,
                    -3232589,
                    -3159388,
                    -3135076,
                    -3180320,
                    -3288780,
                    -3457629,
                    -3685048,
                    -3966560,
                    -4294849,
                    -4625416,
                    -5001397,
                    -5387054,
                    -5720665,
                    -5965776,
                    -6130781,
                    -6179879,
                    -6140001,
                    -6058464,
                    -5967402,
                    -5846059,
                    -5708720,
                    -5564561,
                    -5427955,
                    -5299865,
                    -5217278,
                    -5162539,
                    -5122588,
                    -5068124,
                    -4987399,
                    -4893687,
                    -4758804,
                    -4636067,
                    -4581377,
                    -4627856,
                    -4763731,
                    -4984040,
                    -5256261,
                    -5511755,
                    -5714798,
                    -5908396,
                    -6062787,
                    -6175990,
                    -6253366,
                    -6299298,
                    -6321216,
                    -6287195,
                    -6203792,
                    -6086441,
                    -5947457,
                    -5832099,
                    -5728986,
                    -5605813,
                    -5409083,
                    -5115085,
                    -4716160,
                    -4201583,
                    -3696557,
                    -3397892,
                    -3419328,
                    -3200116,
                    -3321640,
                    -3498623,
                    -3733171,
                    -4018322,
                    -4348353,
                    -4721761,
                    -5143731,
                    -5565111,
                    -5912592,
                    -6141801,
                    -6238911,
                    -6234362,
                    -6167797,
                    -6092218,
                    -6033619,
                    -5920242,
                    -5782722,
                    -5638318,
                    -5504946,
                    -5393979,
                    -5303050,
                    -5244430,
                    -5197888,
                    -5136516,
                    -5039761,
                    -4939556,
                    -4807854,
                    -4682531,
                    -4617417,
                    -4648967,
                    -4793046,
                    -5019594,
                    -5307354,
                    -5595004,
                    -5841261,
                    -6019682,
                    -6160426,
                    -6271107,
                    -6337020,
                    -6354310,
                    -6343234,
                    -6274103,
                    -6162801,
                    -6036989,
                    -5913064,
                    -5784134,
                    -5669315,
                    -5538379,
                    -5334471,
                    -5029008,
                    -4649369,
                    -4148942,
                    -3653526,
                    -3358570,
                    -3377487,
                    -3683032,
                    -4324591,
                    -5123482,
                    -5791787,
                    -6152270,
                    -4361845,
                    -4746219,
                    -5173840,
                    -5601725,
                    -5953178,
                    -6185857,
                    -6301823,
                    -6293723,
                    -6195805,
                    -6067471,
                    -5949250,
                    -5857972,
                    -5759966,
                    -5653826,
                    -5546405,
                    -5451002,
                    -5352291,
                    -5285109,
                    -5240148,
                    -5193507,
                    -5129969,
                    -5033001,
                    -4907792,
                    -4784787,
                    -4719334,
                    -4738670,
                    -4856244,
                    -5062714,
                    -5328225,
                    -5593747,
                    -5822730,
                    -6043512,
                    -6207653,
                    -6328299,
                    -6403500,
                    -6434349,
                    -6399516,
                    -6317864,
                    -6208081,
                    -6073898,
                    -5925843,
                    -5787205,
                    -5656902,
                    -5506864,
                    -5292653,
                    -4995140,
                    -4608052,
                    -4107691,
                    -3613221,
                    -3313347,
                    -3317586,
                    -3627793,
                    -4270616,
                    -5067563,
                    -5727391,
                    -6072467,
                    -6108526,
                    -5822090,
                    -5370213,
                    -5018440,
                    -4924650,
                    -6164816,
                    -6298230,
                    -6301359,
                    -6215611,
                    -6096053,
                    -5985665,
                    -5870824,
                    -5757115,
                    -5648397,
                    -5544744,
                    -5447786,
                    -5367315,
                    -5305759,
                    -5255349,
                    -5199932,
                    -5136909,
                    -5046911,
                    -4932309,
                    -4827014,
                    -4783839,
                    -4834688,
                    -4953457,
                    -5160807,
                    -5420629,
                    -5677881,
                    -5886802,
                    -6071213,
                    -6217627,
                    -6324948,
                    -6388866,
                    -6412003,
                    -6407998,
                    -6330569,
                    -6213934,
                    -6077411,
                    -5933532,
                    -5778974,
                    -5644468,
                    -5505716,
                    -5296370,
                    -4990231,
                    -4599754,
                    -4091040,
                    -3588342,
                    -3286384,
                    -3297244,
                    -3597188,
                    -4228659,
                    -5011433,
                    -5647819,
                    -5952861,
                    -5990534,
                    -5703970,
                    -5251656,
                    -4899494,
                    -4807165,
                    -4904333,
                    -5232071,
                    -5668815,
                    -6014782,
                    -6146300,
                    -5938224,
                    -5845644,
                    -5747218,
                    -5653742,
                    -5561196,
                    -5473199,
                    -5389803,
                    -5330148,
                    -5278864,
                    -5208994,
                    -5108067,
                    -4991594,
                    -4855711,
                    -4751755,
                    -4738586,
                    -4834883,
                    -4959850,
                    -5168200,
                    -5431127,
                    -5697498,
                    -5931990,
                    -6118461,
                    -6270163,
                    -6377105,
                    -6437521,
                    -6442026,
                    -6405081,
                    -6313189,
                    -6184059,
                    -6036233,
                    -5885722,
                    -5750309,
                    -5612895,
                    -5462766,
                    -5248322,
                    -4946809,
                    -4558937,
                    -4062361,
                    -3577973,
                    -3283294,
                    -3288142,
                    -3583295,
                    -4202920,
                    -4968820,
                    -5595991,
                    -5912545,
                    -5927613,
                    -5618188,
                    -5137343,
                    -4746829,
                    -4607672,
                    -4722577,
                    -5072391,
                    -5536582,
                    -5908421,
                    -6055724,
                    -5978417,
                    -5712396,
                    -5320021,
                    -4911359,
                    -4558749,
                    -5408000,
                    -5347888,
                    -5303572,
                    -5266289,
                    -5205611,
                    -5110944,
                    -4979215,
                    -4808725,
                    -4646559,
                    -4566917,
                    -4614649,
                    -4808814,
                    -5092254,
                    -5402334,
                    -5671832,
                    -5880110,
                    -6064088,
                    -6211275,
                    -6321574,
                    -6395879,
                    -6432976,
                    -6403936,
                    -6320700,
                    -6191378,
                    -6038132,
                    -5867726,
                    -5704404,
                    -5556706,
                    -5400205,
                    -5182602,
                    -4881939,
                    -4508396,
                    -4013154,
                    -3528540,
                    -3237907,
                    -3248809,
                    -3539032,
                    -4155111,
                    -4928473,
                    -5560100,
                    -5867038,
                    -5883203,
                    -5567160,
                    -5076289,
                    -4680780,
                    -4545885,
                    -4622725,
                    -4938323,
                    -5376741,
                    -5733127,
                    -5874331,
                    -5853911,
                    -5637529,
                    -5274449,
                    -4865886,
                    -4490642,
                    -4150789,
                    -3835075,
                    -3583583,
                    -3447446,
                    -3450586,
                    -5031962,
                    -4922605,
                    -4766388,
                    -4615104,
                    -4538724,
                    -4583972,
                    -4740417,
                    -5020738,
                    -5371616,
                    -5704428,
                    -5962244,
                    -6111402,
                    -6194250,
                    -6244228,
                    -6285305,
                    -6313467,
                    -6288981,
                    -6210150,
                    -6092024,
                    -5956502,
                    -5817305,
                    -5659781,
                    -5516242,
                    -5357300,
                    -5136740,
                    -4824907,
                    -4440169,
                    -3949414,
                    -3466932,
                    -3170772,
                    -3170746,
                    -3464718,
                    -4070408,
                    -4826842,
                    -5450066,
                    -5763161,
                    -5780880,
                    -5479350,
                    -5013844,
                    -4630349,
                    -4489711,
                    -4559378,
                    -4855636,
                    -5267554,
                    -5608322,
                    -5762956,
                    -5741772,
                    -5550753,
                    -5230536,
                    -4862335,
                    -4507145,
                    -4156468,
                    -3811300,
                    -3528620,
                    -3371182,
                    -3364692,
                    -3490551,
                    -3768059,
                    -4116423,
                    -4413070,
                    -4582359,
                    -4493587,
                    -4657715,
                    -4936069,
                    -5282926,
                    -5608374,
                    -5858851,
                    -6037259,
                    -6138779,
                    -6179296,
                    -6192860,
                    -6201647,
                    -6182057,
                    -6123808,
                    -6009190,
                    -5846063,
                    -5669914,
                    -5516862,
                    -5373722,
                    -5220791,
                    -5017280,
                    -4742464,
                    -4375796,
                    -3905948,
                    -3435051,
                    -3136969,
                    -3114853,
                    -3375389,
                    -3949489,
                    -4678279,
                    -5287577,
                    -5606181,
                    -5648327,
                    -5357561,
                    -4895341,
                    -4513348,
                    -4372303,
                    -4438571,
                    -4734713,
                    -5157358,
                    -5503372,
                    -5648659,
                    -5624072,
                    -5431605,
                    -5120697,
                    -4780999,
                    -4471520,
                    -4135721,
                    -3794208,
                    -3496195,
                    -3309455,
                    -3273711,
                    -3400128,
                    -3690252,
                    -4056051,
                    -4364331,
                    -4535132,
                    -4565804,
                    -4463565,
                    -4276644,
                    -4090411,
                    -3957462,
                    -5684912,
                    -5869069,
                    -5971683,
                    -6015527,
                    -6030190,
                    -6040218,
                    -6027303,
                    -6001817,
                    -5949945,
                    -5846876,
                    -5679589,
                    -5425949,
                    -5174712,
                    -4959814,
                    -4769751,
                    -4560958,
                    -4209643,
                    -3763881,
                    -3326752,
                    -3060994,
                    -3064562,
                    -3300742,
                    -3838511,
                    -4525508,
                    -5102290,
                    -5393974,
                    -5426178,
                    -5157684,
                    -4725567,
                    -4367651,
                    -4240794,
                    -4302590,
                    -4573378,
                    -4965383,
                    -5294596,
                    -5442881,
                    -5418426,
                    -5236054,
                    -4947161,
                    -4622136,
                    -4316669,
                    -4009548,
                    -3692558,
                    -3410521,
                    -3232125,
                    -3200989,
                    -3297382,
                    -3567942,
                    -3935133,
                    -4263349,
                    -4459753,
                    -4503963,
                    -4409884,
                    -4224484,
                    -4031268,
                    -3884733,
                    -3755927,
                    -3665198,
                    -3599774,
                    -3532419,
                    -3443993,
                    -5774988,
                    -5773028,
                    -5753234,
                    -5710432,
                    -5618067,
                    -5466367,
                    -5240970,
                    -4963497,
                    -4651671,
                    -4331559,
                    -4024769,
                    -3781132,
                    -3479107,
                    -3148871,
                    -2907751,
                    -2868909,
                    -3100338,
                    -3614796,
                    -4269641,
                    -4822675,
                    -5119706,
                    -5151954,
                    -4903100,
                    -4492595,
                    -4148167,
                    -4013901,
                    -4056814,
                    -4310059,
                    -4682321,
                    -4999057,
                    -5149842,
                    -5132678,
                    -4949068,
                    -4660375,
                    -4348094,
                    -4067897,
                    -3777471,
                    -3487723,
                    -3238703,
                    -3078929,
                    -3046559,
                    -3135686,
                    -3379894,
                    -3710531,
                    -4011386,
                    -4206218,
                    -4272204,
                    -4216323,
                    -4070949,
                    -3905440,
                    -3768638,
                    -3630129,
                    -3525109,
                    -3445816,
                    -3367799,
                    -3273180,
                    -3135163,
                    -2980993,
                    -2821204,
                    -2676348,
                    -2559856,
                    -5106985,
                    -4909032,
                    -4656536,
                    -4373589,
                    -4083658,
                    -3809045,
                    -3517014,
                    -3222005,
                    -2969787,
                    -2837606,
                    -2878660,
                    -3041131,
                    -3429870,
                    -3961511,
                    -4440286,
                    -4716802,
                    -4739523,
                    -4496538,
                    -4107452,
                    -3785418,
                    -3670249,
                    -3697582,
                    -3926421,
                    -4269602,
                    -4565846,
                    -4700583,
                    -4669903,
                    -4496677,
                    -4228836,
                    -3945160,
                    -3698886,
                    -3439776,
                    -3176860,
                    -2950952,
                    -2808072,
                    -2782264,
                    -2855557,
                    -3078713,
                    -3394652,
                    -3684732,
                    -3870203,
                    -3928264,
                    -3871340,
                    -3734271,
                    -3588395,
                    -3481394,
                    -3359093,
                    -3262121,
                    -3182446,
                    -3097668,
                    -2993133,
                    -2859576,
                    -2716599,
                    -2570574,
                    -2436302,
                    -2326183,
                    -2207809,
                    -2114278,
                    -2044068,
                    -1992086,
                    -1952679,
                    -3424348,
                    -3176126,
                    -2926546,
                    -2712636,
                    -2594095,
                    -2620121,
                    -2775646,
                    -3125209,
                    -3580059,
                    -3972000,
                    -4181446,
                    -4175179,
                    -3946719,
                    -3583054,
                    -3265762,
                    -3124939,
                    -3122336,
                    -3308542,
                    -3613170,
                    -3892222,
                    -4042774,
                    -4020226,
                    -3867474,
                    -3623421,
                    -3368787,
                    -3152136,
                    -2927989,
                    -2715967,
                    -2533688,
                    -2412174,
                    -2382361,
                    -2444468,
                    -2633689,
                    -2907101,
                    -3166087,
                    -3338358,
                    -3392857,
                    -3351806,
                    -3246511,
                    -3127443,
                    -3033794,
                    -2922254,
                    -2830749,
                    -2754259,
                    -2677758,
                    -2589900,
                    -2456782,
                    -2319160,
                    -2185312,
                    -2064696,
                    -1959600,
                    -1850685,
                    -1764280,
                    -1703327,
                    -1664191,
                    -1637989,
                    -1590001,
                    -1554421,
                    -1526877,
                    -1502688,
                    -1478074,
                    -2194264,
                    -2303248,
                    -2574599,
                    -2947851,
                    -3284052,
                    -3475738,
                    -3469287,
                    -3269707,
                    -2946119,
                    -2648783,
                    -2489613,
                    -2449755,
                    -2570171,
                    -2795095,
                    -3004067,
                    -3109031,
                    -3106710,
                    -2989140,
                    -2789391,
                    -2578642,
                    -2405059,
                    -2235551,
                    -2090303,
                    -1972748,
                    -1897994,
                    -1882756,
                    -1915625,
                    -2057417,
                    -2274296,
                    -2488483,
                    -2641301,
                    -2705387,
                    -2675785,
                    -2578886,
                    -2462752,
                    -2364331,
                    -2273155,
                    -2203215,
                    -2152240,
                    -2098384,
                    -2025814,
                    -1915819,
                    -1795274,
                    -1672216,
                    -1562034,
                    -1473704,
                    -1392372,
                    -1327956,
                    -1272349,
                    -1221812,
                    -1179984,
                    -1169917,
                    -1172379,
                    -1172979,
                    -1160606,
                    -1134795,
                    -1102023,
                    -1066364,
                    -1028448,
                    -991087,
                    -955828,
                    -4228615,
                    -4218783,
                    -4080772,
                    -3845473,
                    -3580929,
                    -3347211,
                    -3284547,
                    -3279638,
                    -3307249,
                    -3305833,
                    -3225727,
                    -3186645,
                    -3060572,
                    -2867271,
                    -2653961,
                    -2457114,
                    -2437888,
                    -2429704,
                    -2427173,
                    -2415858,
                    -2387763,
                    -2527884,
                    -2671789,
                    -2802940,
                    -2890175,
                    -2901416,
                    -2948681,
                    -2914689,
                    -2813668,
                    -2676771,
                    -2528576,
                    -2435817,
                    -2332921,
                    -2227934,
                    -2113017,
                    -1981279,
                    -1919132,
                    -1842161,
                    -1750967,
                    -1644527,
                    -1528950,
                    -1491865,
                    -1456821,
                    -1418501,
                    -1370208,
                    -1308760,
                    -1303587,
                    -1293407,
                    -1277775,
                    -1250875,
                    -1205076,
                    -1178382,
                    -1133541,
                    -1077943,
                    -1018197,
                    -955568,
                    -923010,
                    -884717,
                    -841338,
                    -793681,
                    -741733
                  ],
                  "type": "bar",
                  "name": "Women"
                }
              ]
            }
          },
          "metadata": {}
        }
      ],
      "source": [
        "pop_pyramid(new_pop(place='RUS'))"
      ]
    },
    {
      "cell_type": "markdown",
      "metadata": {
        "id": "o6red_cGRMpx"
      },
      "source": [
        "## [#C] Animated Population Pyramids"
      ]
    },
    {
      "cell_type": "code",
      "execution_count": null,
      "metadata": {
        "id": "2wAjTox1SSFF"
      },
      "outputs": [],
      "source": [
        "def pop_pyramid_ani(year):\n",
        "  age_ranges = []\n",
        "  df = new_pop(place='RUS')\n",
        "  df = df[df['date'] == str(year)]\n",
        "  # creating population pyramid in increments of 5 years\n",
        "  for i in range(0,80,5):\n",
        "    age_ranges.append(f\"{i:02d}\"+f\"{i+4:02d}\")\n",
        "\n",
        "  age_ranges.append(\"80UP\")\n",
        "\n",
        "  layout = go.Layout(barmode='overlay',\n",
        "                   yaxis=go.layout.YAxis(range=[0, 90], title='Age'),\n",
        "                   xaxis=go.layout.XAxis(title='Population'))\n",
        "\n",
        "  # distinguishing between male and female (two sides of the pyramid)\n",
        "  bins = [go.Bar(x = df['male'],\n",
        "               y = [int(s[:2])+1 for s in age_ranges],\n",
        "               orientation='h',\n",
        "               name='Men',\n",
        "               marker=dict(color='purple'),\n",
        "               hoverinfo='skip'\n",
        "               ),\n",
        "\n",
        "        go.Bar(x = -df['female'],\n",
        "               y=[int(s[:2])+1 for s in age_ranges],\n",
        "               orientation='h',\n",
        "               name='Women',\n",
        "               marker=dict(color='pink'),\n",
        "               hoverinfo='skip',\n",
        "               )\n",
        "        ]\n",
        "  py.iplot(dict(data=bins, layout=layout))"
      ]
    },
    {
      "cell_type": "code",
      "execution_count": null,
      "metadata": {
        "colab": {
          "base_uri": "https://localhost:8080/",
          "height": 663,
          "referenced_widgets": [
            "e03348829eaf4c6db8a8a0c79d2fcb11",
            "8718b2b86c034ae9aebd74a3f3393915",
            "38c42cca41f34951ac39c4870e204216",
            "bbdcd79e0d974ff299fc3ab0b45e41e3",
            "310d640c73bd44d782b15471c8e28734",
            "91bc988751a54128b61016a88b17ac3b",
            "3c157025eaeb44fb80b2d64c1196801a"
          ]
        },
        "id": "c786DuNwd-t3",
        "outputId": "ff90a8a1-a00f-41db-e0f3-4f0abfc17d22"
      },
      "outputs": [
        {
          "output_type": "stream",
          "name": "stderr",
          "text": [
            "/usr/local/lib/python3.7/dist-packages/pandas/core/frame.py:9138: FutureWarning:\n",
            "\n",
            "merging between different levels is deprecated and will be removed in a future version. (2 levels on the left,1 on the right)\n",
            "\n"
          ]
        },
        {
          "output_type": "display_data",
          "data": {
            "application/vnd.jupyter.widget-view+json": {
              "model_id": "e03348829eaf4c6db8a8a0c79d2fcb11",
              "version_minor": 0,
              "version_major": 2
            },
            "text/plain": [
              "interactive(children=(IntSlider(value=1990, description='year', max=2020, min=1960), Output()), _dom_classes=(…"
            ]
          },
          "metadata": {}
        },
        {
          "output_type": "execute_result",
          "data": {
            "text/plain": [
              "<function __main__.pop_pyramid_ani>"
            ]
          },
          "metadata": {},
          "execution_count": 160
        }
      ],
      "source": [
        "years = new_pop(place='RUS')['date']\n",
        "years.sort_values\n",
        "max = years[0]\n",
        "min = years.values[-1]\n",
        "\n",
        "interact(pop_pyramid_ani, year=(int(min), int(max)))"
      ]
    },
    {
      "cell_type": "code",
      "execution_count": null,
      "metadata": {
        "colab": {
          "base_uri": "https://localhost:8080/",
          "height": 484
        },
        "id": "Q5qZGBZKhdt9",
        "outputId": "6b2933c1-f79d-4bf8-d2bf-111284bf7583"
      },
      "outputs": [
        {
          "output_type": "display_data",
          "data": {
            "text/html": [
              "        <script type=\"text/javascript\">\n",
              "        window.PlotlyConfig = {MathJaxConfig: 'local'};\n",
              "        if (window.MathJax) {MathJax.Hub.Config({SVG: {font: \"STIX-Web\"}});}\n",
              "        if (typeof require !== 'undefined') {\n",
              "        require.undef(\"plotly\");\n",
              "        requirejs.config({\n",
              "            paths: {\n",
              "                'plotly': ['https://cdn.plot.ly/plotly-2.8.3.min']\n",
              "            }\n",
              "        });\n",
              "        require(['plotly'], function(Plotly) {\n",
              "            window._Plotly = Plotly;\n",
              "        });\n",
              "        }\n",
              "        </script>\n",
              "        "
            ]
          },
          "metadata": {}
        },
        {
          "output_type": "error",
          "ename": "TypeError",
          "evalue": "ignored",
          "traceback": [
            "\u001b[0;31m---------------------------------------------------------------------------\u001b[0m",
            "\u001b[0;31mTypeError\u001b[0m                                 Traceback (most recent call last)",
            "\u001b[0;32m<ipython-input-157-fcddf39ee9d4>\u001b[0m in \u001b[0;36m<module>\u001b[0;34m()\u001b[0m\n\u001b[1;32m     23\u001b[0m \u001b[0;34m\u001b[0m\u001b[0m\n\u001b[1;32m     24\u001b[0m \u001b[0;34m\u001b[0m\u001b[0m\n\u001b[0;32m---> 25\u001b[0;31m \u001b[0mplt\u001b[0m\u001b[0;34m.\u001b[0m\u001b[0mxticks\u001b[0m\u001b[0;34m(\u001b[0m\u001b[0mnp\u001b[0m\u001b[0;34m.\u001b[0m\u001b[0marange\u001b[0m\u001b[0;34m(\u001b[0m\u001b[0mmin\u001b[0m\u001b[0;34m(\u001b[0m\u001b[0mRUS_FR\u001b[0m\u001b[0;34m[\u001b[0m\u001b[0;34m'date'\u001b[0m\u001b[0;34m]\u001b[0m\u001b[0;34m)\u001b[0m\u001b[0;34m,\u001b[0m \u001b[0mmax\u001b[0m\u001b[0;34m(\u001b[0m\u001b[0mRUS_FR\u001b[0m\u001b[0;34m[\u001b[0m\u001b[0;34m'date'\u001b[0m\u001b[0;34m]\u001b[0m\u001b[0;34m)\u001b[0m\u001b[0;34m+\u001b[0m\u001b[0;36m1\u001b[0m\u001b[0;34m,\u001b[0m \u001b[0;36m10\u001b[0m\u001b[0;34m)\u001b[0m\u001b[0;34m)\u001b[0m\u001b[0;34m\u001b[0m\u001b[0;34m\u001b[0m\u001b[0m\n\u001b[0m\u001b[1;32m     26\u001b[0m \u001b[0max\u001b[0m\u001b[0;34m.\u001b[0m\u001b[0mset\u001b[0m\u001b[0;34m(\u001b[0m\u001b[0mxlabel\u001b[0m\u001b[0;34m=\u001b[0m\u001b[0;34m'Year'\u001b[0m\u001b[0;34m,\u001b[0m \u001b[0mylabel\u001b[0m\u001b[0;34m=\u001b[0m\u001b[0;34m'Total Fertility Rate (births per woman)'\u001b[0m\u001b[0;34m)\u001b[0m\u001b[0;34m;\u001b[0m\u001b[0;34m\u001b[0m\u001b[0;34m\u001b[0m\u001b[0m\n",
            "\u001b[0;31mTypeError\u001b[0m: 'str' object is not callable"
          ]
        },
        {
          "output_type": "display_data",
          "data": {
            "image/png": "[encoded data removed]",
            "text/plain": [
              "<Figure size 432x288 with 1 Axes>"
            ]
          },
          "metadata": {
            "needs_background": "light"
          }
        }
      ],
      "source": [
        "# fertility rate visualization \n",
        "cf.go_offline()\n",
        "wbdata.get_country('RUS')\n",
        "\n",
        "variable_labels = {\"SP.DYN.TFRT.IN\":\"Russia Total Fertility Rate\"}\n",
        "\n",
        "RUS_FR = wbdata.get_dataframe(variable_labels, country=\"RUS\")\n",
        "RUS_FR = RUS_FR.reset_index()\n",
        "# By Russian fertility from 1960 - 2020\n",
        "RUS_FR['date'] = RUS_FR['date'].astype(int)\n",
        "# By World fertility from 1960 - 2020\n",
        "variable_labels = {\"SP.DYN.TFRT.IN\":\"World Total Fertility Rate\"}\n",
        "WLD_FR = wbdata.get_dataframe(variable_labels, country=\"WLD\")\n",
        "WLD_FR = WLD_FR.reset_index()\n",
        "WLD_FR['date'] = WLD_FR['date'].astype(int)\n",
        "\n",
        "fig, ax = plt.subplots()\n",
        "sns.lineplot(data=RUS_FR, x=\"date\", y=\"Russia Total Fertility Rate\", \n",
        "             label = 'Russia Total Fertility Rate', color='red', linewidth=2.5, dashes=(5, 1), ax = ax)\n",
        "sns.lineplot(data=WLD_FR, x=\"date\", y=\"World Total Fertility Rate\", \n",
        "             label = 'World Total Fertility Rate', color='green', linewidth=2.5, ax = ax)\n",
        "\n",
        "\n",
        "\n",
        "plt.xticks(np.arange(min(RUS_FR['date']), max(RUS_FR['date'])+1, 10))\n",
        "ax.set(xlabel='Year', ylabel='Total Fertility Rate (births per woman)');"
      ]
    },
    {
      "cell_type": "code",
      "execution_count": null,
      "metadata": {
        "colab": {
          "base_uri": "https://localhost:8080/",
          "height": 279
        },
        "id": "iRUHiXTChoHe",
        "outputId": "d9f9f678-81e6-4ce2-880d-0ac7b20bf3fe"
      },
      "outputs": [
        {
          "data": {
            "image/png": "[encoded data removed]",
            "text/plain": [
              "<Figure size 432x288 with 1 Axes>"
            ]
          },
          "metadata": {},
          "output_type": "display_data"
        }
      ],
      "source": [
        "\n",
        "# birth vs death rate\n",
        "new_variable_label = {\"SP.DYN.CBRT.IN\":\"Russia Total Birth Rate\"}\n",
        "# birth rate\n",
        "RUS_BR = wbdata.get_dataframe(new_variable_label, country=\"RUS\")\n",
        "RUS_BR = RUS_BR.reset_index()\n",
        "\n",
        "RUS_BR['date'] = RUS_BR['date'].astype(int)\n",
        "\n",
        "next_variable_label = {\"SP.DYN.CDRT.IN\":\"Russia Total Death Rate\"}\n",
        "# death rate\n",
        "RUS_DR = wbdata.get_dataframe(next_variable_label, country=\"RUS\")\n",
        "RUS_DR = RUS_DR.reset_index()\n",
        "\n",
        "RUS_DR['date'] = RUS_DR['date'].astype(int)\n",
        "\n",
        "fig, ax = plt.subplots()\n",
        "sns.lineplot(data=RUS_BR, x=\"date\", y=\"Russia Total Birth Rate\", \n",
        "             label = 'Russia Total Birth Rate', color='yellow', linewidth=2.5, dashes=(5, 1), ax = ax)\n",
        "sns.lineplot(data=RUS_DR, x=\"date\", y=\"Russia Total Death Rate\", \n",
        "             label = 'Russia Total Death Rate', color='blue', linewidth=2.5, dashes=(5, 1), ax = ax)\n",
        "\n",
        "# line indicates intersection point\n",
        "plt.axvline(x = 1992, color = 'green', linestyle = '--')\n",
        "\n",
        "plt.xticks(np.arange(min(RUS_BR['date']), max(RUS_BR['date'])+1, 10))\n",
        "ax.set(xlabel='Year', ylabel='Hundreds of Thousands of People');"
      ]
    },
    {
      "cell_type": "code",
      "execution_count": null,
      "metadata": {
        "id": "WjyTVd9Pj5ta"
      },
      "outputs": [],
      "source": [
        ""
      ]
    },
    {
      "cell_type": "markdown",
      "metadata": {
        "id": "7_2DkiMoTvTO"
      },
      "source": [
        "## Part C: Population Maps"
      ]
    },
    {
      "cell_type": "code",
      "source": [
        "!pip install geopandas"
      ],
      "metadata": {
        "colab": {
          "base_uri": "https://localhost:8080/"
        },
        "id": "UIyvuUFYk8ke",
        "outputId": "5add76ac-977b-4677-f53c-95d61b897680"
      },
      "execution_count": null,
      "outputs": [
        {
          "output_type": "stream",
          "name": "stdout",
          "text": [
            "Collecting geopandas\n",
            "  Downloading geopandas-0.10.2-py2.py3-none-any.whl (1.0 MB)\n",
            "\u001b[K     |████████████████████████████████| 1.0 MB 21.0 MB/s \n",
            "\u001b[?25hCollecting pyproj>=2.2.0\n",
            "  Downloading pyproj-3.2.1-cp37-cp37m-manylinux2010_x86_64.whl (6.3 MB)\n",
            "\u001b[K     |████████████████████████████████| 6.3 MB 59.2 MB/s \n",
            "\u001b[?25hCollecting fiona>=1.8\n",
            "  Downloading Fiona-1.8.21-cp37-cp37m-manylinux2014_x86_64.whl (16.7 MB)\n",
            "\u001b[K     |████████████████████████████████| 16.7 MB 281 kB/s \n",
            "\u001b[?25hRequirement already satisfied: pandas>=0.25.0 in /usr/local/lib/python3.7/dist-packages (from geopandas) (1.3.5)\n",
            "Requirement already satisfied: shapely>=1.6 in /usr/local/lib/python3.7/dist-packages (from geopandas) (1.8.0)\n",
            "Collecting munch\n",
            "  Downloading munch-2.5.0-py2.py3-none-any.whl (10 kB)\n",
            "Requirement already satisfied: six>=1.7 in /usr/local/lib/python3.7/dist-packages (from fiona>=1.8->geopandas) (1.15.0)\n",
            "Requirement already satisfied: attrs>=17 in /usr/local/lib/python3.7/dist-packages (from fiona>=1.8->geopandas) (21.4.0)\n",
            "Requirement already satisfied: setuptools in /usr/local/lib/python3.7/dist-packages (from fiona>=1.8->geopandas) (57.4.0)\n",
            "Collecting cligj>=0.5\n",
            "  Downloading cligj-0.7.2-py3-none-any.whl (7.1 kB)\n",
            "Requirement already satisfied: certifi in /usr/local/lib/python3.7/dist-packages (from fiona>=1.8->geopandas) (2021.10.8)\n",
            "Requirement already satisfied: click>=4.0 in /usr/local/lib/python3.7/dist-packages (from fiona>=1.8->geopandas) (7.1.2)\n",
            "Collecting click-plugins>=1.0\n",
            "  Downloading click_plugins-1.1.1-py2.py3-none-any.whl (7.5 kB)\n",
            "Requirement already satisfied: numpy>=1.17.3 in /usr/local/lib/python3.7/dist-packages (from pandas>=0.25.0->geopandas) (1.19.5)\n",
            "Requirement already satisfied: python-dateutil>=2.7.3 in /usr/local/lib/python3.7/dist-packages (from pandas>=0.25.0->geopandas) (2.8.2)\n",
            "Requirement already satisfied: pytz>=2017.3 in /usr/local/lib/python3.7/dist-packages (from pandas>=0.25.0->geopandas) (2018.9)\n",
            "Installing collected packages: munch, cligj, click-plugins, pyproj, fiona, geopandas\n",
            "Successfully installed click-plugins-1.1.1 cligj-0.7.2 fiona-1.8.21 geopandas-0.10.2 munch-2.5.0 pyproj-3.2.1\n"
          ]
        }
      ]
    },
    {
      "cell_type": "code",
      "source": [
        "import geopandas\n",
        "import matplotlib.pyplot as plt\n",
        "import pandas as pd\n",
        "import io"
      ],
      "metadata": {
        "id": "_aICZzDhkqhJ"
      },
      "execution_count": null,
      "outputs": []
    },
    {
      "cell_type": "markdown",
      "source": [
        "Upload this file to the cell below https://docs.google.com/spreadsheets/d/1MixyKBAuL6rescUaKW-CQcmVx9foA5QTW072iJnuBgQ/edit?usp=sharing"
      ],
      "metadata": {
        "id": "fytxsFuL-Uz2"
      }
    },
    {
      "cell_type": "code",
      "source": [
        "from google.colab import files\n",
        "uploaded = files.upload()"
      ],
      "metadata": {
        "colab": {
          "resources": {
            "http://localhost:8080/nbextensions/google.colab/files.js": {
              "data": "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",
              "ok": true,
              "headers": [
                [
                  "content-type",
                  "application/javascript"
                ]
              ],
              "status": 200,
              "status_text": ""
            }
          },
          "base_uri": "https://localhost:8080/",
          "height": 73
        },
        "id": "fIpquHrJz74C",
        "outputId": "dd86b45a-eee6-462d-d1ed-c5a914b6ed79"
      },
      "execution_count": null,
      "outputs": [
        {
          "output_type": "display_data",
          "data": {
            "text/html": [
              "\n",
              "     <input type=\"file\" id=\"files-e09623c4-6247-4b0c-b825-ce63824eb136\" name=\"files[]\" multiple disabled\n",
              "        style=\"border:none\" />\n",
              "     <output id=\"result-e09623c4-6247-4b0c-b825-ce63824eb136\">\n",
              "      Upload widget is only available when the cell has been executed in the\n",
              "      current browser session. Please rerun this cell to enable.\n",
              "      </output>\n",
              "      <script src=\"/nbextensions/google.colab/files.js\"></script> "
            ],
            "text/plain": [
              "<IPython.core.display.HTML object>"
            ]
          },
          "metadata": {}
        },
        {
          "output_type": "stream",
          "name": "stdout",
          "text": [
            "Saving rus_pop.csv to rus_pop (2).csv\n"
          ]
        }
      ]
    },
    {
      "cell_type": "code",
      "execution_count": null,
      "metadata": {
        "colab": {
          "base_uri": "https://localhost:8080/",
          "height": 424
        },
        "id": "nRhFdA7iUyJe",
        "outputId": "0eae8b55-463f-4cbd-dc2e-4f5b3a2586d4"
      },
      "outputs": [
        {
          "output_type": "execute_result",
          "data": {
            "text/html": [
              "\n",
              "  <div id=\"df-1c51737d-5fac-4b64-aa42-9e6eddf9bf55\">\n",
              "    <div class=\"colab-df-container\">\n",
              "      <div>\n",
              "<style scoped>\n",
              "    .dataframe tbody tr th:only-of-type {\n",
              "        vertical-align: middle;\n",
              "    }\n",
              "\n",
              "    .dataframe tbody tr th {\n",
              "        vertical-align: top;\n",
              "    }\n",
              "\n",
              "    .dataframe thead th {\n",
              "        text-align: right;\n",
              "    }\n",
              "</style>\n",
              "<table border=\"1\" class=\"dataframe\">\n",
              "  <thead>\n",
              "    <tr style=\"text-align: right;\">\n",
              "      <th></th>\n",
              "      <th>ID_0</th>\n",
              "      <th>ISO</th>\n",
              "      <th>NAME_0</th>\n",
              "      <th>ID_1</th>\n",
              "      <th>NAME_1</th>\n",
              "      <th>NL_NAME_1</th>\n",
              "      <th>VARNAME_1</th>\n",
              "      <th>TYPE_1</th>\n",
              "      <th>ENGTYPE_1</th>\n",
              "      <th>geometry</th>\n",
              "    </tr>\n",
              "  </thead>\n",
              "  <tbody>\n",
              "    <tr>\n",
              "      <th>0</th>\n",
              "      <td>186</td>\n",
              "      <td>RUS</td>\n",
              "      <td>Russia</td>\n",
              "      <td>28</td>\n",
              "      <td>Karachay-Cherkess</td>\n",
              "      <td>?????????-????????? ??????????</td>\n",
              "      <td>Karaçay-Çerkes|Karachay-Cherkessiya|Karachayev...</td>\n",
              "      <td>Respublika</td>\n",
              "      <td>Republic</td>\n",
              "      <td>POLYGON ((42.13194 44.34488, 42.19061 44.32248...</td>\n",
              "    </tr>\n",
              "    <tr>\n",
              "      <th>1</th>\n",
              "      <td>186</td>\n",
              "      <td>RUS</td>\n",
              "      <td>Russia</td>\n",
              "      <td>29</td>\n",
              "      <td>Karelia</td>\n",
              "      <td>?????????? ???????</td>\n",
              "      <td>Karelian A.S.S.R.|Karelo-Finnish A.S.S.R.|Kare...</td>\n",
              "      <td>Respublika</td>\n",
              "      <td>Republic</td>\n",
              "      <td>MULTIPOLYGON (((36.77098 64.02402, 36.75969 64...</td>\n",
              "    </tr>\n",
              "    <tr>\n",
              "      <th>2</th>\n",
              "      <td>186</td>\n",
              "      <td>RUS</td>\n",
              "      <td>Russia</td>\n",
              "      <td>30</td>\n",
              "      <td>Kemerovo</td>\n",
              "      <td>??????????? ???????</td>\n",
              "      <td>Kemerovskaya Oblast</td>\n",
              "      <td>Oblast</td>\n",
              "      <td>Region</td>\n",
              "      <td>POLYGON ((88.63731 56.77809, 88.64615 56.73922...</td>\n",
              "    </tr>\n",
              "    <tr>\n",
              "      <th>3</th>\n",
              "      <td>186</td>\n",
              "      <td>RUS</td>\n",
              "      <td>Russia</td>\n",
              "      <td>31</td>\n",
              "      <td>Khabarovsk</td>\n",
              "      <td>??????????? ????</td>\n",
              "      <td>Khabarovskiy Kray</td>\n",
              "      <td>Kray</td>\n",
              "      <td>Territory</td>\n",
              "      <td>MULTIPOLYGON (((136.64362 45.04694, 136.64417 ...</td>\n",
              "    </tr>\n",
              "    <tr>\n",
              "      <th>4</th>\n",
              "      <td>186</td>\n",
              "      <td>RUS</td>\n",
              "      <td>Russia</td>\n",
              "      <td>32</td>\n",
              "      <td>Khakass</td>\n",
              "      <td>?????????? ???????</td>\n",
              "      <td>Khakassiya|Republic of Khakasia|Khakasskaya A....</td>\n",
              "      <td>Respublika</td>\n",
              "      <td>Republic</td>\n",
              "      <td>MULTIPOLYGON (((91.45279 53.70172, 91.44386 53...</td>\n",
              "    </tr>\n",
              "    <tr>\n",
              "      <th>...</th>\n",
              "      <td>...</td>\n",
              "      <td>...</td>\n",
              "      <td>...</td>\n",
              "      <td>...</td>\n",
              "      <td>...</td>\n",
              "      <td>...</td>\n",
              "      <td>...</td>\n",
              "      <td>...</td>\n",
              "      <td>...</td>\n",
              "      <td>...</td>\n",
              "    </tr>\n",
              "    <tr>\n",
              "      <th>80</th>\n",
              "      <td>186</td>\n",
              "      <td>RUS</td>\n",
              "      <td>Russia</td>\n",
              "      <td>40</td>\n",
              "      <td>Krasnoyarsk</td>\n",
              "      <td>???????????? ????</td>\n",
              "      <td>Krasnoyarskiy Kray|Yeniseisk|Yeniseyskaya G.</td>\n",
              "      <td>Kray</td>\n",
              "      <td>Territory</td>\n",
              "      <td>MULTIPOLYGON (((106.36668 69.53505, 106.28728 ...</td>\n",
              "    </tr>\n",
              "    <tr>\n",
              "      <th>81</th>\n",
              "      <td>186</td>\n",
              "      <td>RUS</td>\n",
              "      <td>Russia</td>\n",
              "      <td>21</td>\n",
              "      <td>Irkutsk</td>\n",
              "      <td>????????? ???????</td>\n",
              "      <td>Irkutskaya Oblast</td>\n",
              "      <td>Oblast</td>\n",
              "      <td>Region</td>\n",
              "      <td>POLYGON ((108.51489 64.24889, 108.49897 64.208...</td>\n",
              "    </tr>\n",
              "    <tr>\n",
              "      <th>82</th>\n",
              "      <td>186</td>\n",
              "      <td>RUS</td>\n",
              "      <td>Russia</td>\n",
              "      <td>13</td>\n",
              "      <td>Zabaikalskiy Krai</td>\n",
              "      <td>None</td>\n",
              "      <td>Zabaikalskiy Krai</td>\n",
              "      <td>Oblast</td>\n",
              "      <td>Region</td>\n",
              "      <td>MULTIPOLYGON (((107.70453 49.95612, 107.69301 ...</td>\n",
              "    </tr>\n",
              "    <tr>\n",
              "      <th>83</th>\n",
              "      <td>186</td>\n",
              "      <td>RUS</td>\n",
              "      <td>Russia</td>\n",
              "      <td>27</td>\n",
              "      <td>Kamchatka</td>\n",
              "      <td>?????????? ???????</td>\n",
              "      <td>Kamï¿½atka|Kamchatskaya Oblast</td>\n",
              "      <td>Oblast</td>\n",
              "      <td>Region</td>\n",
              "      <td>MULTIPOLYGON (((157.27618 51.24185, 157.27545 ...</td>\n",
              "    </tr>\n",
              "    <tr>\n",
              "      <th>84</th>\n",
              "      <td>186</td>\n",
              "      <td>RUS</td>\n",
              "      <td>Russia</td>\n",
              "      <td>60</td>\n",
              "      <td>Perm'</td>\n",
              "      <td>???????? ???????</td>\n",
              "      <td>Molotov|Permskaya Oblast</td>\n",
              "      <td>Kray</td>\n",
              "      <td>Territory</td>\n",
              "      <td>POLYGON ((53.43537 61.05370, 53.34233 60.90009...</td>\n",
              "    </tr>\n",
              "  </tbody>\n",
              "</table>\n",
              "<p>85 rows × 10 columns</p>\n",
              "</div>\n",
              "      <button class=\"colab-df-convert\" onclick=\"convertToInteractive('df-1c51737d-5fac-4b64-aa42-9e6eddf9bf55')\"\n",
              "              title=\"Convert this dataframe to an interactive table.\"\n",
              "              style=\"display:none;\">\n",
              "        \n",
              "  <svg xmlns=\"http://www.w3.org/2000/svg\" height=\"24px\"viewBox=\"0 0 24 24\"\n",
              "       width=\"24px\">\n",
              "    <path d=\"M0 0h24v24H0V0z\" fill=\"none\"/>\n",
              "    <path d=\"M18.56 5.44l.94 2.06.94-2.06 2.06-.94-2.06-.94-.94-2.06-.94 2.06-2.06.94zm-11 1L8.5 8.5l.94-2.06 2.06-.94-2.06-.94L8.5 2.5l-.94 2.06-2.06.94zm10 10l.94 2.06.94-2.06 2.06-.94-2.06-.94-.94-2.06-.94 2.06-2.06.94z\"/><path d=\"M17.41 7.96l-1.37-1.37c-.4-.4-.92-.59-1.43-.59-.52 0-1.04.2-1.43.59L10.3 9.45l-7.72 7.72c-.78.78-.78 2.05 0 2.83L4 21.41c.39.39.9.59 1.41.59.51 0 1.02-.2 1.41-.59l7.78-7.78 2.81-2.81c.8-.78.8-2.07 0-2.86zM5.41 20L4 18.59l7.72-7.72 1.47 1.35L5.41 20z\"/>\n",
              "  </svg>\n",
              "      </button>\n",
              "      \n",
              "  <style>\n",
              "    .colab-df-container {\n",
              "      display:flex;\n",
              "      flex-wrap:wrap;\n",
              "      gap: 12px;\n",
              "    }\n",
              "\n",
              "    .colab-df-convert {\n",
              "      background-color: #E8F0FE;\n",
              "      border: none;\n",
              "      border-radius: 50%;\n",
              "      cursor: pointer;\n",
              "      display: none;\n",
              "      fill: #1967D2;\n",
              "      height: 32px;\n",
              "      padding: 0 0 0 0;\n",
              "      width: 32px;\n",
              "    }\n",
              "\n",
              "    .colab-df-convert:hover {\n",
              "      background-color: #E2EBFA;\n",
              "      box-shadow: 0px 1px 2px rgba(60, 64, 67, 0.3), 0px 1px 3px 1px rgba(60, 64, 67, 0.15);\n",
              "      fill: #174EA6;\n",
              "    }\n",
              "\n",
              "    [theme=dark] .colab-df-convert {\n",
              "      background-color: #3B4455;\n",
              "      fill: #D2E3FC;\n",
              "    }\n",
              "\n",
              "    [theme=dark] .colab-df-convert:hover {\n",
              "      background-color: #434B5C;\n",
              "      box-shadow: 0px 1px 3px 1px rgba(0, 0, 0, 0.15);\n",
              "      filter: drop-shadow(0px 1px 2px rgba(0, 0, 0, 0.3));\n",
              "      fill: #FFFFFF;\n",
              "    }\n",
              "  </style>\n",
              "\n",
              "      <script>\n",
              "        const buttonEl =\n",
              "          document.querySelector('#df-1c51737d-5fac-4b64-aa42-9e6eddf9bf55 button.colab-df-convert');\n",
              "        buttonEl.style.display =\n",
              "          google.colab.kernel.accessAllowed ? 'block' : 'none';\n",
              "\n",
              "        async function convertToInteractive(key) {\n",
              "          const element = document.querySelector('#df-1c51737d-5fac-4b64-aa42-9e6eddf9bf55');\n",
              "          const dataTable =\n",
              "            await google.colab.kernel.invokeFunction('convertToInteractive',\n",
              "                                                     [key], {});\n",
              "          if (!dataTable) return;\n",
              "\n",
              "          const docLinkHtml = 'Like what you see? Visit the ' +\n",
              "            '<a target=\"_blank\" href=https://colab.research.google.com/notebooks/data_table.ipynb>data table notebook</a>'\n",
              "            + ' to learn more about interactive tables.';\n",
              "          element.innerHTML = '';\n",
              "          dataTable['output_type'] = 'display_data';\n",
              "          await google.colab.output.renderOutput(dataTable, element);\n",
              "          const docLink = document.createElement('div');\n",
              "          docLink.innerHTML = docLinkHtml;\n",
              "          element.appendChild(docLink);\n",
              "        }\n",
              "      </script>\n",
              "    </div>\n",
              "  </div>\n",
              "  "
            ],
            "text/plain": [
              "    ID_0  ISO  ...  ENGTYPE_1                                           geometry\n",
              "0    186  RUS  ...   Republic  POLYGON ((42.13194 44.34488, 42.19061 44.32248...\n",
              "1    186  RUS  ...   Republic  MULTIPOLYGON (((36.77098 64.02402, 36.75969 64...\n",
              "2    186  RUS  ...     Region  POLYGON ((88.63731 56.77809, 88.64615 56.73922...\n",
              "3    186  RUS  ...  Territory  MULTIPOLYGON (((136.64362 45.04694, 136.64417 ...\n",
              "4    186  RUS  ...   Republic  MULTIPOLYGON (((91.45279 53.70172, 91.44386 53...\n",
              "..   ...  ...  ...        ...                                                ...\n",
              "80   186  RUS  ...  Territory  MULTIPOLYGON (((106.36668 69.53505, 106.28728 ...\n",
              "81   186  RUS  ...     Region  POLYGON ((108.51489 64.24889, 108.49897 64.208...\n",
              "82   186  RUS  ...     Region  MULTIPOLYGON (((107.70453 49.95612, 107.69301 ...\n",
              "83   186  RUS  ...     Region  MULTIPOLYGON (((157.27618 51.24185, 157.27545 ...\n",
              "84   186  RUS  ...  Territory  POLYGON ((53.43537 61.05370, 53.34233 60.90009...\n",
              "\n",
              "[85 rows x 10 columns]"
            ]
          },
          "metadata": {},
          "execution_count": 72
        }
      ],
      "source": [
        "url = \"https://raw.githubusercontent.com/Kreozot/russian-geo-data/master/geo.json\"\n",
        "rus_map = geopandas.read_file(url)\n",
        "\n",
        "rus_map"
      ]
    },
    {
      "cell_type": "code",
      "source": [
        "rus_pop = pd.read_csv(io.BytesIO(uploaded['rus_pop.csv']))\n",
        "rus_pop\n",
        "# Dataset is now stored in a Pandas Dataframe"
      ],
      "metadata": {
        "colab": {
          "base_uri": "https://localhost:8080/",
          "height": 424
        },
        "id": "Xp0dFf_Y0LdM",
        "outputId": "af26418b-ed85-40e4-8768-1b9cea650b91"
      },
      "execution_count": null,
      "outputs": [
        {
          "output_type": "execute_result",
          "data": {
            "text/html": [
              "\n",
              "  <div id=\"df-06d29117-ee7f-492d-8995-ae6f8e1a18bc\">\n",
              "    <div class=\"colab-df-container\">\n",
              "      <div>\n",
              "<style scoped>\n",
              "    .dataframe tbody tr th:only-of-type {\n",
              "        vertical-align: middle;\n",
              "    }\n",
              "\n",
              "    .dataframe tbody tr th {\n",
              "        vertical-align: top;\n",
              "    }\n",
              "\n",
              "    .dataframe thead th {\n",
              "        text-align: right;\n",
              "    }\n",
              "</style>\n",
              "<table border=\"1\" class=\"dataframe\">\n",
              "  <thead>\n",
              "    <tr style=\"text-align: right;\">\n",
              "      <th></th>\n",
              "      <th>Rank</th>\n",
              "      <th>Federal subject</th>\n",
              "      <th>Population 2022</th>\n",
              "      <th>Population 2010</th>\n",
              "      <th>% change</th>\n",
              "      <th>Land area\\n(km2)[4]</th>\n",
              "      <th>Population density\\n(per km2)</th>\n",
              "      <th>Unnamed: 7</th>\n",
              "      <th>Unnamed: 8</th>\n",
              "    </tr>\n",
              "  </thead>\n",
              "  <tbody>\n",
              "    <tr>\n",
              "      <th>0</th>\n",
              "      <td>1</td>\n",
              "      <td>Moskva</td>\n",
              "      <td>12632409</td>\n",
              "      <td>11503501</td>\n",
              "      <td>9.8100</td>\n",
              "      <td>2,561</td>\n",
              "      <td>4932.61</td>\n",
              "      <td>NaN</td>\n",
              "      <td>Karachay-Cherkess</td>\n",
              "    </tr>\n",
              "    <tr>\n",
              "      <th>1</th>\n",
              "      <td>2</td>\n",
              "      <td>Moscow City</td>\n",
              "      <td>7765918</td>\n",
              "      <td>7095120</td>\n",
              "      <td>9.4500</td>\n",
              "      <td>44,329</td>\n",
              "      <td>175.19</td>\n",
              "      <td>NaN</td>\n",
              "      <td>Karelia</td>\n",
              "    </tr>\n",
              "    <tr>\n",
              "      <th>2</th>\n",
              "      <td>3</td>\n",
              "      <td>Krasnodar</td>\n",
              "      <td>5681962</td>\n",
              "      <td>5226647</td>\n",
              "      <td>8.7100</td>\n",
              "      <td>75,485</td>\n",
              "      <td>75.27</td>\n",
              "      <td>NaN</td>\n",
              "      <td>Kemerovo</td>\n",
              "    </tr>\n",
              "    <tr>\n",
              "      <th>3</th>\n",
              "      <td>4</td>\n",
              "      <td>City of St. Petersburg</td>\n",
              "      <td>5376672</td>\n",
              "      <td>4879566</td>\n",
              "      <td>10.1900</td>\n",
              "      <td>1,403</td>\n",
              "      <td>3832.27</td>\n",
              "      <td>NaN</td>\n",
              "      <td>Khabarovsk</td>\n",
              "    </tr>\n",
              "    <tr>\n",
              "      <th>4</th>\n",
              "      <td>5</td>\n",
              "      <td>Sverdlovsk</td>\n",
              "      <td>4261084</td>\n",
              "      <td>4297747</td>\n",
              "      <td>0.8500</td>\n",
              "      <td>194,307</td>\n",
              "      <td>21.93</td>\n",
              "      <td>NaN</td>\n",
              "      <td>Khakass</td>\n",
              "    </tr>\n",
              "    <tr>\n",
              "      <th>...</th>\n",
              "      <td>...</td>\n",
              "      <td>...</td>\n",
              "      <td>...</td>\n",
              "      <td>...</td>\n",
              "      <td>...</td>\n",
              "      <td>...</td>\n",
              "      <td>...</td>\n",
              "      <td>...</td>\n",
              "      <td>...</td>\n",
              "    </tr>\n",
              "    <tr>\n",
              "      <th>81</th>\n",
              "      <td>82</td>\n",
              "      <td>Yevrey</td>\n",
              "      <td>153712</td>\n",
              "      <td>176558</td>\n",
              "      <td>12.9400</td>\n",
              "      <td>36,271</td>\n",
              "      <td>4.24</td>\n",
              "      <td>NaN</td>\n",
              "      <td>Irkutsk</td>\n",
              "    </tr>\n",
              "    <tr>\n",
              "      <th>82</th>\n",
              "      <td>83</td>\n",
              "      <td>Maga Buryatdan</td>\n",
              "      <td>137529</td>\n",
              "      <td>156996</td>\n",
              "      <td>12.4000</td>\n",
              "      <td>462,464</td>\n",
              "      <td>0.30</td>\n",
              "      <td>NaN</td>\n",
              "      <td>Zabaikalskiy Krai</td>\n",
              "    </tr>\n",
              "    <tr>\n",
              "      <th>83</th>\n",
              "      <td>84</td>\n",
              "      <td>Chukot</td>\n",
              "      <td>50294</td>\n",
              "      <td>50526</td>\n",
              "      <td>0.4600</td>\n",
              "      <td>721,481</td>\n",
              "      <td>0.07</td>\n",
              "      <td>NaN</td>\n",
              "      <td>Kamchatka</td>\n",
              "    </tr>\n",
              "    <tr>\n",
              "      <th>84</th>\n",
              "      <td>85</td>\n",
              "      <td>Nenets</td>\n",
              "      <td>44483</td>\n",
              "      <td>42090</td>\n",
              "      <td>5.6900</td>\n",
              "      <td>176,810</td>\n",
              "      <td>0.25</td>\n",
              "      <td>NaN</td>\n",
              "      <td>Perm'</td>\n",
              "    </tr>\n",
              "    <tr>\n",
              "      <th>85</th>\n",
              "      <td>Total</td>\n",
              "      <td>Russian Federation</td>\n",
              "      <td>145478097</td>\n",
              "      <td>142856536</td>\n",
              "      <td>0.0184</td>\n",
              "      <td>17,125,191</td>\n",
              "      <td>8.49</td>\n",
              "      <td>NaN</td>\n",
              "      <td>NaN</td>\n",
              "    </tr>\n",
              "  </tbody>\n",
              "</table>\n",
              "<p>86 rows × 9 columns</p>\n",
              "</div>\n",
              "      <button class=\"colab-df-convert\" onclick=\"convertToInteractive('df-06d29117-ee7f-492d-8995-ae6f8e1a18bc')\"\n",
              "              title=\"Convert this dataframe to an interactive table.\"\n",
              "              style=\"display:none;\">\n",
              "        \n",
              "  <svg xmlns=\"http://www.w3.org/2000/svg\" height=\"24px\"viewBox=\"0 0 24 24\"\n",
              "       width=\"24px\">\n",
              "    <path d=\"M0 0h24v24H0V0z\" fill=\"none\"/>\n",
              "    <path d=\"M18.56 5.44l.94 2.06.94-2.06 2.06-.94-2.06-.94-.94-2.06-.94 2.06-2.06.94zm-11 1L8.5 8.5l.94-2.06 2.06-.94-2.06-.94L8.5 2.5l-.94 2.06-2.06.94zm10 10l.94 2.06.94-2.06 2.06-.94-2.06-.94-.94-2.06-.94 2.06-2.06.94z\"/><path d=\"M17.41 7.96l-1.37-1.37c-.4-.4-.92-.59-1.43-.59-.52 0-1.04.2-1.43.59L10.3 9.45l-7.72 7.72c-.78.78-.78 2.05 0 2.83L4 21.41c.39.39.9.59 1.41.59.51 0 1.02-.2 1.41-.59l7.78-7.78 2.81-2.81c.8-.78.8-2.07 0-2.86zM5.41 20L4 18.59l7.72-7.72 1.47 1.35L5.41 20z\"/>\n",
              "  </svg>\n",
              "      </button>\n",
              "      \n",
              "  <style>\n",
              "    .colab-df-container {\n",
              "      display:flex;\n",
              "      flex-wrap:wrap;\n",
              "      gap: 12px;\n",
              "    }\n",
              "\n",
              "    .colab-df-convert {\n",
              "      background-color: #E8F0FE;\n",
              "      border: none;\n",
              "      border-radius: 50%;\n",
              "      cursor: pointer;\n",
              "      display: none;\n",
              "      fill: #1967D2;\n",
              "      height: 32px;\n",
              "      padding: 0 0 0 0;\n",
              "      width: 32px;\n",
              "    }\n",
              "\n",
              "    .colab-df-convert:hover {\n",
              "      background-color: #E2EBFA;\n",
              "      box-shadow: 0px 1px 2px rgba(60, 64, 67, 0.3), 0px 1px 3px 1px rgba(60, 64, 67, 0.15);\n",
              "      fill: #174EA6;\n",
              "    }\n",
              "\n",
              "    [theme=dark] .colab-df-convert {\n",
              "      background-color: #3B4455;\n",
              "      fill: #D2E3FC;\n",
              "    }\n",
              "\n",
              "    [theme=dark] .colab-df-convert:hover {\n",
              "      background-color: #434B5C;\n",
              "      box-shadow: 0px 1px 3px 1px rgba(0, 0, 0, 0.15);\n",
              "      filter: drop-shadow(0px 1px 2px rgba(0, 0, 0, 0.3));\n",
              "      fill: #FFFFFF;\n",
              "    }\n",
              "  </style>\n",
              "\n",
              "      <script>\n",
              "        const buttonEl =\n",
              "          document.querySelector('#df-06d29117-ee7f-492d-8995-ae6f8e1a18bc button.colab-df-convert');\n",
              "        buttonEl.style.display =\n",
              "          google.colab.kernel.accessAllowed ? 'block' : 'none';\n",
              "\n",
              "        async function convertToInteractive(key) {\n",
              "          const element = document.querySelector('#df-06d29117-ee7f-492d-8995-ae6f8e1a18bc');\n",
              "          const dataTable =\n",
              "            await google.colab.kernel.invokeFunction('convertToInteractive',\n",
              "                                                     [key], {});\n",
              "          if (!dataTable) return;\n",
              "\n",
              "          const docLinkHtml = 'Like what you see? Visit the ' +\n",
              "            '<a target=\"_blank\" href=https://colab.research.google.com/notebooks/data_table.ipynb>data table notebook</a>'\n",
              "            + ' to learn more about interactive tables.';\n",
              "          element.innerHTML = '';\n",
              "          dataTable['output_type'] = 'display_data';\n",
              "          await google.colab.output.renderOutput(dataTable, element);\n",
              "          const docLink = document.createElement('div');\n",
              "          docLink.innerHTML = docLinkHtml;\n",
              "          element.appendChild(docLink);\n",
              "        }\n",
              "      </script>\n",
              "    </div>\n",
              "  </div>\n",
              "  "
            ],
            "text/plain": [
              "     Rank         Federal subject  ...  Unnamed: 7         Unnamed: 8\n",
              "0       1                  Moskva  ...         NaN  Karachay-Cherkess\n",
              "1       2             Moscow City  ...         NaN            Karelia\n",
              "2       3               Krasnodar  ...         NaN           Kemerovo\n",
              "3       4  City of St. Petersburg  ...         NaN         Khabarovsk\n",
              "4       5              Sverdlovsk  ...         NaN            Khakass\n",
              "..    ...                     ...  ...         ...                ...\n",
              "81     82                  Yevrey  ...         NaN            Irkutsk\n",
              "82     83          Maga Buryatdan  ...         NaN  Zabaikalskiy Krai\n",
              "83     84                  Chukot  ...         NaN          Kamchatka\n",
              "84     85                  Nenets  ...         NaN              Perm'\n",
              "85  Total      Russian Federation  ...         NaN                NaN\n",
              "\n",
              "[86 rows x 9 columns]"
            ]
          },
          "metadata": {},
          "execution_count": 73
        }
      ]
    },
    {
      "cell_type": "code",
      "source": [
        "merged = rus_map.merge(rus_pop, how='left', left_on=\"NAME_1\", right_on=\"Federal subject\")\n",
        "merged"
      ],
      "metadata": {
        "colab": {
          "base_uri": "https://localhost:8080/",
          "height": 936
        },
        "id": "F46o9JvD0gVk",
        "outputId": "cc430fb4-e7b4-4e81-ac6c-f77fe865066a"
      },
      "execution_count": null,
      "outputs": [
        {
          "output_type": "execute_result",
          "data": {
            "text/html": [
              "\n",
              "  <div id=\"df-e10aa7f3-7c9e-4a48-9c24-dc81d27e7d10\">\n",
              "    <div class=\"colab-df-container\">\n",
              "      <div>\n",
              "<style scoped>\n",
              "    .dataframe tbody tr th:only-of-type {\n",
              "        vertical-align: middle;\n",
              "    }\n",
              "\n",
              "    .dataframe tbody tr th {\n",
              "        vertical-align: top;\n",
              "    }\n",
              "\n",
              "    .dataframe thead th {\n",
              "        text-align: right;\n",
              "    }\n",
              "</style>\n",
              "<table border=\"1\" class=\"dataframe\">\n",
              "  <thead>\n",
              "    <tr style=\"text-align: right;\">\n",
              "      <th></th>\n",
              "      <th>ID_0</th>\n",
              "      <th>ISO</th>\n",
              "      <th>NAME_0</th>\n",
              "      <th>ID_1</th>\n",
              "      <th>NAME_1</th>\n",
              "      <th>NL_NAME_1</th>\n",
              "      <th>VARNAME_1</th>\n",
              "      <th>TYPE_1</th>\n",
              "      <th>ENGTYPE_1</th>\n",
              "      <th>geometry</th>\n",
              "      <th>Rank</th>\n",
              "      <th>Federal subject</th>\n",
              "      <th>Population 2022</th>\n",
              "      <th>Population 2010</th>\n",
              "      <th>% change</th>\n",
              "      <th>Land area\\n(km2)[4]</th>\n",
              "      <th>Population density\\n(per km2)</th>\n",
              "      <th>Unnamed: 7</th>\n",
              "      <th>Unnamed: 8</th>\n",
              "    </tr>\n",
              "  </thead>\n",
              "  <tbody>\n",
              "    <tr>\n",
              "      <th>0</th>\n",
              "      <td>186</td>\n",
              "      <td>RUS</td>\n",
              "      <td>Russia</td>\n",
              "      <td>28</td>\n",
              "      <td>Karachay-Cherkess</td>\n",
              "      <td>?????????-????????? ??????????</td>\n",
              "      <td>Karaçay-Çerkes|Karachay-Cherkessiya|Karachayev...</td>\n",
              "      <td>Respublika</td>\n",
              "      <td>Republic</td>\n",
              "      <td>POLYGON ((42.13194 44.34488, 42.19061 44.32248...</td>\n",
              "      <td>77</td>\n",
              "      <td>Karachay-Cherkess</td>\n",
              "      <td>463913</td>\n",
              "      <td>477859</td>\n",
              "      <td>2.92</td>\n",
              "      <td>14,277</td>\n",
              "      <td>32.49</td>\n",
              "      <td>NaN</td>\n",
              "      <td>Yaroslavl'</td>\n",
              "    </tr>\n",
              "    <tr>\n",
              "      <th>1</th>\n",
              "      <td>186</td>\n",
              "      <td>RUS</td>\n",
              "      <td>Russia</td>\n",
              "      <td>29</td>\n",
              "      <td>Karelia</td>\n",
              "      <td>?????????? ???????</td>\n",
              "      <td>Karelian A.S.S.R.|Karelo-Finnish A.S.S.R.|Kare...</td>\n",
              "      <td>Respublika</td>\n",
              "      <td>Republic</td>\n",
              "      <td>MULTIPOLYGON (((36.77098 64.02402, 36.75969 64...</td>\n",
              "      <td>69</td>\n",
              "      <td>Karelia</td>\n",
              "      <td>602458</td>\n",
              "      <td>643548</td>\n",
              "      <td>6.38</td>\n",
              "      <td>180,520</td>\n",
              "      <td>3.34</td>\n",
              "      <td>NaN</td>\n",
              "      <td>Tyumen'</td>\n",
              "    </tr>\n",
              "    <tr>\n",
              "      <th>2</th>\n",
              "      <td>186</td>\n",
              "      <td>RUS</td>\n",
              "      <td>Russia</td>\n",
              "      <td>30</td>\n",
              "      <td>Kemerovo</td>\n",
              "      <td>??????????? ???????</td>\n",
              "      <td>Kemerovskaya Oblast</td>\n",
              "      <td>Oblast</td>\n",
              "      <td>Region</td>\n",
              "      <td>POLYGON ((88.63731 56.77809, 88.64615 56.73922...</td>\n",
              "      <td>16</td>\n",
              "      <td>Kemerovo</td>\n",
              "      <td>2603638</td>\n",
              "      <td>2763135</td>\n",
              "      <td>5.77</td>\n",
              "      <td>95,725</td>\n",
              "      <td>27.20</td>\n",
              "      <td>NaN</td>\n",
              "      <td>Bashkortostan</td>\n",
              "    </tr>\n",
              "    <tr>\n",
              "      <th>3</th>\n",
              "      <td>186</td>\n",
              "      <td>RUS</td>\n",
              "      <td>Russia</td>\n",
              "      <td>31</td>\n",
              "      <td>Khabarovsk</td>\n",
              "      <td>??????????? ????</td>\n",
              "      <td>Khabarovskiy Kray</td>\n",
              "      <td>Kray</td>\n",
              "      <td>Territory</td>\n",
              "      <td>MULTIPOLYGON (((136.64362 45.04694, 136.64417 ...</td>\n",
              "      <td>35</td>\n",
              "      <td>Khabarovsk</td>\n",
              "      <td>1298233</td>\n",
              "      <td>1343869</td>\n",
              "      <td>3.40</td>\n",
              "      <td>787,633</td>\n",
              "      <td>1.65</td>\n",
              "      <td>NaN</td>\n",
              "      <td>Leningrad</td>\n",
              "    </tr>\n",
              "    <tr>\n",
              "      <th>4</th>\n",
              "      <td>186</td>\n",
              "      <td>RUS</td>\n",
              "      <td>Russia</td>\n",
              "      <td>32</td>\n",
              "      <td>Khakass</td>\n",
              "      <td>?????????? ???????</td>\n",
              "      <td>Khakassiya|Republic of Khakasia|Khakasskaya A....</td>\n",
              "      <td>Respublika</td>\n",
              "      <td>Republic</td>\n",
              "      <td>MULTIPOLYGON (((91.45279 53.70172, 91.44386 53...</td>\n",
              "      <td>73</td>\n",
              "      <td>Khakass</td>\n",
              "      <td>528316</td>\n",
              "      <td>532403</td>\n",
              "      <td>0.77</td>\n",
              "      <td>61,569</td>\n",
              "      <td>8.58</td>\n",
              "      <td>NaN</td>\n",
              "      <td>Volgograd</td>\n",
              "    </tr>\n",
              "    <tr>\n",
              "      <th>...</th>\n",
              "      <td>...</td>\n",
              "      <td>...</td>\n",
              "      <td>...</td>\n",
              "      <td>...</td>\n",
              "      <td>...</td>\n",
              "      <td>...</td>\n",
              "      <td>...</td>\n",
              "      <td>...</td>\n",
              "      <td>...</td>\n",
              "      <td>...</td>\n",
              "      <td>...</td>\n",
              "      <td>...</td>\n",
              "      <td>...</td>\n",
              "      <td>...</td>\n",
              "      <td>...</td>\n",
              "      <td>...</td>\n",
              "      <td>...</td>\n",
              "      <td>...</td>\n",
              "      <td>...</td>\n",
              "    </tr>\n",
              "    <tr>\n",
              "      <th>80</th>\n",
              "      <td>186</td>\n",
              "      <td>RUS</td>\n",
              "      <td>Russia</td>\n",
              "      <td>40</td>\n",
              "      <td>Krasnoyarsk</td>\n",
              "      <td>???????????? ????</td>\n",
              "      <td>Krasnoyarskiy Kray|Yeniseisk|Yeniseyskaya G.</td>\n",
              "      <td>Kray</td>\n",
              "      <td>Territory</td>\n",
              "      <td>MULTIPOLYGON (((106.36668 69.53505, 106.28728 ...</td>\n",
              "      <td>13</td>\n",
              "      <td>Krasnoyarsk</td>\n",
              "      <td>2846565</td>\n",
              "      <td>2828187</td>\n",
              "      <td>0.65</td>\n",
              "      <td>2,366,797</td>\n",
              "      <td>1.20</td>\n",
              "      <td>NaN</td>\n",
              "      <td>Amur</td>\n",
              "    </tr>\n",
              "    <tr>\n",
              "      <th>81</th>\n",
              "      <td>186</td>\n",
              "      <td>RUS</td>\n",
              "      <td>Russia</td>\n",
              "      <td>21</td>\n",
              "      <td>Irkutsk</td>\n",
              "      <td>????????? ???????</td>\n",
              "      <td>Irkutskaya Oblast</td>\n",
              "      <td>Oblast</td>\n",
              "      <td>Region</td>\n",
              "      <td>POLYGON ((108.51489 64.24889, 108.49897 64.208...</td>\n",
              "      <td>20</td>\n",
              "      <td>Irkutsk</td>\n",
              "      <td>2356542</td>\n",
              "      <td>2428750</td>\n",
              "      <td>2.97</td>\n",
              "      <td>774,846</td>\n",
              "      <td>3.04</td>\n",
              "      <td>NaN</td>\n",
              "      <td>Chechnya</td>\n",
              "    </tr>\n",
              "    <tr>\n",
              "      <th>82</th>\n",
              "      <td>186</td>\n",
              "      <td>RUS</td>\n",
              "      <td>Russia</td>\n",
              "      <td>13</td>\n",
              "      <td>Zabaikalskiy Krai</td>\n",
              "      <td>None</td>\n",
              "      <td>Zabaikalskiy Krai</td>\n",
              "      <td>Oblast</td>\n",
              "      <td>Region</td>\n",
              "      <td>MULTIPOLYGON (((107.70453 49.95612, 107.69301 ...</td>\n",
              "      <td>49</td>\n",
              "      <td>Zabaikalskiy Krai</td>\n",
              "      <td>1042993</td>\n",
              "      <td>1107107</td>\n",
              "      <td>5.79</td>\n",
              "      <td>431,892</td>\n",
              "      <td>2.41</td>\n",
              "      <td>NaN</td>\n",
              "      <td>Orel</td>\n",
              "    </tr>\n",
              "    <tr>\n",
              "      <th>83</th>\n",
              "      <td>186</td>\n",
              "      <td>RUS</td>\n",
              "      <td>Russia</td>\n",
              "      <td>27</td>\n",
              "      <td>Kamchatka</td>\n",
              "      <td>?????????? ???????</td>\n",
              "      <td>Kamï¿½atka|Kamchatskaya Oblast</td>\n",
              "      <td>Oblast</td>\n",
              "      <td>Region</td>\n",
              "      <td>MULTIPOLYGON (((157.27618 51.24185, 157.27545 ...</td>\n",
              "      <td>79</td>\n",
              "      <td>Kamchatka</td>\n",
              "      <td>312337</td>\n",
              "      <td>322079</td>\n",
              "      <td>3.02</td>\n",
              "      <td>464,275</td>\n",
              "      <td>0.67</td>\n",
              "      <td>NaN</td>\n",
              "      <td>Sevastopol'</td>\n",
              "    </tr>\n",
              "    <tr>\n",
              "      <th>84</th>\n",
              "      <td>186</td>\n",
              "      <td>RUS</td>\n",
              "      <td>Russia</td>\n",
              "      <td>60</td>\n",
              "      <td>Perm'</td>\n",
              "      <td>???????? ???????</td>\n",
              "      <td>Molotov|Permskaya Oblast</td>\n",
              "      <td>Kray</td>\n",
              "      <td>Territory</td>\n",
              "      <td>POLYGON ((53.43537 61.05370, 53.34233 60.90009...</td>\n",
              "      <td>17</td>\n",
              "      <td>Perm'</td>\n",
              "      <td>2555042</td>\n",
              "      <td>2635276</td>\n",
              "      <td>3.04</td>\n",
              "      <td>160,236</td>\n",
              "      <td>15.95</td>\n",
              "      <td>NaN</td>\n",
              "      <td>Belgorod</td>\n",
              "    </tr>\n",
              "  </tbody>\n",
              "</table>\n",
              "<p>85 rows × 19 columns</p>\n",
              "</div>\n",
              "      <button class=\"colab-df-convert\" onclick=\"convertToInteractive('df-e10aa7f3-7c9e-4a48-9c24-dc81d27e7d10')\"\n",
              "              title=\"Convert this dataframe to an interactive table.\"\n",
              "              style=\"display:none;\">\n",
              "        \n",
              "  <svg xmlns=\"http://www.w3.org/2000/svg\" height=\"24px\"viewBox=\"0 0 24 24\"\n",
              "       width=\"24px\">\n",
              "    <path d=\"M0 0h24v24H0V0z\" fill=\"none\"/>\n",
              "    <path d=\"M18.56 5.44l.94 2.06.94-2.06 2.06-.94-2.06-.94-.94-2.06-.94 2.06-2.06.94zm-11 1L8.5 8.5l.94-2.06 2.06-.94-2.06-.94L8.5 2.5l-.94 2.06-2.06.94zm10 10l.94 2.06.94-2.06 2.06-.94-2.06-.94-.94-2.06-.94 2.06-2.06.94z\"/><path d=\"M17.41 7.96l-1.37-1.37c-.4-.4-.92-.59-1.43-.59-.52 0-1.04.2-1.43.59L10.3 9.45l-7.72 7.72c-.78.78-.78 2.05 0 2.83L4 21.41c.39.39.9.59 1.41.59.51 0 1.02-.2 1.41-.59l7.78-7.78 2.81-2.81c.8-.78.8-2.07 0-2.86zM5.41 20L4 18.59l7.72-7.72 1.47 1.35L5.41 20z\"/>\n",
              "  </svg>\n",
              "      </button>\n",
              "      \n",
              "  <style>\n",
              "    .colab-df-container {\n",
              "      display:flex;\n",
              "      flex-wrap:wrap;\n",
              "      gap: 12px;\n",
              "    }\n",
              "\n",
              "    .colab-df-convert {\n",
              "      background-color: #E8F0FE;\n",
              "      border: none;\n",
              "      border-radius: 50%;\n",
              "      cursor: pointer;\n",
              "      display: none;\n",
              "      fill: #1967D2;\n",
              "      height: 32px;\n",
              "      padding: 0 0 0 0;\n",
              "      width: 32px;\n",
              "    }\n",
              "\n",
              "    .colab-df-convert:hover {\n",
              "      background-color: #E2EBFA;\n",
              "      box-shadow: 0px 1px 2px rgba(60, 64, 67, 0.3), 0px 1px 3px 1px rgba(60, 64, 67, 0.15);\n",
              "      fill: #174EA6;\n",
              "    }\n",
              "\n",
              "    [theme=dark] .colab-df-convert {\n",
              "      background-color: #3B4455;\n",
              "      fill: #D2E3FC;\n",
              "    }\n",
              "\n",
              "    [theme=dark] .colab-df-convert:hover {\n",
              "      background-color: #434B5C;\n",
              "      box-shadow: 0px 1px 3px 1px rgba(0, 0, 0, 0.15);\n",
              "      filter: drop-shadow(0px 1px 2px rgba(0, 0, 0, 0.3));\n",
              "      fill: #FFFFFF;\n",
              "    }\n",
              "  </style>\n",
              "\n",
              "      <script>\n",
              "        const buttonEl =\n",
              "          document.querySelector('#df-e10aa7f3-7c9e-4a48-9c24-dc81d27e7d10 button.colab-df-convert');\n",
              "        buttonEl.style.display =\n",
              "          google.colab.kernel.accessAllowed ? 'block' : 'none';\n",
              "\n",
              "        async function convertToInteractive(key) {\n",
              "          const element = document.querySelector('#df-e10aa7f3-7c9e-4a48-9c24-dc81d27e7d10');\n",
              "          const dataTable =\n",
              "            await google.colab.kernel.invokeFunction('convertToInteractive',\n",
              "                                                     [key], {});\n",
              "          if (!dataTable) return;\n",
              "\n",
              "          const docLinkHtml = 'Like what you see? Visit the ' +\n",
              "            '<a target=\"_blank\" href=https://colab.research.google.com/notebooks/data_table.ipynb>data table notebook</a>'\n",
              "            + ' to learn more about interactive tables.';\n",
              "          element.innerHTML = '';\n",
              "          dataTable['output_type'] = 'display_data';\n",
              "          await google.colab.output.renderOutput(dataTable, element);\n",
              "          const docLink = document.createElement('div');\n",
              "          docLink.innerHTML = docLinkHtml;\n",
              "          element.appendChild(docLink);\n",
              "        }\n",
              "      </script>\n",
              "    </div>\n",
              "  </div>\n",
              "  "
            ],
            "text/plain": [
              "    ID_0  ISO  NAME_0  ...  Population density\\n(per km2) Unnamed: 7     Unnamed: 8\n",
              "0    186  RUS  Russia  ...                          32.49        NaN     Yaroslavl'\n",
              "1    186  RUS  Russia  ...                           3.34        NaN        Tyumen'\n",
              "2    186  RUS  Russia  ...                          27.20        NaN  Bashkortostan\n",
              "3    186  RUS  Russia  ...                           1.65        NaN      Leningrad\n",
              "4    186  RUS  Russia  ...                           8.58        NaN      Volgograd\n",
              "..   ...  ...     ...  ...                            ...        ...            ...\n",
              "80   186  RUS  Russia  ...                           1.20        NaN           Amur\n",
              "81   186  RUS  Russia  ...                           3.04        NaN       Chechnya\n",
              "82   186  RUS  Russia  ...                           2.41        NaN           Orel\n",
              "83   186  RUS  Russia  ...                           0.67        NaN    Sevastopol'\n",
              "84   186  RUS  Russia  ...                          15.95        NaN       Belgorod\n",
              "\n",
              "[85 rows x 19 columns]"
            ]
          },
          "metadata": {},
          "execution_count": 74
        }
      ]
    },
    {
      "cell_type": "markdown",
      "source": [
        "Russia's a very spread out country given its huge land mass and there is a ton of farmland and rural areas. The darkest one is predictably Moscow, with the highest population, and there are a couple other darker regions but many of the provinces of russia have a population less than 800000. \n",
        "\n",
        "**Unfortunately due to the way the GeoJSON is structured, it \"wraps\" Russia around the other side like a lot of modern world maps do. We could not find a way to fix this :("
      ],
      "metadata": {
        "id": "xH6B13Qb_CYU"
      }
    },
    {
      "cell_type": "code",
      "source": [
        "merged.plot(\"Population 2010\", legend=True, figsize=(40,10), cmap=\"Reds\")"
      ],
      "metadata": {
        "colab": {
          "base_uri": "https://localhost:8080/",
          "height": 550
        },
        "id": "bfvBec689x2m",
        "outputId": "970c2df4-24a1-4da1-83ff-cd274e21808b"
      },
      "execution_count": null,
      "outputs": [
        {
          "output_type": "execute_result",
          "data": {
            "text/plain": [
              "<matplotlib.axes._subplots.AxesSubplot at 0x7f4da5d882d0>"
            ]
          },
          "metadata": {},
          "execution_count": 81
        },
        {
          "output_type": "display_data",
          "data": {
            "image/png": "[encoded data removed]",
            "text/plain": [
              "<Figure size 2880x720 with 2 Axes>"
            ]
          },
          "metadata": {
            "needs_background": "light"
          }
        }
      ]
    },
    {
      "cell_type": "markdown",
      "source": [
        "This is a map of the % change in population from 2010 to 2022. This one is a lot messier but we actually see that there was actually a good amount of growth from a lot of the less populated areas. However, because the darkest provinces from the previous graphs (aka the most populous provinces) had growth on the lighter side, the population growth is still slowing down."
      ],
      "metadata": {
        "id": "43DYksIuAK6A"
      }
    },
    {
      "cell_type": "code",
      "source": [
        "merged.plot(\"% change\", legend=True, figsize=(40,10), cmap=\"Reds\")"
      ],
      "metadata": {
        "colab": {
          "base_uri": "https://localhost:8080/",
          "height": 546
        },
        "id": "i7FNzpgulA-S",
        "outputId": "60679f2b-bd70-44af-d98b-f4d01f61ff36"
      },
      "execution_count": null,
      "outputs": [
        {
          "output_type": "execute_result",
          "data": {
            "text/plain": [
              "<matplotlib.axes._subplots.AxesSubplot at 0x7f4da5d64a50>"
            ]
          },
          "metadata": {},
          "execution_count": 80
        },
        {
          "output_type": "display_data",
          "data": {
            "image/png": "[encoded data removed]",
            "text/plain": [
              "<Figure size 2880x720 with 2 Axes>"
            ]
          },
          "metadata": {
            "needs_background": "light"
          }
        }
      ]
    },
    {
      "cell_type": "code",
      "source": [
        ""
      ],
      "metadata": {
        "id": "-gvnTsosktpv"
      },
      "execution_count": null,
      "outputs": []
    }
  ],
  "metadata": {
    "colab": {
      "collapsed_sections": [],
      "name": "project 1 - envecon 153.ipynb",
      "provenance": [],
      "include_colab_link": true
    },
    "kernelspec": {
      "display_name": "Python 3",
      "name": "python3"
    },
    "language_info": {
      "name": "python"
    },
    "widgets": {
      "application/vnd.jupyter.widget-state+json": {
        "e03348829eaf4c6db8a8a0c79d2fcb11": {
          "model_module": "@jupyter-widgets/controls",
          "model_name": "VBoxModel",
          "model_module_version": "1.5.0",
          "state": {
            "_view_name": "VBoxView",
            "_dom_classes": [
              "widget-interact"
            ],
            "_model_name": "VBoxModel",
            "_view_module": "@jupyter-widgets/controls",
            "_model_module_version": "1.5.0",
            "_view_count": null,
            "_view_module_version": "1.5.0",
            "box_style": "",
            "layout": "IPY_MODEL_8718b2b86c034ae9aebd74a3f3393915",
            "_model_module": "@jupyter-widgets/controls",
            "children": [
              "IPY_MODEL_38c42cca41f34951ac39c4870e204216",
              "IPY_MODEL_bbdcd79e0d974ff299fc3ab0b45e41e3"
            ]
          }
        },
        "8718b2b86c034ae9aebd74a3f3393915": {
          "model_module": "@jupyter-widgets/base",
          "model_name": "LayoutModel",
          "model_module_version": "1.2.0",
          "state": {
            "_view_name": "LayoutView",
            "grid_template_rows": null,
            "right": null,
            "justify_content": null,
            "_view_module": "@jupyter-widgets/base",
            "overflow": null,
            "_model_module_version": "1.2.0",
            "_view_count": null,
            "flex_flow": null,
            "width": null,
            "min_width": null,
            "border": null,
            "align_items": null,
            "bottom": null,
            "_model_module": "@jupyter-widgets/base",
            "top": null,
            "grid_column": null,
            "overflow_y": null,
            "overflow_x": null,
            "grid_auto_flow": null,
            "grid_area": null,
            "grid_template_columns": null,
            "flex": null,
            "_model_name": "LayoutModel",
            "justify_items": null,
            "grid_row": null,
            "max_height": null,
            "align_content": null,
            "visibility": null,
            "align_self": null,
            "height": null,
            "min_height": null,
            "padding": null,
            "grid_auto_rows": null,
            "grid_gap": null,
            "max_width": null,
            "order": null,
            "_view_module_version": "1.2.0",
            "grid_template_areas": null,
            "object_position": null,
            "object_fit": null,
            "grid_auto_columns": null,
            "margin": null,
            "display": null,
            "left": null
          }
        },
        "38c42cca41f34951ac39c4870e204216": {
          "model_module": "@jupyter-widgets/controls",
          "model_name": "IntSliderModel",
          "model_module_version": "1.5.0",
          "state": {
            "_view_name": "IntSliderView",
            "style": "IPY_MODEL_310d640c73bd44d782b15471c8e28734",
            "_dom_classes": [],
            "description": "year",
            "step": 1,
            "_model_name": "IntSliderModel",
            "orientation": "horizontal",
            "max": 2020,
            "_view_module": "@jupyter-widgets/controls",
            "_model_module_version": "1.5.0",
            "value": 1990,
            "_view_count": null,
            "disabled": false,
            "_view_module_version": "1.5.0",
            "min": 1960,
            "continuous_update": true,
            "readout_format": "d",
            "description_tooltip": null,
            "readout": true,
            "_model_module": "@jupyter-widgets/controls",
            "layout": "IPY_MODEL_91bc988751a54128b61016a88b17ac3b"
          }
        },
        "bbdcd79e0d974ff299fc3ab0b45e41e3": {
          "model_module": "@jupyter-widgets/output",
          "model_name": "OutputModel",
          "model_module_version": "1.0.0",
          "state": {
            "_view_name": "OutputView",
            "msg_id": "",
            "_dom_classes": [],
            "_model_name": "OutputModel",
            "outputs": [
              {
                "output_type": "display_data",
                "data": {
                  "text/html": "<div>                            <div id=\"b61988a4-60ef-4889-b62e-4c5c496affc0\" class=\"plotly-graph-div\" style=\"height:525px; width:100%;\"></div>            <script type=\"text/javascript\">                require([\"plotly\"], function(Plotly) {                    window.PLOTLYENV=window.PLOTLYENV || {};                                    if (document.getElementById(\"b61988a4-60ef-4889-b62e-4c5c496affc0\")) {                    Plotly.newPlot(                        \"b61988a4-60ef-4889-b62e-4c5c496affc0\",                        [{\"hoverinfo\":\"skip\",\"marker\":{\"color\":\"purple\"},\"name\":\"Men\",\"orientation\":\"h\",\"x\":[5899998.0,5914871.0,5420418.0,5186224.0,4832694.0,5925167.0,6551559.0,5924392.0,4753383.0,2928355.0,4857821.0,3463761.0,3606968.0,1634636.0,935508.0,850963.0,579229.0],\"y\":[1,6,11,16,21,26,31,36,41,46,51,56,61,66,71,76,81],\"type\":\"bar\"},{\"hoverinfo\":\"skip\",\"marker\":{\"color\":\"pink\"},\"name\":\"Women\",\"orientation\":\"h\",\"x\":[-5654773.0,-5729182.0,-5262056.0,-4987399.0,-4648967.0,-5822730.0,-6412003.0,-5885722.0,-4881939.0,-3170746.0,-5606181.0,-4240794.0,-5149842.0,-3698886.0,-2382361.0,-2641301.0,-2528576.0],\"y\":[1,6,11,16,21,26,31,36,41,46,51,56,61,66,71,76,81],\"type\":\"bar\"}],                        {\"barmode\":\"overlay\",\"template\":{\"data\":{\"barpolar\":[{\"marker\":{\"line\":{\"color\":\"#E5ECF6\",\"width\":0.5},\"pattern\":{\"fillmode\":\"overlay\",\"size\":10,\"solidity\":0.2}},\"type\":\"barpolar\"}],\"bar\":[{\"error_x\":{\"color\":\"#2a3f5f\"},\"error_y\":{\"color\":\"#2a3f5f\"},\"marker\":{\"line\":{\"color\":\"#E5ECF6\",\"width\":0.5},\"pattern\":{\"fillmode\":\"overlay\",\"size\":10,\"solidity\":0.2}},\"type\":\"bar\"}],\"carpet\":[{\"aaxis\":{\"endlinecolor\":\"#2a3f5f\",\"gridcolor\":\"white\",\"linecolor\":\"white\",\"minorgridcolor\":\"white\",\"startlinecolor\":\"#2a3f5f\"},\"baxis\":{\"endlinecolor\":\"#2a3f5f\",\"gridcolor\":\"white\",\"linecolor\":\"white\",\"minorgridcolor\":\"white\",\"startlinecolor\":\"#2a3f5f\"},\"type\":\"carpet\"}],\"choropleth\":[{\"colorbar\":{\"outlinewidth\":0,\"ticks\":\"\"},\"type\":\"choropleth\"}],\"contourcarpet\":[{\"colorbar\":{\"outlinewidth\":0,\"ticks\":\"\"},\"type\":\"contourcarpet\"}],\"contour\":[{\"colorbar\":{\"outlinewidth\":0,\"ticks\":\"\"},\"colorscale\":[[0.0,\"#0d0887\"],[0.1111111111111111,\"#46039f\"],[0.2222222222222222,\"#7201a8\"],[0.3333333333333333,\"#9c179e\"],[0.4444444444444444,\"#bd3786\"],[0.5555555555555556,\"#d8576b\"],[0.6666666666666666,\"#ed7953\"],[0.7777777777777778,\"#fb9f3a\"],[0.8888888888888888,\"#fdca26\"],[1.0,\"#f0f921\"]],\"type\":\"contour\"}],\"heatmapgl\":[{\"colorbar\":{\"outlinewidth\":0,\"ticks\":\"\"},\"colorscale\":[[0.0,\"#0d0887\"],[0.1111111111111111,\"#46039f\"],[0.2222222222222222,\"#7201a8\"],[0.3333333333333333,\"#9c179e\"],[0.4444444444444444,\"#bd3786\"],[0.5555555555555556,\"#d8576b\"],[0.6666666666666666,\"#ed7953\"],[0.7777777777777778,\"#fb9f3a\"],[0.8888888888888888,\"#fdca26\"],[1.0,\"#f0f921\"]],\"type\":\"heatmapgl\"}],\"heatmap\":[{\"colorbar\":{\"outlinewidth\":0,\"ticks\":\"\"},\"colorscale\":[[0.0,\"#0d0887\"],[0.1111111111111111,\"#46039f\"],[0.2222222222222222,\"#7201a8\"],[0.3333333333333333,\"#9c179e\"],[0.4444444444444444,\"#bd3786\"],[0.5555555555555556,\"#d8576b\"],[0.6666666666666666,\"#ed7953\"],[0.7777777777777778,\"#fb9f3a\"],[0.8888888888888888,\"#fdca26\"],[1.0,\"#f0f921\"]],\"type\":\"heatmap\"}],\"histogram2dcontour\":[{\"colorbar\":{\"outlinewidth\":0,\"ticks\":\"\"},\"colorscale\":[[0.0,\"#0d0887\"],[0.1111111111111111,\"#46039f\"],[0.2222222222222222,\"#7201a8\"],[0.3333333333333333,\"#9c179e\"],[0.4444444444444444,\"#bd3786\"],[0.5555555555555556,\"#d8576b\"],[0.6666666666666666,\"#ed7953\"],[0.7777777777777778,\"#fb9f3a\"],[0.8888888888888888,\"#fdca26\"],[1.0,\"#f0f921\"]],\"type\":\"histogram2dcontour\"}],\"histogram2d\":[{\"colorbar\":{\"outlinewidth\":0,\"ticks\":\"\"},\"colorscale\":[[0.0,\"#0d0887\"],[0.1111111111111111,\"#46039f\"],[0.2222222222222222,\"#7201a8\"],[0.3333333333333333,\"#9c179e\"],[0.4444444444444444,\"#bd3786\"],[0.5555555555555556,\"#d8576b\"],[0.6666666666666666,\"#ed7953\"],[0.7777777777777778,\"#fb9f3a\"],[0.8888888888888888,\"#fdca26\"],[1.0,\"#f0f921\"]],\"type\":\"histogram2d\"}],\"histogram\":[{\"marker\":{\"pattern\":{\"fillmode\":\"overlay\",\"size\":10,\"solidity\":0.2}},\"type\":\"histogram\"}],\"mesh3d\":[{\"colorbar\":{\"outlinewidth\":0,\"ticks\":\"\"},\"type\":\"mesh3d\"}],\"parcoords\":[{\"line\":{\"colorbar\":{\"outlinewidth\":0,\"ticks\":\"\"}},\"type\":\"parcoords\"}],\"pie\":[{\"automargin\":true,\"type\":\"pie\"}],\"scatter3d\":[{\"line\":{\"colorbar\":{\"outlinewidth\":0,\"ticks\":\"\"}},\"marker\":{\"colorbar\":{\"outlinewidth\":0,\"ticks\":\"\"}},\"type\":\"scatter3d\"}],\"scattercarpet\":[{\"marker\":{\"colorbar\":{\"outlinewidth\":0,\"ticks\":\"\"}},\"type\":\"scattercarpet\"}],\"scattergeo\":[{\"marker\":{\"colorbar\":{\"outlinewidth\":0,\"ticks\":\"\"}},\"type\":\"scattergeo\"}],\"scattergl\":[{\"marker\":{\"colorbar\":{\"outlinewidth\":0,\"ticks\":\"\"}},\"type\":\"scattergl\"}],\"scattermapbox\":[{\"marker\":{\"colorbar\":{\"outlinewidth\":0,\"ticks\":\"\"}},\"type\":\"scattermapbox\"}],\"scatterpolargl\":[{\"marker\":{\"colorbar\":{\"outlinewidth\":0,\"ticks\":\"\"}},\"type\":\"scatterpolargl\"}],\"scatterpolar\":[{\"marker\":{\"colorbar\":{\"outlinewidth\":0,\"ticks\":\"\"}},\"type\":\"scatterpolar\"}],\"scatter\":[{\"marker\":{\"colorbar\":{\"outlinewidth\":0,\"ticks\":\"\"}},\"type\":\"scatter\"}],\"scatterternary\":[{\"marker\":{\"colorbar\":{\"outlinewidth\":0,\"ticks\":\"\"}},\"type\":\"scatterternary\"}],\"surface\":[{\"colorbar\":{\"outlinewidth\":0,\"ticks\":\"\"},\"colorscale\":[[0.0,\"#0d0887\"],[0.1111111111111111,\"#46039f\"],[0.2222222222222222,\"#7201a8\"],[0.3333333333333333,\"#9c179e\"],[0.4444444444444444,\"#bd3786\"],[0.5555555555555556,\"#d8576b\"],[0.6666666666666666,\"#ed7953\"],[0.7777777777777778,\"#fb9f3a\"],[0.8888888888888888,\"#fdca26\"],[1.0,\"#f0f921\"]],\"type\":\"surface\"}],\"table\":[{\"cells\":{\"fill\":{\"color\":\"#EBF0F8\"},\"line\":{\"color\":\"white\"}},\"header\":{\"fill\":{\"color\":\"#C8D4E3\"},\"line\":{\"color\":\"white\"}},\"type\":\"table\"}]},\"layout\":{\"annotationdefaults\":{\"arrowcolor\":\"#2a3f5f\",\"arrowhead\":0,\"arrowwidth\":1},\"autotypenumbers\":\"strict\",\"coloraxis\":{\"colorbar\":{\"outlinewidth\":0,\"ticks\":\"\"}},\"colorscale\":{\"diverging\":[[0,\"#8e0152\"],[0.1,\"#c51b7d\"],[0.2,\"#de77ae\"],[0.3,\"#f1b6da\"],[0.4,\"#fde0ef\"],[0.5,\"#f7f7f7\"],[0.6,\"#e6f5d0\"],[0.7,\"#b8e186\"],[0.8,\"#7fbc41\"],[0.9,\"#4d9221\"],[1,\"#276419\"]],\"sequential\":[[0.0,\"#0d0887\"],[0.1111111111111111,\"#46039f\"],[0.2222222222222222,\"#7201a8\"],[0.3333333333333333,\"#9c179e\"],[0.4444444444444444,\"#bd3786\"],[0.5555555555555556,\"#d8576b\"],[0.6666666666666666,\"#ed7953\"],[0.7777777777777778,\"#fb9f3a\"],[0.8888888888888888,\"#fdca26\"],[1.0,\"#f0f921\"]],\"sequentialminus\":[[0.0,\"#0d0887\"],[0.1111111111111111,\"#46039f\"],[0.2222222222222222,\"#7201a8\"],[0.3333333333333333,\"#9c179e\"],[0.4444444444444444,\"#bd3786\"],[0.5555555555555556,\"#d8576b\"],[0.6666666666666666,\"#ed7953\"],[0.7777777777777778,\"#fb9f3a\"],[0.8888888888888888,\"#fdca26\"],[1.0,\"#f0f921\"]]},\"colorway\":[\"#636efa\",\"#EF553B\",\"#00cc96\",\"#ab63fa\",\"#FFA15A\",\"#19d3f3\",\"#FF6692\",\"#B6E880\",\"#FF97FF\",\"#FECB52\"],\"font\":{\"color\":\"#2a3f5f\"},\"geo\":{\"bgcolor\":\"white\",\"lakecolor\":\"white\",\"landcolor\":\"#E5ECF6\",\"showlakes\":true,\"showland\":true,\"subunitcolor\":\"white\"},\"hoverlabel\":{\"align\":\"left\"},\"hovermode\":\"closest\",\"mapbox\":{\"style\":\"light\"},\"paper_bgcolor\":\"white\",\"plot_bgcolor\":\"#E5ECF6\",\"polar\":{\"angularaxis\":{\"gridcolor\":\"white\",\"linecolor\":\"white\",\"ticks\":\"\"},\"bgcolor\":\"#E5ECF6\",\"radialaxis\":{\"gridcolor\":\"white\",\"linecolor\":\"white\",\"ticks\":\"\"}},\"scene\":{\"xaxis\":{\"backgroundcolor\":\"#E5ECF6\",\"gridcolor\":\"white\",\"gridwidth\":2,\"linecolor\":\"white\",\"showbackground\":true,\"ticks\":\"\",\"zerolinecolor\":\"white\"},\"yaxis\":{\"backgroundcolor\":\"#E5ECF6\",\"gridcolor\":\"white\",\"gridwidth\":2,\"linecolor\":\"white\",\"showbackground\":true,\"ticks\":\"\",\"zerolinecolor\":\"white\"},\"zaxis\":{\"backgroundcolor\":\"#E5ECF6\",\"gridcolor\":\"white\",\"gridwidth\":2,\"linecolor\":\"white\",\"showbackground\":true,\"ticks\":\"\",\"zerolinecolor\":\"white\"}},\"shapedefaults\":{\"line\":{\"color\":\"#2a3f5f\"}},\"ternary\":{\"aaxis\":{\"gridcolor\":\"white\",\"linecolor\":\"white\",\"ticks\":\"\"},\"baxis\":{\"gridcolor\":\"white\",\"linecolor\":\"white\",\"ticks\":\"\"},\"bgcolor\":\"#E5ECF6\",\"caxis\":{\"gridcolor\":\"white\",\"linecolor\":\"white\",\"ticks\":\"\"}},\"title\":{\"x\":0.05},\"xaxis\":{\"automargin\":true,\"gridcolor\":\"white\",\"linecolor\":\"white\",\"ticks\":\"\",\"title\":{\"standoff\":15},\"zerolinecolor\":\"white\",\"zerolinewidth\":2},\"yaxis\":{\"automargin\":true,\"gridcolor\":\"white\",\"linecolor\":\"white\",\"ticks\":\"\",\"title\":{\"standoff\":15},\"zerolinecolor\":\"white\",\"zerolinewidth\":2}}},\"xaxis\":{\"title\":{\"text\":\"Number\"}},\"yaxis\":{\"range\":[0,90],\"title\":{\"text\":\"Age\"}}},                        {\"responsive\": true}                    ).then(function(){\n                            \nvar gd = document.getElementById('b61988a4-60ef-4889-b62e-4c5c496affc0');\nvar x = new MutationObserver(function (mutations, observer) {{\n        var display = window.getComputedStyle(gd).display;\n        if (!display || display === 'none') {{\n            console.log([gd, 'removed!']);\n            Plotly.purge(gd);\n            observer.disconnect();\n        }}\n}});\n\n// Listen for the removal of the full notebook cells\nvar notebookContainer = gd.closest('#notebook-container');\nif (notebookContainer) {{\n    x.observe(notebookContainer, {childList: true});\n}}\n\n// Listen for the clearing of the current output cell\nvar outputEl = gd.closest('.output');\nif (outputEl) {{\n    x.observe(outputEl, {childList: true});\n}}\n\n                        })                };                });            </script>        </div>",
                  "application/vnd.plotly.v1+json": {
                    "layout": {
                      "barmode": "overlay",
                      "xaxis": {
                        "title": {
                          "text": "Number"
                        }
                      },
                      "template": {
                        "layout": {
                          "shapedefaults": {
                            "line": {
                              "color": "#2a3f5f"
                            }
                          },
                          "polar": {
                            "radialaxis": {
                              "ticks": "",
                              "gridcolor": "white",
                              "linecolor": "white"
                            },
                            "bgcolor": "#E5ECF6",
                            "angularaxis": {
                              "ticks": "",
                              "gridcolor": "white",
                              "linecolor": "white"
                            }
                          },
                          "colorway": [
                            "#636efa",
                            "#EF553B",
                            "#00cc96",
                            "#ab63fa",
                            "#FFA15A",
                            "#19d3f3",
                            "#FF6692",
                            "#B6E880",
                            "#FF97FF",
                            "#FECB52"
                          ],
                          "xaxis": {
                            "automargin": true,
                            "title": {
                              "standoff": 15
                            },
                            "zerolinewidth": 2,
                            "ticks": "",
                            "zerolinecolor": "white",
                            "gridcolor": "white",
                            "linecolor": "white"
                          },
                          "colorscale": {
                            "diverging": [
                              [
                                0,
                                "#8e0152"
                              ],
                              [
                                0.1,
                                "#c51b7d"
                              ],
                              [
                                0.2,
                                "#de77ae"
                              ],
                              [
                                0.3,
                                "#f1b6da"
                              ],
                              [
                                0.4,
                                "#fde0ef"
                              ],
                              [
                                0.5,
                                "#f7f7f7"
                              ],
                              [
                                0.6,
                                "#e6f5d0"
                              ],
                              [
                                0.7,
                                "#b8e186"
                              ],
                              [
                                0.8,
                                "#7fbc41"
                              ],
                              [
                                0.9,
                                "#4d9221"
                              ],
                              [
                                1,
                                "#276419"
                              ]
                            ],
                            "sequential": [
                              [
                                0,
                                "#0d0887"
                              ],
                              [
                                0.1111111111111111,
                                "#46039f"
                              ],
                              [
                                0.2222222222222222,
                                "#7201a8"
                              ],
                              [
                                0.3333333333333333,
                                "#9c179e"
                              ],
                              [
                                0.4444444444444444,
                                "#bd3786"
                              ],
                              [
                                0.5555555555555556,
                                "#d8576b"
                              ],
                              [
                                0.6666666666666666,
                                "#ed7953"
                              ],
                              [
                                0.7777777777777778,
                                "#fb9f3a"
                              ],
                              [
                                0.8888888888888888,
                                "#fdca26"
                              ],
                              [
                                1,
                                "#f0f921"
                              ]
                            ],
                            "sequentialminus": [
                              [
                                0,
                                "#0d0887"
                              ],
                              [
                                0.1111111111111111,
                                "#46039f"
                              ],
                              [
                                0.2222222222222222,
                                "#7201a8"
                              ],
                              [
                                0.3333333333333333,
                                "#9c179e"
                              ],
                              [
                                0.4444444444444444,
                                "#bd3786"
                              ],
                              [
                                0.5555555555555556,
                                "#d8576b"
                              ],
                              [
                                0.6666666666666666,
                                "#ed7953"
                              ],
                              [
                                0.7777777777777778,
                                "#fb9f3a"
                              ],
                              [
                                0.8888888888888888,
                                "#fdca26"
                              ],
                              [
                                1,
                                "#f0f921"
                              ]
                            ]
                          },
                          "paper_bgcolor": "white",
                          "plot_bgcolor": "#E5ECF6",
                          "title": {
                            "x": 0.05
                          },
                          "yaxis": {
                            "automargin": true,
                            "title": {
                              "standoff": 15
                            },
                            "zerolinewidth": 2,
                            "ticks": "",
                            "zerolinecolor": "white",
                            "gridcolor": "white",
                            "linecolor": "white"
                          },
                          "hoverlabel": {
                            "align": "left"
                          },
                          "scene": {
                            "zaxis": {
                              "backgroundcolor": "#E5ECF6",
                              "ticks": "",
                              "gridwidth": 2,
                              "showbackground": true,
                              "zerolinecolor": "white",
                              "gridcolor": "white",
                              "linecolor": "white"
                            },
                            "xaxis": {
                              "backgroundcolor": "#E5ECF6",
                              "ticks": "",
                              "gridwidth": 2,
                              "showbackground": true,
                              "zerolinecolor": "white",
                              "gridcolor": "white",
                              "linecolor": "white"
                            },
                            "yaxis": {
                              "backgroundcolor": "#E5ECF6",
                              "ticks": "",
                              "gridwidth": 2,
                              "showbackground": true,
                              "zerolinecolor": "white",
                              "gridcolor": "white",
                              "linecolor": "white"
                            }
                          },
                          "annotationdefaults": {
                            "arrowwidth": 1,
                            "arrowhead": 0,
                            "arrowcolor": "#2a3f5f"
                          },
                          "autotypenumbers": "strict",
                          "ternary": {
                            "bgcolor": "#E5ECF6",
                            "baxis": {
                              "ticks": "",
                              "gridcolor": "white",
                              "linecolor": "white"
                            },
                            "caxis": {
                              "ticks": "",
                              "gridcolor": "white",
                              "linecolor": "white"
                            },
                            "aaxis": {
                              "ticks": "",
                              "gridcolor": "white",
                              "linecolor": "white"
                            }
                          },
                          "mapbox": {
                            "style": "light"
                          },
                          "hovermode": "closest",
                          "font": {
                            "color": "#2a3f5f"
                          },
                          "geo": {
                            "showland": true,
                            "landcolor": "#E5ECF6",
                            "showlakes": true,
                            "bgcolor": "white",
                            "subunitcolor": "white",
                            "lakecolor": "white"
                          },
                          "coloraxis": {
                            "colorbar": {
                              "outlinewidth": 0,
                              "ticks": ""
                            }
                          }
                        },
                        "data": {
                          "mesh3d": [
                            {
                              "colorbar": {
                                "outlinewidth": 0,
                                "ticks": ""
                              },
                              "type": "mesh3d"
                            }
                          ],
                          "scattercarpet": [
                            {
                              "marker": {
                                "colorbar": {
                                  "outlinewidth": 0,
                                  "ticks": ""
                                }
                              },
                              "type": "scattercarpet"
                            }
                          ],
                          "pie": [
                            {
                              "automargin": true,
                              "type": "pie"
                            }
                          ],
                          "surface": [
                            {
                              "colorbar": {
                                "outlinewidth": 0,
                                "ticks": ""
                              },
                              "type": "surface",
                              "colorscale": [
                                [
                                  0,
                                  "#0d0887"
                                ],
                                [
                                  0.1111111111111111,
                                  "#46039f"
                                ],
                                [
                                  0.2222222222222222,
                                  "#7201a8"
                                ],
                                [
                                  0.3333333333333333,
                                  "#9c179e"
                                ],
                                [
                                  0.4444444444444444,
                                  "#bd3786"
                                ],
                                [
                                  0.5555555555555556,
                                  "#d8576b"
                                ],
                                [
                                  0.6666666666666666,
                                  "#ed7953"
                                ],
                                [
                                  0.7777777777777778,
                                  "#fb9f3a"
                                ],
                                [
                                  0.8888888888888888,
                                  "#fdca26"
                                ],
                                [
                                  1,
                                  "#f0f921"
                                ]
                              ]
                            }
                          ],
                          "table": [
                            {
                              "header": {
                                "line": {
                                  "color": "white"
                                },
                                "fill": {
                                  "color": "#C8D4E3"
                                }
                              },
                              "cells": {
                                "line": {
                                  "color": "white"
                                },
                                "fill": {
                                  "color": "#EBF0F8"
                                }
                              },
                              "type": "table"
                            }
                          ],
                          "scatterpolargl": [
                            {
                              "marker": {
                                "colorbar": {
                                  "outlinewidth": 0,
                                  "ticks": ""
                                }
                              },
                              "type": "scatterpolargl"
                            }
                          ],
                          "contour": [
                            {
                              "colorbar": {
                                "outlinewidth": 0,
                                "ticks": ""
                              },
                              "type": "contour",
                              "colorscale": [
                                [
                                  0,
                                  "#0d0887"
                                ],
                                [
                                  0.1111111111111111,
                                  "#46039f"
                                ],
                                [
                                  0.2222222222222222,
                                  "#7201a8"
                                ],
                                [
                                  0.3333333333333333,
                                  "#9c179e"
                                ],
                                [
                                  0.4444444444444444,
                                  "#bd3786"
                                ],
                                [
                                  0.5555555555555556,
                                  "#d8576b"
                                ],
                                [
                                  0.6666666666666666,
                                  "#ed7953"
                                ],
                                [
                                  0.7777777777777778,
                                  "#fb9f3a"
                                ],
                                [
                                  0.8888888888888888,
                                  "#fdca26"
                                ],
                                [
                                  1,
                                  "#f0f921"
                                ]
                              ]
                            }
                          ],
                          "carpet": [
                            {
                              "type": "carpet",
                              "baxis": {
                                "minorgridcolor": "white",
                                "gridcolor": "white",
                                "linecolor": "white",
                                "endlinecolor": "#2a3f5f",
                                "startlinecolor": "#2a3f5f"
                              },
                              "aaxis": {
                                "minorgridcolor": "white",
                                "gridcolor": "white",
                                "linecolor": "white",
                                "endlinecolor": "#2a3f5f",
                                "startlinecolor": "#2a3f5f"
                              }
                            }
                          ],
                          "contourcarpet": [
                            {
                              "colorbar": {
                                "outlinewidth": 0,
                                "ticks": ""
                              },
                              "type": "contourcarpet"
                            }
                          ],
                          "heatmap": [
                            {
                              "colorbar": {
                                "outlinewidth": 0,
                                "ticks": ""
                              },
                              "type": "heatmap",
                              "colorscale": [
                                [
                                  0,
                                  "#0d0887"
                                ],
                                [
                                  0.1111111111111111,
                                  "#46039f"
                                ],
                                [
                                  0.2222222222222222,
                                  "#7201a8"
                                ],
                                [
                                  0.3333333333333333,
                                  "#9c179e"
                                ],
                                [
                                  0.4444444444444444,
                                  "#bd3786"
                                ],
                                [
                                  0.5555555555555556,
                                  "#d8576b"
                                ],
                                [
                                  0.6666666666666666,
                                  "#ed7953"
                                ],
                                [
                                  0.7777777777777778,
                                  "#fb9f3a"
                                ],
                                [
                                  0.8888888888888888,
                                  "#fdca26"
                                ],
                                [
                                  1,
                                  "#f0f921"
                                ]
                              ]
                            }
                          ],
                          "scattermapbox": [
                            {
                              "marker": {
                                "colorbar": {
                                  "outlinewidth": 0,
                                  "ticks": ""
                                }
                              },
                              "type": "scattermapbox"
                            }
                          ],
                          "scatter3d": [
                            {
                              "marker": {
                                "colorbar": {
                                  "outlinewidth": 0,
                                  "ticks": ""
                                }
                              },
                              "line": {
                                "colorbar": {
                                  "outlinewidth": 0,
                                  "ticks": ""
                                }
                              },
                              "type": "scatter3d"
                            }
                          ],
                          "scattergl": [
                            {
                              "marker": {
                                "colorbar": {
                                  "outlinewidth": 0,
                                  "ticks": ""
                                }
                              },
                              "type": "scattergl"
                            }
                          ],
                          "scatterternary": [
                            {
                              "marker": {
                                "colorbar": {
                                  "outlinewidth": 0,
                                  "ticks": ""
                                }
                              },
                              "type": "scatterternary"
                            }
                          ],
                          "histogram2d": [
                            {
                              "colorbar": {
                                "outlinewidth": 0,
                                "ticks": ""
                              },
                              "type": "histogram2d",
                              "colorscale": [
                                [
                                  0,
                                  "#0d0887"
                                ],
                                [
                                  0.1111111111111111,
                                  "#46039f"
                                ],
                                [
                                  0.2222222222222222,
                                  "#7201a8"
                                ],
                                [
                                  0.3333333333333333,
                                  "#9c179e"
                                ],
                                [
                                  0.4444444444444444,
                                  "#bd3786"
                                ],
                                [
                                  0.5555555555555556,
                                  "#d8576b"
                                ],
                                [
                                  0.6666666666666666,
                                  "#ed7953"
                                ],
                                [
                                  0.7777777777777778,
                                  "#fb9f3a"
                                ],
                                [
                                  0.8888888888888888,
                                  "#fdca26"
                                ],
                                [
                                  1,
                                  "#f0f921"
                                ]
                              ]
                            }
                          ],
                          "heatmapgl": [
                            {
                              "colorbar": {
                                "outlinewidth": 0,
                                "ticks": ""
                              },
                              "type": "heatmapgl",
                              "colorscale": [
                                [
                                  0,
                                  "#0d0887"
                                ],
                                [
                                  0.1111111111111111,
                                  "#46039f"
                                ],
                                [
                                  0.2222222222222222,
                                  "#7201a8"
                                ],
                                [
                                  0.3333333333333333,
                                  "#9c179e"
                                ],
                                [
                                  0.4444444444444444,
                                  "#bd3786"
                                ],
                                [
                                  0.5555555555555556,
                                  "#d8576b"
                                ],
                                [
                                  0.6666666666666666,
                                  "#ed7953"
                                ],
                                [
                                  0.7777777777777778,
                                  "#fb9f3a"
                                ],
                                [
                                  0.8888888888888888,
                                  "#fdca26"
                                ],
                                [
                                  1,
                                  "#f0f921"
                                ]
                              ]
                            }
                          ],
                          "scatterpolar": [
                            {
                              "marker": {
                                "colorbar": {
                                  "outlinewidth": 0,
                                  "ticks": ""
                                }
                              },
                              "type": "scatterpolar"
                            }
                          ],
                          "histogram": [
                            {
                              "marker": {
                                "pattern": {
                                  "fillmode": "overlay",
                                  "solidity": 0.2,
                                  "size": 10
                                }
                              },
                              "type": "histogram"
                            }
                          ],
                          "scattergeo": [
                            {
                              "marker": {
                                "colorbar": {
                                  "outlinewidth": 0,
                                  "ticks": ""
                                }
                              },
                              "type": "scattergeo"
                            }
                          ],
                          "bar": [
                            {
                              "marker": {
                                "pattern": {
                                  "fillmode": "overlay",
                                  "solidity": 0.2,
                                  "size": 10
                                },
                                "line": {
                                  "color": "#E5ECF6",
                                  "width": 0.5
                                }
                              },
                              "type": "bar",
                              "error_x": {
                                "color": "#2a3f5f"
                              },
                              "error_y": {
                                "color": "#2a3f5f"
                              }
                            }
                          ],
                          "choropleth": [
                            {
                              "colorbar": {
                                "outlinewidth": 0,
                                "ticks": ""
                              },
                              "type": "choropleth"
                            }
                          ],
                          "parcoords": [
                            {
                              "line": {
                                "colorbar": {
                                  "outlinewidth": 0,
                                  "ticks": ""
                                }
                              },
                              "type": "parcoords"
                            }
                          ],
                          "barpolar": [
                            {
                              "marker": {
                                "pattern": {
                                  "fillmode": "overlay",
                                  "solidity": 0.2,
                                  "size": 10
                                },
                                "line": {
                                  "color": "#E5ECF6",
                                  "width": 0.5
                                }
                              },
                              "type": "barpolar"
                            }
                          ],
                          "histogram2dcontour": [
                            {
                              "colorbar": {
                                "outlinewidth": 0,
                                "ticks": ""
                              },
                              "type": "histogram2dcontour",
                              "colorscale": [
                                [
                                  0,
                                  "#0d0887"
                                ],
                                [
                                  0.1111111111111111,
                                  "#46039f"
                                ],
                                [
                                  0.2222222222222222,
                                  "#7201a8"
                                ],
                                [
                                  0.3333333333333333,
                                  "#9c179e"
                                ],
                                [
                                  0.4444444444444444,
                                  "#bd3786"
                                ],
                                [
                                  0.5555555555555556,
                                  "#d8576b"
                                ],
                                [
                                  0.6666666666666666,
                                  "#ed7953"
                                ],
                                [
                                  0.7777777777777778,
                                  "#fb9f3a"
                                ],
                                [
                                  0.8888888888888888,
                                  "#fdca26"
                                ],
                                [
                                  1,
                                  "#f0f921"
                                ]
                              ]
                            }
                          ],
                          "scatter": [
                            {
                              "marker": {
                                "colorbar": {
                                  "outlinewidth": 0,
                                  "ticks": ""
                                }
                              },
                              "type": "scatter"
                            }
                          ]
                        }
                      },
                      "yaxis": {
                        "range": [
                          0,
                          90
                        ],
                        "title": {
                          "text": "Age"
                        }
                      }
                    },
                    "config": {
                      "plotlyServerURL": "https://plot.ly",
                      "linkText": "Export to plot.ly",
                      "showLink": false
                    },
                    "data": [
                      {
                        "orientation": "h",
                        "y": [
                          1,
                          6,
                          11,
                          16,
                          21,
                          26,
                          31,
                          36,
                          41,
                          46,
                          51,
                          56,
                          61,
                          66,
                          71,
                          76,
                          81
                        ],
                        "hoverinfo": "skip",
                        "marker": {
                          "color": "purple"
                        },
                        "x": [
                          5899998,
                          5914871,
                          5420418,
                          5186224,
                          4832694,
                          5925167,
                          6551559,
                          5924392,
                          4753383,
                          2928355,
                          4857821,
                          3463761,
                          3606968,
                          1634636,
                          935508,
                          850963,
                          579229
                        ],
                        "type": "bar",
                        "name": "Men"
                      },
                      {
                        "orientation": "h",
                        "y": [
                          1,
                          6,
                          11,
                          16,
                          21,
                          26,
                          31,
                          36,
                          41,
                          46,
                          51,
                          56,
                          61,
                          66,
                          71,
                          76,
                          81
                        ],
                        "hoverinfo": "skip",
                        "marker": {
                          "color": "pink"
                        },
                        "x": [
                          -5654773,
                          -5729182,
                          -5262056,
                          -4987399,
                          -4648967,
                          -5822730,
                          -6412003,
                          -5885722,
                          -4881939,
                          -3170746,
                          -5606181,
                          -4240794,
                          -5149842,
                          -3698886,
                          -2382361,
                          -2641301,
                          -2528576
                        ],
                        "type": "bar",
                        "name": "Women"
                      }
                    ]
                  }
                },
                "metadata": {}
              }
            ],
            "_view_module": "@jupyter-widgets/output",
            "_model_module_version": "1.0.0",
            "_view_count": null,
            "_view_module_version": "1.0.0",
            "layout": "IPY_MODEL_3c157025eaeb44fb80b2d64c1196801a",
            "_model_module": "@jupyter-widgets/output"
          }
        },
        "310d640c73bd44d782b15471c8e28734": {
          "model_module": "@jupyter-widgets/controls",
          "model_name": "SliderStyleModel",
          "model_module_version": "1.5.0",
          "state": {
            "_view_name": "StyleView",
            "handle_color": null,
            "_model_name": "SliderStyleModel",
            "description_width": "",
            "_view_module": "@jupyter-widgets/base",
            "_model_module_version": "1.5.0",
            "_view_count": null,
            "_view_module_version": "1.2.0",
            "_model_module": "@jupyter-widgets/controls"
          }
        },
        "91bc988751a54128b61016a88b17ac3b": {
          "model_module": "@jupyter-widgets/base",
          "model_name": "LayoutModel",
          "model_module_version": "1.2.0",
          "state": {
            "_view_name": "LayoutView",
            "grid_template_rows": null,
            "right": null,
            "justify_content": null,
            "_view_module": "@jupyter-widgets/base",
            "overflow": null,
            "_model_module_version": "1.2.0",
            "_view_count": null,
            "flex_flow": null,
            "width": null,
            "min_width": null,
            "border": null,
            "align_items": null,
            "bottom": null,
            "_model_module": "@jupyter-widgets/base",
            "top": null,
            "grid_column": null,
            "overflow_y": null,
            "overflow_x": null,
            "grid_auto_flow": null,
            "grid_area": null,
            "grid_template_columns": null,
            "flex": null,
            "_model_name": "LayoutModel",
            "justify_items": null,
            "grid_row": null,
            "max_height": null,
            "align_content": null,
            "visibility": null,
            "align_self": null,
            "height": null,
            "min_height": null,
            "padding": null,
            "grid_auto_rows": null,
            "grid_gap": null,
            "max_width": null,
            "order": null,
            "_view_module_version": "1.2.0",
            "grid_template_areas": null,
            "object_position": null,
            "object_fit": null,
            "grid_auto_columns": null,
            "margin": null,
            "display": null,
            "left": null
          }
        },
        "3c157025eaeb44fb80b2d64c1196801a": {
          "model_module": "@jupyter-widgets/base",
          "model_name": "LayoutModel",
          "model_module_version": "1.2.0",
          "state": {
            "_view_name": "LayoutView",
            "grid_template_rows": null,
            "right": null,
            "justify_content": null,
            "_view_module": "@jupyter-widgets/base",
            "overflow": null,
            "_model_module_version": "1.2.0",
            "_view_count": null,
            "flex_flow": null,
            "width": null,
            "min_width": null,
            "border": null,
            "align_items": null,
            "bottom": null,
            "_model_module": "@jupyter-widgets/base",
            "top": null,
            "grid_column": null,
            "overflow_y": null,
            "overflow_x": null,
            "grid_auto_flow": null,
            "grid_area": null,
            "grid_template_columns": null,
            "flex": null,
            "_model_name": "LayoutModel",
            "justify_items": null,
            "grid_row": null,
            "max_height": null,
            "align_content": null,
            "visibility": null,
            "align_self": null,
            "height": null,
            "min_height": null,
            "padding": null,
            "grid_auto_rows": null,
            "grid_gap": null,
            "max_width": null,
            "order": null,
            "_view_module_version": "1.2.0",
            "grid_template_areas": null,
            "object_position": null,
            "object_fit": null,
            "grid_auto_columns": null,
            "margin": null,
            "display": null,
            "left": null
          }
        }
      }
    }
  },
  "nbformat": 4,
  "nbformat_minor": 0
}